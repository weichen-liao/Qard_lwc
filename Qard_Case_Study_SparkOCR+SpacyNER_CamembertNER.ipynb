{
  "nbformat": 4,
  "nbformat_minor": 0,
  "metadata": {
    "colab": {
      "name": "Qard_Case_Study_SparkOCR+SpacyNER/CamembertNER.ipynb",
      "provenance": [],
      "authorship_tag": "ABX9TyMKShzCfZ/AHdcGtTiXPtN8",
      "include_colab_link": true
    },
    "kernelspec": {
      "name": "python3",
      "display_name": "Python 3"
    },
    "language_info": {
      "name": "python"
    },
    "widgets": {
      "application/vnd.jupyter.widget-state+json": {
        "2f1ef5321f9f45a0b1a03fa999f318a6": {
          "model_module": "@jupyter-widgets/controls",
          "model_name": "HBoxModel",
          "model_module_version": "1.5.0",
          "state": {
            "_view_name": "HBoxView",
            "_dom_classes": [],
            "_model_name": "HBoxModel",
            "_view_module": "@jupyter-widgets/controls",
            "_model_module_version": "1.5.0",
            "_view_count": null,
            "_view_module_version": "1.5.0",
            "box_style": "",
            "layout": "IPY_MODEL_2f87567380bc4a2ebbe7cbdc340f244e",
            "_model_module": "@jupyter-widgets/controls",
            "children": [
              "IPY_MODEL_d56e45ce4af6454a89b2dbc3d7a3529a",
              "IPY_MODEL_89238d8d32b2420ca9e87c92ae6365b3",
              "IPY_MODEL_2d78bd3b21c04615bc60726beeced801"
            ]
          }
        },
        "2f87567380bc4a2ebbe7cbdc340f244e": {
          "model_module": "@jupyter-widgets/base",
          "model_name": "LayoutModel",
          "model_module_version": "1.2.0",
          "state": {
            "_view_name": "LayoutView",
            "grid_template_rows": null,
            "right": null,
            "justify_content": null,
            "_view_module": "@jupyter-widgets/base",
            "overflow": null,
            "_model_module_version": "1.2.0",
            "_view_count": null,
            "flex_flow": null,
            "width": null,
            "min_width": null,
            "border": null,
            "align_items": null,
            "bottom": null,
            "_model_module": "@jupyter-widgets/base",
            "top": null,
            "grid_column": null,
            "overflow_y": null,
            "overflow_x": null,
            "grid_auto_flow": null,
            "grid_area": null,
            "grid_template_columns": null,
            "flex": null,
            "_model_name": "LayoutModel",
            "justify_items": null,
            "grid_row": null,
            "max_height": null,
            "align_content": null,
            "visibility": null,
            "align_self": null,
            "height": null,
            "min_height": null,
            "padding": null,
            "grid_auto_rows": null,
            "grid_gap": null,
            "max_width": null,
            "order": null,
            "_view_module_version": "1.2.0",
            "grid_template_areas": null,
            "object_position": null,
            "object_fit": null,
            "grid_auto_columns": null,
            "margin": null,
            "display": null,
            "left": null
          }
        },
        "d56e45ce4af6454a89b2dbc3d7a3529a": {
          "model_module": "@jupyter-widgets/controls",
          "model_name": "HTMLModel",
          "model_module_version": "1.5.0",
          "state": {
            "_view_name": "HTMLView",
            "style": "IPY_MODEL_d516a6f151714e8faf61a9827e1e0726",
            "_dom_classes": [],
            "description": "",
            "_model_name": "HTMLModel",
            "placeholder": "​",
            "_view_module": "@jupyter-widgets/controls",
            "_model_module_version": "1.5.0",
            "value": "Downloading: 100%",
            "_view_count": null,
            "_view_module_version": "1.5.0",
            "description_tooltip": null,
            "_model_module": "@jupyter-widgets/controls",
            "layout": "IPY_MODEL_b2989824f305421fae99f0f8b4aacbbb"
          }
        },
        "89238d8d32b2420ca9e87c92ae6365b3": {
          "model_module": "@jupyter-widgets/controls",
          "model_name": "FloatProgressModel",
          "model_module_version": "1.5.0",
          "state": {
            "_view_name": "ProgressView",
            "style": "IPY_MODEL_a412e65869084a4191126a25c1f4105b",
            "_dom_classes": [],
            "description": "",
            "_model_name": "FloatProgressModel",
            "bar_style": "success",
            "max": 269,
            "_view_module": "@jupyter-widgets/controls",
            "_model_module_version": "1.5.0",
            "value": 269,
            "_view_count": null,
            "_view_module_version": "1.5.0",
            "orientation": "horizontal",
            "min": 0,
            "description_tooltip": null,
            "_model_module": "@jupyter-widgets/controls",
            "layout": "IPY_MODEL_c5ffef75c85047e9b499e6a18eb6c431"
          }
        },
        "2d78bd3b21c04615bc60726beeced801": {
          "model_module": "@jupyter-widgets/controls",
          "model_name": "HTMLModel",
          "model_module_version": "1.5.0",
          "state": {
            "_view_name": "HTMLView",
            "style": "IPY_MODEL_df7a77891bfd4cb68354bab4f74c5d02",
            "_dom_classes": [],
            "description": "",
            "_model_name": "HTMLModel",
            "placeholder": "​",
            "_view_module": "@jupyter-widgets/controls",
            "_model_module_version": "1.5.0",
            "value": " 269/269 [00:00&lt;00:00, 4.36kB/s]",
            "_view_count": null,
            "_view_module_version": "1.5.0",
            "description_tooltip": null,
            "_model_module": "@jupyter-widgets/controls",
            "layout": "IPY_MODEL_2701f21bffb4425eacbd1786d467b70b"
          }
        },
        "d516a6f151714e8faf61a9827e1e0726": {
          "model_module": "@jupyter-widgets/controls",
          "model_name": "DescriptionStyleModel",
          "model_module_version": "1.5.0",
          "state": {
            "_view_name": "StyleView",
            "_model_name": "DescriptionStyleModel",
            "description_width": "",
            "_view_module": "@jupyter-widgets/base",
            "_model_module_version": "1.5.0",
            "_view_count": null,
            "_view_module_version": "1.2.0",
            "_model_module": "@jupyter-widgets/controls"
          }
        },
        "b2989824f305421fae99f0f8b4aacbbb": {
          "model_module": "@jupyter-widgets/base",
          "model_name": "LayoutModel",
          "model_module_version": "1.2.0",
          "state": {
            "_view_name": "LayoutView",
            "grid_template_rows": null,
            "right": null,
            "justify_content": null,
            "_view_module": "@jupyter-widgets/base",
            "overflow": null,
            "_model_module_version": "1.2.0",
            "_view_count": null,
            "flex_flow": null,
            "width": null,
            "min_width": null,
            "border": null,
            "align_items": null,
            "bottom": null,
            "_model_module": "@jupyter-widgets/base",
            "top": null,
            "grid_column": null,
            "overflow_y": null,
            "overflow_x": null,
            "grid_auto_flow": null,
            "grid_area": null,
            "grid_template_columns": null,
            "flex": null,
            "_model_name": "LayoutModel",
            "justify_items": null,
            "grid_row": null,
            "max_height": null,
            "align_content": null,
            "visibility": null,
            "align_self": null,
            "height": null,
            "min_height": null,
            "padding": null,
            "grid_auto_rows": null,
            "grid_gap": null,
            "max_width": null,
            "order": null,
            "_view_module_version": "1.2.0",
            "grid_template_areas": null,
            "object_position": null,
            "object_fit": null,
            "grid_auto_columns": null,
            "margin": null,
            "display": null,
            "left": null
          }
        },
        "a412e65869084a4191126a25c1f4105b": {
          "model_module": "@jupyter-widgets/controls",
          "model_name": "ProgressStyleModel",
          "model_module_version": "1.5.0",
          "state": {
            "_view_name": "StyleView",
            "_model_name": "ProgressStyleModel",
            "description_width": "",
            "_view_module": "@jupyter-widgets/base",
            "_model_module_version": "1.5.0",
            "_view_count": null,
            "_view_module_version": "1.2.0",
            "bar_color": null,
            "_model_module": "@jupyter-widgets/controls"
          }
        },
        "c5ffef75c85047e9b499e6a18eb6c431": {
          "model_module": "@jupyter-widgets/base",
          "model_name": "LayoutModel",
          "model_module_version": "1.2.0",
          "state": {
            "_view_name": "LayoutView",
            "grid_template_rows": null,
            "right": null,
            "justify_content": null,
            "_view_module": "@jupyter-widgets/base",
            "overflow": null,
            "_model_module_version": "1.2.0",
            "_view_count": null,
            "flex_flow": null,
            "width": null,
            "min_width": null,
            "border": null,
            "align_items": null,
            "bottom": null,
            "_model_module": "@jupyter-widgets/base",
            "top": null,
            "grid_column": null,
            "overflow_y": null,
            "overflow_x": null,
            "grid_auto_flow": null,
            "grid_area": null,
            "grid_template_columns": null,
            "flex": null,
            "_model_name": "LayoutModel",
            "justify_items": null,
            "grid_row": null,
            "max_height": null,
            "align_content": null,
            "visibility": null,
            "align_self": null,
            "height": null,
            "min_height": null,
            "padding": null,
            "grid_auto_rows": null,
            "grid_gap": null,
            "max_width": null,
            "order": null,
            "_view_module_version": "1.2.0",
            "grid_template_areas": null,
            "object_position": null,
            "object_fit": null,
            "grid_auto_columns": null,
            "margin": null,
            "display": null,
            "left": null
          }
        },
        "df7a77891bfd4cb68354bab4f74c5d02": {
          "model_module": "@jupyter-widgets/controls",
          "model_name": "DescriptionStyleModel",
          "model_module_version": "1.5.0",
          "state": {
            "_view_name": "StyleView",
            "_model_name": "DescriptionStyleModel",
            "description_width": "",
            "_view_module": "@jupyter-widgets/base",
            "_model_module_version": "1.5.0",
            "_view_count": null,
            "_view_module_version": "1.2.0",
            "_model_module": "@jupyter-widgets/controls"
          }
        },
        "2701f21bffb4425eacbd1786d467b70b": {
          "model_module": "@jupyter-widgets/base",
          "model_name": "LayoutModel",
          "model_module_version": "1.2.0",
          "state": {
            "_view_name": "LayoutView",
            "grid_template_rows": null,
            "right": null,
            "justify_content": null,
            "_view_module": "@jupyter-widgets/base",
            "overflow": null,
            "_model_module_version": "1.2.0",
            "_view_count": null,
            "flex_flow": null,
            "width": null,
            "min_width": null,
            "border": null,
            "align_items": null,
            "bottom": null,
            "_model_module": "@jupyter-widgets/base",
            "top": null,
            "grid_column": null,
            "overflow_y": null,
            "overflow_x": null,
            "grid_auto_flow": null,
            "grid_area": null,
            "grid_template_columns": null,
            "flex": null,
            "_model_name": "LayoutModel",
            "justify_items": null,
            "grid_row": null,
            "max_height": null,
            "align_content": null,
            "visibility": null,
            "align_self": null,
            "height": null,
            "min_height": null,
            "padding": null,
            "grid_auto_rows": null,
            "grid_gap": null,
            "max_width": null,
            "order": null,
            "_view_module_version": "1.2.0",
            "grid_template_areas": null,
            "object_position": null,
            "object_fit": null,
            "grid_auto_columns": null,
            "margin": null,
            "display": null,
            "left": null
          }
        },
        "ab60ece2390441f2a11d0aa7a262b39a": {
          "model_module": "@jupyter-widgets/controls",
          "model_name": "HBoxModel",
          "model_module_version": "1.5.0",
          "state": {
            "_view_name": "HBoxView",
            "_dom_classes": [],
            "_model_name": "HBoxModel",
            "_view_module": "@jupyter-widgets/controls",
            "_model_module_version": "1.5.0",
            "_view_count": null,
            "_view_module_version": "1.5.0",
            "box_style": "",
            "layout": "IPY_MODEL_c49cb64ad5d54b30a9fdb213f877b4f1",
            "_model_module": "@jupyter-widgets/controls",
            "children": [
              "IPY_MODEL_0bffb7e07dc547f1b59ccd807e2d61b4",
              "IPY_MODEL_79262e13569d4d42a906187df5956a50",
              "IPY_MODEL_9ddc45aa43a44be581d4c8e5142cd1c1"
            ]
          }
        },
        "c49cb64ad5d54b30a9fdb213f877b4f1": {
          "model_module": "@jupyter-widgets/base",
          "model_name": "LayoutModel",
          "model_module_version": "1.2.0",
          "state": {
            "_view_name": "LayoutView",
            "grid_template_rows": null,
            "right": null,
            "justify_content": null,
            "_view_module": "@jupyter-widgets/base",
            "overflow": null,
            "_model_module_version": "1.2.0",
            "_view_count": null,
            "flex_flow": null,
            "width": null,
            "min_width": null,
            "border": null,
            "align_items": null,
            "bottom": null,
            "_model_module": "@jupyter-widgets/base",
            "top": null,
            "grid_column": null,
            "overflow_y": null,
            "overflow_x": null,
            "grid_auto_flow": null,
            "grid_area": null,
            "grid_template_columns": null,
            "flex": null,
            "_model_name": "LayoutModel",
            "justify_items": null,
            "grid_row": null,
            "max_height": null,
            "align_content": null,
            "visibility": null,
            "align_self": null,
            "height": null,
            "min_height": null,
            "padding": null,
            "grid_auto_rows": null,
            "grid_gap": null,
            "max_width": null,
            "order": null,
            "_view_module_version": "1.2.0",
            "grid_template_areas": null,
            "object_position": null,
            "object_fit": null,
            "grid_auto_columns": null,
            "margin": null,
            "display": null,
            "left": null
          }
        },
        "0bffb7e07dc547f1b59ccd807e2d61b4": {
          "model_module": "@jupyter-widgets/controls",
          "model_name": "HTMLModel",
          "model_module_version": "1.5.0",
          "state": {
            "_view_name": "HTMLView",
            "style": "IPY_MODEL_bae65ae8945b4b6a8157c218a28b915b",
            "_dom_classes": [],
            "description": "",
            "_model_name": "HTMLModel",
            "placeholder": "​",
            "_view_module": "@jupyter-widgets/controls",
            "_model_module_version": "1.5.0",
            "value": "Downloading: 100%",
            "_view_count": null,
            "_view_module_version": "1.5.0",
            "description_tooltip": null,
            "_model_module": "@jupyter-widgets/controls",
            "layout": "IPY_MODEL_05d3c6aebf474ab2b8ad0cc3bcb092a0"
          }
        },
        "79262e13569d4d42a906187df5956a50": {
          "model_module": "@jupyter-widgets/controls",
          "model_name": "FloatProgressModel",
          "model_module_version": "1.5.0",
          "state": {
            "_view_name": "ProgressView",
            "style": "IPY_MODEL_c8838895694b481693d601ccc71c0914",
            "_dom_classes": [],
            "description": "",
            "_model_name": "FloatProgressModel",
            "bar_style": "success",
            "max": 892,
            "_view_module": "@jupyter-widgets/controls",
            "_model_module_version": "1.5.0",
            "value": 892,
            "_view_count": null,
            "_view_module_version": "1.5.0",
            "orientation": "horizontal",
            "min": 0,
            "description_tooltip": null,
            "_model_module": "@jupyter-widgets/controls",
            "layout": "IPY_MODEL_9f9feef895ef456cbbe83b29078fde1c"
          }
        },
        "9ddc45aa43a44be581d4c8e5142cd1c1": {
          "model_module": "@jupyter-widgets/controls",
          "model_name": "HTMLModel",
          "model_module_version": "1.5.0",
          "state": {
            "_view_name": "HTMLView",
            "style": "IPY_MODEL_920d325a04ab40e6887b296b012a9d03",
            "_dom_classes": [],
            "description": "",
            "_model_name": "HTMLModel",
            "placeholder": "​",
            "_view_module": "@jupyter-widgets/controls",
            "_model_module_version": "1.5.0",
            "value": " 892/892 [00:00&lt;00:00, 14.2kB/s]",
            "_view_count": null,
            "_view_module_version": "1.5.0",
            "description_tooltip": null,
            "_model_module": "@jupyter-widgets/controls",
            "layout": "IPY_MODEL_9a91cad0cc3141708d6cf232911b46b8"
          }
        },
        "bae65ae8945b4b6a8157c218a28b915b": {
          "model_module": "@jupyter-widgets/controls",
          "model_name": "DescriptionStyleModel",
          "model_module_version": "1.5.0",
          "state": {
            "_view_name": "StyleView",
            "_model_name": "DescriptionStyleModel",
            "description_width": "",
            "_view_module": "@jupyter-widgets/base",
            "_model_module_version": "1.5.0",
            "_view_count": null,
            "_view_module_version": "1.2.0",
            "_model_module": "@jupyter-widgets/controls"
          }
        },
        "05d3c6aebf474ab2b8ad0cc3bcb092a0": {
          "model_module": "@jupyter-widgets/base",
          "model_name": "LayoutModel",
          "model_module_version": "1.2.0",
          "state": {
            "_view_name": "LayoutView",
            "grid_template_rows": null,
            "right": null,
            "justify_content": null,
            "_view_module": "@jupyter-widgets/base",
            "overflow": null,
            "_model_module_version": "1.2.0",
            "_view_count": null,
            "flex_flow": null,
            "width": null,
            "min_width": null,
            "border": null,
            "align_items": null,
            "bottom": null,
            "_model_module": "@jupyter-widgets/base",
            "top": null,
            "grid_column": null,
            "overflow_y": null,
            "overflow_x": null,
            "grid_auto_flow": null,
            "grid_area": null,
            "grid_template_columns": null,
            "flex": null,
            "_model_name": "LayoutModel",
            "justify_items": null,
            "grid_row": null,
            "max_height": null,
            "align_content": null,
            "visibility": null,
            "align_self": null,
            "height": null,
            "min_height": null,
            "padding": null,
            "grid_auto_rows": null,
            "grid_gap": null,
            "max_width": null,
            "order": null,
            "_view_module_version": "1.2.0",
            "grid_template_areas": null,
            "object_position": null,
            "object_fit": null,
            "grid_auto_columns": null,
            "margin": null,
            "display": null,
            "left": null
          }
        },
        "c8838895694b481693d601ccc71c0914": {
          "model_module": "@jupyter-widgets/controls",
          "model_name": "ProgressStyleModel",
          "model_module_version": "1.5.0",
          "state": {
            "_view_name": "StyleView",
            "_model_name": "ProgressStyleModel",
            "description_width": "",
            "_view_module": "@jupyter-widgets/base",
            "_model_module_version": "1.5.0",
            "_view_count": null,
            "_view_module_version": "1.2.0",
            "bar_color": null,
            "_model_module": "@jupyter-widgets/controls"
          }
        },
        "9f9feef895ef456cbbe83b29078fde1c": {
          "model_module": "@jupyter-widgets/base",
          "model_name": "LayoutModel",
          "model_module_version": "1.2.0",
          "state": {
            "_view_name": "LayoutView",
            "grid_template_rows": null,
            "right": null,
            "justify_content": null,
            "_view_module": "@jupyter-widgets/base",
            "overflow": null,
            "_model_module_version": "1.2.0",
            "_view_count": null,
            "flex_flow": null,
            "width": null,
            "min_width": null,
            "border": null,
            "align_items": null,
            "bottom": null,
            "_model_module": "@jupyter-widgets/base",
            "top": null,
            "grid_column": null,
            "overflow_y": null,
            "overflow_x": null,
            "grid_auto_flow": null,
            "grid_area": null,
            "grid_template_columns": null,
            "flex": null,
            "_model_name": "LayoutModel",
            "justify_items": null,
            "grid_row": null,
            "max_height": null,
            "align_content": null,
            "visibility": null,
            "align_self": null,
            "height": null,
            "min_height": null,
            "padding": null,
            "grid_auto_rows": null,
            "grid_gap": null,
            "max_width": null,
            "order": null,
            "_view_module_version": "1.2.0",
            "grid_template_areas": null,
            "object_position": null,
            "object_fit": null,
            "grid_auto_columns": null,
            "margin": null,
            "display": null,
            "left": null
          }
        },
        "920d325a04ab40e6887b296b012a9d03": {
          "model_module": "@jupyter-widgets/controls",
          "model_name": "DescriptionStyleModel",
          "model_module_version": "1.5.0",
          "state": {
            "_view_name": "StyleView",
            "_model_name": "DescriptionStyleModel",
            "description_width": "",
            "_view_module": "@jupyter-widgets/base",
            "_model_module_version": "1.5.0",
            "_view_count": null,
            "_view_module_version": "1.2.0",
            "_model_module": "@jupyter-widgets/controls"
          }
        },
        "9a91cad0cc3141708d6cf232911b46b8": {
          "model_module": "@jupyter-widgets/base",
          "model_name": "LayoutModel",
          "model_module_version": "1.2.0",
          "state": {
            "_view_name": "LayoutView",
            "grid_template_rows": null,
            "right": null,
            "justify_content": null,
            "_view_module": "@jupyter-widgets/base",
            "overflow": null,
            "_model_module_version": "1.2.0",
            "_view_count": null,
            "flex_flow": null,
            "width": null,
            "min_width": null,
            "border": null,
            "align_items": null,
            "bottom": null,
            "_model_module": "@jupyter-widgets/base",
            "top": null,
            "grid_column": null,
            "overflow_y": null,
            "overflow_x": null,
            "grid_auto_flow": null,
            "grid_area": null,
            "grid_template_columns": null,
            "flex": null,
            "_model_name": "LayoutModel",
            "justify_items": null,
            "grid_row": null,
            "max_height": null,
            "align_content": null,
            "visibility": null,
            "align_self": null,
            "height": null,
            "min_height": null,
            "padding": null,
            "grid_auto_rows": null,
            "grid_gap": null,
            "max_width": null,
            "order": null,
            "_view_module_version": "1.2.0",
            "grid_template_areas": null,
            "object_position": null,
            "object_fit": null,
            "grid_auto_columns": null,
            "margin": null,
            "display": null,
            "left": null
          }
        },
        "4b62ab7fc89f42098c4ec2beb8345ace": {
          "model_module": "@jupyter-widgets/controls",
          "model_name": "HBoxModel",
          "model_module_version": "1.5.0",
          "state": {
            "_view_name": "HBoxView",
            "_dom_classes": [],
            "_model_name": "HBoxModel",
            "_view_module": "@jupyter-widgets/controls",
            "_model_module_version": "1.5.0",
            "_view_count": null,
            "_view_module_version": "1.5.0",
            "box_style": "",
            "layout": "IPY_MODEL_4447088ced0e4d51a91ca62b282856ee",
            "_model_module": "@jupyter-widgets/controls",
            "children": [
              "IPY_MODEL_920fbf50862e458dbb0234af95a37074",
              "IPY_MODEL_ca78578b8417444293d7f1d97d185047",
              "IPY_MODEL_e7d74787aadf4670a31658a132fb7ffc"
            ]
          }
        },
        "4447088ced0e4d51a91ca62b282856ee": {
          "model_module": "@jupyter-widgets/base",
          "model_name": "LayoutModel",
          "model_module_version": "1.2.0",
          "state": {
            "_view_name": "LayoutView",
            "grid_template_rows": null,
            "right": null,
            "justify_content": null,
            "_view_module": "@jupyter-widgets/base",
            "overflow": null,
            "_model_module_version": "1.2.0",
            "_view_count": null,
            "flex_flow": null,
            "width": null,
            "min_width": null,
            "border": null,
            "align_items": null,
            "bottom": null,
            "_model_module": "@jupyter-widgets/base",
            "top": null,
            "grid_column": null,
            "overflow_y": null,
            "overflow_x": null,
            "grid_auto_flow": null,
            "grid_area": null,
            "grid_template_columns": null,
            "flex": null,
            "_model_name": "LayoutModel",
            "justify_items": null,
            "grid_row": null,
            "max_height": null,
            "align_content": null,
            "visibility": null,
            "align_self": null,
            "height": null,
            "min_height": null,
            "padding": null,
            "grid_auto_rows": null,
            "grid_gap": null,
            "max_width": null,
            "order": null,
            "_view_module_version": "1.2.0",
            "grid_template_areas": null,
            "object_position": null,
            "object_fit": null,
            "grid_auto_columns": null,
            "margin": null,
            "display": null,
            "left": null
          }
        },
        "920fbf50862e458dbb0234af95a37074": {
          "model_module": "@jupyter-widgets/controls",
          "model_name": "HTMLModel",
          "model_module_version": "1.5.0",
          "state": {
            "_view_name": "HTMLView",
            "style": "IPY_MODEL_80e5facc429a4e6a90fbc5f97b6b82c8",
            "_dom_classes": [],
            "description": "",
            "_model_name": "HTMLModel",
            "placeholder": "​",
            "_view_module": "@jupyter-widgets/controls",
            "_model_module_version": "1.5.0",
            "value": "Downloading: 100%",
            "_view_count": null,
            "_view_module_version": "1.5.0",
            "description_tooltip": null,
            "_model_module": "@jupyter-widgets/controls",
            "layout": "IPY_MODEL_d2856e6f83824957866bdb29d1abd48f"
          }
        },
        "ca78578b8417444293d7f1d97d185047": {
          "model_module": "@jupyter-widgets/controls",
          "model_name": "FloatProgressModel",
          "model_module_version": "1.5.0",
          "state": {
            "_view_name": "ProgressView",
            "style": "IPY_MODEL_bdcee937649a42e080907672687e1ab1",
            "_dom_classes": [],
            "description": "",
            "_model_name": "FloatProgressModel",
            "bar_style": "success",
            "max": 810912,
            "_view_module": "@jupyter-widgets/controls",
            "_model_module_version": "1.5.0",
            "value": 810912,
            "_view_count": null,
            "_view_module_version": "1.5.0",
            "orientation": "horizontal",
            "min": 0,
            "description_tooltip": null,
            "_model_module": "@jupyter-widgets/controls",
            "layout": "IPY_MODEL_9877b56bf3624518a9825d8acac8512f"
          }
        },
        "e7d74787aadf4670a31658a132fb7ffc": {
          "model_module": "@jupyter-widgets/controls",
          "model_name": "HTMLModel",
          "model_module_version": "1.5.0",
          "state": {
            "_view_name": "HTMLView",
            "style": "IPY_MODEL_498172666e304ee6857860ee00860e38",
            "_dom_classes": [],
            "description": "",
            "_model_name": "HTMLModel",
            "placeholder": "​",
            "_view_module": "@jupyter-widgets/controls",
            "_model_module_version": "1.5.0",
            "value": " 792k/792k [00:00&lt;00:00, 2.29MB/s]",
            "_view_count": null,
            "_view_module_version": "1.5.0",
            "description_tooltip": null,
            "_model_module": "@jupyter-widgets/controls",
            "layout": "IPY_MODEL_ea1cbf320eca403f9f37a028d1d4a90b"
          }
        },
        "80e5facc429a4e6a90fbc5f97b6b82c8": {
          "model_module": "@jupyter-widgets/controls",
          "model_name": "DescriptionStyleModel",
          "model_module_version": "1.5.0",
          "state": {
            "_view_name": "StyleView",
            "_model_name": "DescriptionStyleModel",
            "description_width": "",
            "_view_module": "@jupyter-widgets/base",
            "_model_module_version": "1.5.0",
            "_view_count": null,
            "_view_module_version": "1.2.0",
            "_model_module": "@jupyter-widgets/controls"
          }
        },
        "d2856e6f83824957866bdb29d1abd48f": {
          "model_module": "@jupyter-widgets/base",
          "model_name": "LayoutModel",
          "model_module_version": "1.2.0",
          "state": {
            "_view_name": "LayoutView",
            "grid_template_rows": null,
            "right": null,
            "justify_content": null,
            "_view_module": "@jupyter-widgets/base",
            "overflow": null,
            "_model_module_version": "1.2.0",
            "_view_count": null,
            "flex_flow": null,
            "width": null,
            "min_width": null,
            "border": null,
            "align_items": null,
            "bottom": null,
            "_model_module": "@jupyter-widgets/base",
            "top": null,
            "grid_column": null,
            "overflow_y": null,
            "overflow_x": null,
            "grid_auto_flow": null,
            "grid_area": null,
            "grid_template_columns": null,
            "flex": null,
            "_model_name": "LayoutModel",
            "justify_items": null,
            "grid_row": null,
            "max_height": null,
            "align_content": null,
            "visibility": null,
            "align_self": null,
            "height": null,
            "min_height": null,
            "padding": null,
            "grid_auto_rows": null,
            "grid_gap": null,
            "max_width": null,
            "order": null,
            "_view_module_version": "1.2.0",
            "grid_template_areas": null,
            "object_position": null,
            "object_fit": null,
            "grid_auto_columns": null,
            "margin": null,
            "display": null,
            "left": null
          }
        },
        "bdcee937649a42e080907672687e1ab1": {
          "model_module": "@jupyter-widgets/controls",
          "model_name": "ProgressStyleModel",
          "model_module_version": "1.5.0",
          "state": {
            "_view_name": "StyleView",
            "_model_name": "ProgressStyleModel",
            "description_width": "",
            "_view_module": "@jupyter-widgets/base",
            "_model_module_version": "1.5.0",
            "_view_count": null,
            "_view_module_version": "1.2.0",
            "bar_color": null,
            "_model_module": "@jupyter-widgets/controls"
          }
        },
        "9877b56bf3624518a9825d8acac8512f": {
          "model_module": "@jupyter-widgets/base",
          "model_name": "LayoutModel",
          "model_module_version": "1.2.0",
          "state": {
            "_view_name": "LayoutView",
            "grid_template_rows": null,
            "right": null,
            "justify_content": null,
            "_view_module": "@jupyter-widgets/base",
            "overflow": null,
            "_model_module_version": "1.2.0",
            "_view_count": null,
            "flex_flow": null,
            "width": null,
            "min_width": null,
            "border": null,
            "align_items": null,
            "bottom": null,
            "_model_module": "@jupyter-widgets/base",
            "top": null,
            "grid_column": null,
            "overflow_y": null,
            "overflow_x": null,
            "grid_auto_flow": null,
            "grid_area": null,
            "grid_template_columns": null,
            "flex": null,
            "_model_name": "LayoutModel",
            "justify_items": null,
            "grid_row": null,
            "max_height": null,
            "align_content": null,
            "visibility": null,
            "align_self": null,
            "height": null,
            "min_height": null,
            "padding": null,
            "grid_auto_rows": null,
            "grid_gap": null,
            "max_width": null,
            "order": null,
            "_view_module_version": "1.2.0",
            "grid_template_areas": null,
            "object_position": null,
            "object_fit": null,
            "grid_auto_columns": null,
            "margin": null,
            "display": null,
            "left": null
          }
        },
        "498172666e304ee6857860ee00860e38": {
          "model_module": "@jupyter-widgets/controls",
          "model_name": "DescriptionStyleModel",
          "model_module_version": "1.5.0",
          "state": {
            "_view_name": "StyleView",
            "_model_name": "DescriptionStyleModel",
            "description_width": "",
            "_view_module": "@jupyter-widgets/base",
            "_model_module_version": "1.5.0",
            "_view_count": null,
            "_view_module_version": "1.2.0",
            "_model_module": "@jupyter-widgets/controls"
          }
        },
        "ea1cbf320eca403f9f37a028d1d4a90b": {
          "model_module": "@jupyter-widgets/base",
          "model_name": "LayoutModel",
          "model_module_version": "1.2.0",
          "state": {
            "_view_name": "LayoutView",
            "grid_template_rows": null,
            "right": null,
            "justify_content": null,
            "_view_module": "@jupyter-widgets/base",
            "overflow": null,
            "_model_module_version": "1.2.0",
            "_view_count": null,
            "flex_flow": null,
            "width": null,
            "min_width": null,
            "border": null,
            "align_items": null,
            "bottom": null,
            "_model_module": "@jupyter-widgets/base",
            "top": null,
            "grid_column": null,
            "overflow_y": null,
            "overflow_x": null,
            "grid_auto_flow": null,
            "grid_area": null,
            "grid_template_columns": null,
            "flex": null,
            "_model_name": "LayoutModel",
            "justify_items": null,
            "grid_row": null,
            "max_height": null,
            "align_content": null,
            "visibility": null,
            "align_self": null,
            "height": null,
            "min_height": null,
            "padding": null,
            "grid_auto_rows": null,
            "grid_gap": null,
            "max_width": null,
            "order": null,
            "_view_module_version": "1.2.0",
            "grid_template_areas": null,
            "object_position": null,
            "object_fit": null,
            "grid_auto_columns": null,
            "margin": null,
            "display": null,
            "left": null
          }
        },
        "d1668126950b40ad854768d258dd6505": {
          "model_module": "@jupyter-widgets/controls",
          "model_name": "HBoxModel",
          "model_module_version": "1.5.0",
          "state": {
            "_view_name": "HBoxView",
            "_dom_classes": [],
            "_model_name": "HBoxModel",
            "_view_module": "@jupyter-widgets/controls",
            "_model_module_version": "1.5.0",
            "_view_count": null,
            "_view_module_version": "1.5.0",
            "box_style": "",
            "layout": "IPY_MODEL_a6d1f322d9f24bea8530edf03d97662b",
            "_model_module": "@jupyter-widgets/controls",
            "children": [
              "IPY_MODEL_491823ccf47f4a67b0b5b18dbd2bdec4",
              "IPY_MODEL_d7173dd34b94416a9bb344430a26ed63",
              "IPY_MODEL_c3f15c26418d4a1fbe22d92689e844f9"
            ]
          }
        },
        "a6d1f322d9f24bea8530edf03d97662b": {
          "model_module": "@jupyter-widgets/base",
          "model_name": "LayoutModel",
          "model_module_version": "1.2.0",
          "state": {
            "_view_name": "LayoutView",
            "grid_template_rows": null,
            "right": null,
            "justify_content": null,
            "_view_module": "@jupyter-widgets/base",
            "overflow": null,
            "_model_module_version": "1.2.0",
            "_view_count": null,
            "flex_flow": null,
            "width": null,
            "min_width": null,
            "border": null,
            "align_items": null,
            "bottom": null,
            "_model_module": "@jupyter-widgets/base",
            "top": null,
            "grid_column": null,
            "overflow_y": null,
            "overflow_x": null,
            "grid_auto_flow": null,
            "grid_area": null,
            "grid_template_columns": null,
            "flex": null,
            "_model_name": "LayoutModel",
            "justify_items": null,
            "grid_row": null,
            "max_height": null,
            "align_content": null,
            "visibility": null,
            "align_self": null,
            "height": null,
            "min_height": null,
            "padding": null,
            "grid_auto_rows": null,
            "grid_gap": null,
            "max_width": null,
            "order": null,
            "_view_module_version": "1.2.0",
            "grid_template_areas": null,
            "object_position": null,
            "object_fit": null,
            "grid_auto_columns": null,
            "margin": null,
            "display": null,
            "left": null
          }
        },
        "491823ccf47f4a67b0b5b18dbd2bdec4": {
          "model_module": "@jupyter-widgets/controls",
          "model_name": "HTMLModel",
          "model_module_version": "1.5.0",
          "state": {
            "_view_name": "HTMLView",
            "style": "IPY_MODEL_7bad1e03c89242d78e677839fa3157fc",
            "_dom_classes": [],
            "description": "",
            "_model_name": "HTMLModel",
            "placeholder": "​",
            "_view_module": "@jupyter-widgets/controls",
            "_model_module_version": "1.5.0",
            "value": "Downloading: 100%",
            "_view_count": null,
            "_view_module_version": "1.5.0",
            "description_tooltip": null,
            "_model_module": "@jupyter-widgets/controls",
            "layout": "IPY_MODEL_0f141cb584f14a5997e1af75e02ba7cc"
          }
        },
        "d7173dd34b94416a9bb344430a26ed63": {
          "model_module": "@jupyter-widgets/controls",
          "model_name": "FloatProgressModel",
          "model_module_version": "1.5.0",
          "state": {
            "_view_name": "ProgressView",
            "style": "IPY_MODEL_9f64d9b3ad90425f89e6d2614b871b23",
            "_dom_classes": [],
            "description": "",
            "_model_name": "FloatProgressModel",
            "bar_style": "success",
            "max": 210,
            "_view_module": "@jupyter-widgets/controls",
            "_model_module_version": "1.5.0",
            "value": 210,
            "_view_count": null,
            "_view_module_version": "1.5.0",
            "orientation": "horizontal",
            "min": 0,
            "description_tooltip": null,
            "_model_module": "@jupyter-widgets/controls",
            "layout": "IPY_MODEL_8d4f8445925d4cc0bc965e7868ace730"
          }
        },
        "c3f15c26418d4a1fbe22d92689e844f9": {
          "model_module": "@jupyter-widgets/controls",
          "model_name": "HTMLModel",
          "model_module_version": "1.5.0",
          "state": {
            "_view_name": "HTMLView",
            "style": "IPY_MODEL_92925ff6c8a041cc990ef38466ce67d4",
            "_dom_classes": [],
            "description": "",
            "_model_name": "HTMLModel",
            "placeholder": "​",
            "_view_module": "@jupyter-widgets/controls",
            "_model_module_version": "1.5.0",
            "value": " 210/210 [00:00&lt;00:00, 4.71kB/s]",
            "_view_count": null,
            "_view_module_version": "1.5.0",
            "description_tooltip": null,
            "_model_module": "@jupyter-widgets/controls",
            "layout": "IPY_MODEL_33ba34671187401baf1f5b7bebdb080a"
          }
        },
        "7bad1e03c89242d78e677839fa3157fc": {
          "model_module": "@jupyter-widgets/controls",
          "model_name": "DescriptionStyleModel",
          "model_module_version": "1.5.0",
          "state": {
            "_view_name": "StyleView",
            "_model_name": "DescriptionStyleModel",
            "description_width": "",
            "_view_module": "@jupyter-widgets/base",
            "_model_module_version": "1.5.0",
            "_view_count": null,
            "_view_module_version": "1.2.0",
            "_model_module": "@jupyter-widgets/controls"
          }
        },
        "0f141cb584f14a5997e1af75e02ba7cc": {
          "model_module": "@jupyter-widgets/base",
          "model_name": "LayoutModel",
          "model_module_version": "1.2.0",
          "state": {
            "_view_name": "LayoutView",
            "grid_template_rows": null,
            "right": null,
            "justify_content": null,
            "_view_module": "@jupyter-widgets/base",
            "overflow": null,
            "_model_module_version": "1.2.0",
            "_view_count": null,
            "flex_flow": null,
            "width": null,
            "min_width": null,
            "border": null,
            "align_items": null,
            "bottom": null,
            "_model_module": "@jupyter-widgets/base",
            "top": null,
            "grid_column": null,
            "overflow_y": null,
            "overflow_x": null,
            "grid_auto_flow": null,
            "grid_area": null,
            "grid_template_columns": null,
            "flex": null,
            "_model_name": "LayoutModel",
            "justify_items": null,
            "grid_row": null,
            "max_height": null,
            "align_content": null,
            "visibility": null,
            "align_self": null,
            "height": null,
            "min_height": null,
            "padding": null,
            "grid_auto_rows": null,
            "grid_gap": null,
            "max_width": null,
            "order": null,
            "_view_module_version": "1.2.0",
            "grid_template_areas": null,
            "object_position": null,
            "object_fit": null,
            "grid_auto_columns": null,
            "margin": null,
            "display": null,
            "left": null
          }
        },
        "9f64d9b3ad90425f89e6d2614b871b23": {
          "model_module": "@jupyter-widgets/controls",
          "model_name": "ProgressStyleModel",
          "model_module_version": "1.5.0",
          "state": {
            "_view_name": "StyleView",
            "_model_name": "ProgressStyleModel",
            "description_width": "",
            "_view_module": "@jupyter-widgets/base",
            "_model_module_version": "1.5.0",
            "_view_count": null,
            "_view_module_version": "1.2.0",
            "bar_color": null,
            "_model_module": "@jupyter-widgets/controls"
          }
        },
        "8d4f8445925d4cc0bc965e7868ace730": {
          "model_module": "@jupyter-widgets/base",
          "model_name": "LayoutModel",
          "model_module_version": "1.2.0",
          "state": {
            "_view_name": "LayoutView",
            "grid_template_rows": null,
            "right": null,
            "justify_content": null,
            "_view_module": "@jupyter-widgets/base",
            "overflow": null,
            "_model_module_version": "1.2.0",
            "_view_count": null,
            "flex_flow": null,
            "width": null,
            "min_width": null,
            "border": null,
            "align_items": null,
            "bottom": null,
            "_model_module": "@jupyter-widgets/base",
            "top": null,
            "grid_column": null,
            "overflow_y": null,
            "overflow_x": null,
            "grid_auto_flow": null,
            "grid_area": null,
            "grid_template_columns": null,
            "flex": null,
            "_model_name": "LayoutModel",
            "justify_items": null,
            "grid_row": null,
            "max_height": null,
            "align_content": null,
            "visibility": null,
            "align_self": null,
            "height": null,
            "min_height": null,
            "padding": null,
            "grid_auto_rows": null,
            "grid_gap": null,
            "max_width": null,
            "order": null,
            "_view_module_version": "1.2.0",
            "grid_template_areas": null,
            "object_position": null,
            "object_fit": null,
            "grid_auto_columns": null,
            "margin": null,
            "display": null,
            "left": null
          }
        },
        "92925ff6c8a041cc990ef38466ce67d4": {
          "model_module": "@jupyter-widgets/controls",
          "model_name": "DescriptionStyleModel",
          "model_module_version": "1.5.0",
          "state": {
            "_view_name": "StyleView",
            "_model_name": "DescriptionStyleModel",
            "description_width": "",
            "_view_module": "@jupyter-widgets/base",
            "_model_module_version": "1.5.0",
            "_view_count": null,
            "_view_module_version": "1.2.0",
            "_model_module": "@jupyter-widgets/controls"
          }
        },
        "33ba34671187401baf1f5b7bebdb080a": {
          "model_module": "@jupyter-widgets/base",
          "model_name": "LayoutModel",
          "model_module_version": "1.2.0",
          "state": {
            "_view_name": "LayoutView",
            "grid_template_rows": null,
            "right": null,
            "justify_content": null,
            "_view_module": "@jupyter-widgets/base",
            "overflow": null,
            "_model_module_version": "1.2.0",
            "_view_count": null,
            "flex_flow": null,
            "width": null,
            "min_width": null,
            "border": null,
            "align_items": null,
            "bottom": null,
            "_model_module": "@jupyter-widgets/base",
            "top": null,
            "grid_column": null,
            "overflow_y": null,
            "overflow_x": null,
            "grid_auto_flow": null,
            "grid_area": null,
            "grid_template_columns": null,
            "flex": null,
            "_model_name": "LayoutModel",
            "justify_items": null,
            "grid_row": null,
            "max_height": null,
            "align_content": null,
            "visibility": null,
            "align_self": null,
            "height": null,
            "min_height": null,
            "padding": null,
            "grid_auto_rows": null,
            "grid_gap": null,
            "max_width": null,
            "order": null,
            "_view_module_version": "1.2.0",
            "grid_template_areas": null,
            "object_position": null,
            "object_fit": null,
            "grid_auto_columns": null,
            "margin": null,
            "display": null,
            "left": null
          }
        },
        "8b41942b3c004ead9ac604c08cb0ff3b": {
          "model_module": "@jupyter-widgets/controls",
          "model_name": "HBoxModel",
          "model_module_version": "1.5.0",
          "state": {
            "_view_name": "HBoxView",
            "_dom_classes": [],
            "_model_name": "HBoxModel",
            "_view_module": "@jupyter-widgets/controls",
            "_model_module_version": "1.5.0",
            "_view_count": null,
            "_view_module_version": "1.5.0",
            "box_style": "",
            "layout": "IPY_MODEL_7fa26ad6468042b489b735d5457eb0a9",
            "_model_module": "@jupyter-widgets/controls",
            "children": [
              "IPY_MODEL_0680a23f46564834b916d11fc4806807",
              "IPY_MODEL_377fa31d5488483c961b618642ebe8f5",
              "IPY_MODEL_54eba87f5dc34965885e93c591f256c6"
            ]
          }
        },
        "7fa26ad6468042b489b735d5457eb0a9": {
          "model_module": "@jupyter-widgets/base",
          "model_name": "LayoutModel",
          "model_module_version": "1.2.0",
          "state": {
            "_view_name": "LayoutView",
            "grid_template_rows": null,
            "right": null,
            "justify_content": null,
            "_view_module": "@jupyter-widgets/base",
            "overflow": null,
            "_model_module_version": "1.2.0",
            "_view_count": null,
            "flex_flow": null,
            "width": null,
            "min_width": null,
            "border": null,
            "align_items": null,
            "bottom": null,
            "_model_module": "@jupyter-widgets/base",
            "top": null,
            "grid_column": null,
            "overflow_y": null,
            "overflow_x": null,
            "grid_auto_flow": null,
            "grid_area": null,
            "grid_template_columns": null,
            "flex": null,
            "_model_name": "LayoutModel",
            "justify_items": null,
            "grid_row": null,
            "max_height": null,
            "align_content": null,
            "visibility": null,
            "align_self": null,
            "height": null,
            "min_height": null,
            "padding": null,
            "grid_auto_rows": null,
            "grid_gap": null,
            "max_width": null,
            "order": null,
            "_view_module_version": "1.2.0",
            "grid_template_areas": null,
            "object_position": null,
            "object_fit": null,
            "grid_auto_columns": null,
            "margin": null,
            "display": null,
            "left": null
          }
        },
        "0680a23f46564834b916d11fc4806807": {
          "model_module": "@jupyter-widgets/controls",
          "model_name": "HTMLModel",
          "model_module_version": "1.5.0",
          "state": {
            "_view_name": "HTMLView",
            "style": "IPY_MODEL_9e25206e791a4820b8253b3448344df2",
            "_dom_classes": [],
            "description": "",
            "_model_name": "HTMLModel",
            "placeholder": "​",
            "_view_module": "@jupyter-widgets/controls",
            "_model_module_version": "1.5.0",
            "value": "Downloading: 100%",
            "_view_count": null,
            "_view_module_version": "1.5.0",
            "description_tooltip": null,
            "_model_module": "@jupyter-widgets/controls",
            "layout": "IPY_MODEL_474c0c3004c14fb59107ffb2f3125fc0"
          }
        },
        "377fa31d5488483c961b618642ebe8f5": {
          "model_module": "@jupyter-widgets/controls",
          "model_name": "FloatProgressModel",
          "model_module_version": "1.5.0",
          "state": {
            "_view_name": "ProgressView",
            "style": "IPY_MODEL_7edb7f4f64d2459783a26edb72c65958",
            "_dom_classes": [],
            "description": "",
            "_model_name": "FloatProgressModel",
            "bar_style": "success",
            "max": 440227047,
            "_view_module": "@jupyter-widgets/controls",
            "_model_module_version": "1.5.0",
            "value": 440227047,
            "_view_count": null,
            "_view_module_version": "1.5.0",
            "orientation": "horizontal",
            "min": 0,
            "description_tooltip": null,
            "_model_module": "@jupyter-widgets/controls",
            "layout": "IPY_MODEL_2b81bbf7adbf44aba5f00568de9603bb"
          }
        },
        "54eba87f5dc34965885e93c591f256c6": {
          "model_module": "@jupyter-widgets/controls",
          "model_name": "HTMLModel",
          "model_module_version": "1.5.0",
          "state": {
            "_view_name": "HTMLView",
            "style": "IPY_MODEL_a5104bb967cc4826bfdb321ddeaa84d0",
            "_dom_classes": [],
            "description": "",
            "_model_name": "HTMLModel",
            "placeholder": "​",
            "_view_module": "@jupyter-widgets/controls",
            "_model_module_version": "1.5.0",
            "value": " 420M/420M [00:11&lt;00:00, 35.0MB/s]",
            "_view_count": null,
            "_view_module_version": "1.5.0",
            "description_tooltip": null,
            "_model_module": "@jupyter-widgets/controls",
            "layout": "IPY_MODEL_1c30c146cb254e2bb17c54afecaefcbb"
          }
        },
        "9e25206e791a4820b8253b3448344df2": {
          "model_module": "@jupyter-widgets/controls",
          "model_name": "DescriptionStyleModel",
          "model_module_version": "1.5.0",
          "state": {
            "_view_name": "StyleView",
            "_model_name": "DescriptionStyleModel",
            "description_width": "",
            "_view_module": "@jupyter-widgets/base",
            "_model_module_version": "1.5.0",
            "_view_count": null,
            "_view_module_version": "1.2.0",
            "_model_module": "@jupyter-widgets/controls"
          }
        },
        "474c0c3004c14fb59107ffb2f3125fc0": {
          "model_module": "@jupyter-widgets/base",
          "model_name": "LayoutModel",
          "model_module_version": "1.2.0",
          "state": {
            "_view_name": "LayoutView",
            "grid_template_rows": null,
            "right": null,
            "justify_content": null,
            "_view_module": "@jupyter-widgets/base",
            "overflow": null,
            "_model_module_version": "1.2.0",
            "_view_count": null,
            "flex_flow": null,
            "width": null,
            "min_width": null,
            "border": null,
            "align_items": null,
            "bottom": null,
            "_model_module": "@jupyter-widgets/base",
            "top": null,
            "grid_column": null,
            "overflow_y": null,
            "overflow_x": null,
            "grid_auto_flow": null,
            "grid_area": null,
            "grid_template_columns": null,
            "flex": null,
            "_model_name": "LayoutModel",
            "justify_items": null,
            "grid_row": null,
            "max_height": null,
            "align_content": null,
            "visibility": null,
            "align_self": null,
            "height": null,
            "min_height": null,
            "padding": null,
            "grid_auto_rows": null,
            "grid_gap": null,
            "max_width": null,
            "order": null,
            "_view_module_version": "1.2.0",
            "grid_template_areas": null,
            "object_position": null,
            "object_fit": null,
            "grid_auto_columns": null,
            "margin": null,
            "display": null,
            "left": null
          }
        },
        "7edb7f4f64d2459783a26edb72c65958": {
          "model_module": "@jupyter-widgets/controls",
          "model_name": "ProgressStyleModel",
          "model_module_version": "1.5.0",
          "state": {
            "_view_name": "StyleView",
            "_model_name": "ProgressStyleModel",
            "description_width": "",
            "_view_module": "@jupyter-widgets/base",
            "_model_module_version": "1.5.0",
            "_view_count": null,
            "_view_module_version": "1.2.0",
            "bar_color": null,
            "_model_module": "@jupyter-widgets/controls"
          }
        },
        "2b81bbf7adbf44aba5f00568de9603bb": {
          "model_module": "@jupyter-widgets/base",
          "model_name": "LayoutModel",
          "model_module_version": "1.2.0",
          "state": {
            "_view_name": "LayoutView",
            "grid_template_rows": null,
            "right": null,
            "justify_content": null,
            "_view_module": "@jupyter-widgets/base",
            "overflow": null,
            "_model_module_version": "1.2.0",
            "_view_count": null,
            "flex_flow": null,
            "width": null,
            "min_width": null,
            "border": null,
            "align_items": null,
            "bottom": null,
            "_model_module": "@jupyter-widgets/base",
            "top": null,
            "grid_column": null,
            "overflow_y": null,
            "overflow_x": null,
            "grid_auto_flow": null,
            "grid_area": null,
            "grid_template_columns": null,
            "flex": null,
            "_model_name": "LayoutModel",
            "justify_items": null,
            "grid_row": null,
            "max_height": null,
            "align_content": null,
            "visibility": null,
            "align_self": null,
            "height": null,
            "min_height": null,
            "padding": null,
            "grid_auto_rows": null,
            "grid_gap": null,
            "max_width": null,
            "order": null,
            "_view_module_version": "1.2.0",
            "grid_template_areas": null,
            "object_position": null,
            "object_fit": null,
            "grid_auto_columns": null,
            "margin": null,
            "display": null,
            "left": null
          }
        },
        "a5104bb967cc4826bfdb321ddeaa84d0": {
          "model_module": "@jupyter-widgets/controls",
          "model_name": "DescriptionStyleModel",
          "model_module_version": "1.5.0",
          "state": {
            "_view_name": "StyleView",
            "_model_name": "DescriptionStyleModel",
            "description_width": "",
            "_view_module": "@jupyter-widgets/base",
            "_model_module_version": "1.5.0",
            "_view_count": null,
            "_view_module_version": "1.2.0",
            "_model_module": "@jupyter-widgets/controls"
          }
        },
        "1c30c146cb254e2bb17c54afecaefcbb": {
          "model_module": "@jupyter-widgets/base",
          "model_name": "LayoutModel",
          "model_module_version": "1.2.0",
          "state": {
            "_view_name": "LayoutView",
            "grid_template_rows": null,
            "right": null,
            "justify_content": null,
            "_view_module": "@jupyter-widgets/base",
            "overflow": null,
            "_model_module_version": "1.2.0",
            "_view_count": null,
            "flex_flow": null,
            "width": null,
            "min_width": null,
            "border": null,
            "align_items": null,
            "bottom": null,
            "_model_module": "@jupyter-widgets/base",
            "top": null,
            "grid_column": null,
            "overflow_y": null,
            "overflow_x": null,
            "grid_auto_flow": null,
            "grid_area": null,
            "grid_template_columns": null,
            "flex": null,
            "_model_name": "LayoutModel",
            "justify_items": null,
            "grid_row": null,
            "max_height": null,
            "align_content": null,
            "visibility": null,
            "align_self": null,
            "height": null,
            "min_height": null,
            "padding": null,
            "grid_auto_rows": null,
            "grid_gap": null,
            "max_width": null,
            "order": null,
            "_view_module_version": "1.2.0",
            "grid_template_areas": null,
            "object_position": null,
            "object_fit": null,
            "grid_auto_columns": null,
            "margin": null,
            "display": null,
            "left": null
          }
        }
      }
    }
  },
  "cells": [
    {
      "cell_type": "markdown",
      "metadata": {
        "id": "view-in-github",
        "colab_type": "text"
      },
      "source": [
        "<a href=\"https://colab.research.google.com/github/weichen-liao/Qard_lwc/blob/main/Qard_Case_Study_SparkOCR%2BSpacyNER_CamembertNER.ipynb\" target=\"_parent\"><img src=\"https://colab.research.google.com/assets/colab-badge.svg\" alt=\"Open In Colab\"/></a>"
      ]
    },
    {
      "cell_type": "markdown",
      "metadata": {
        "id": "5ug4aFmYBDIt"
      },
      "source": [
        "# Description\n",
        "In this notebook, you can find the spark implementation of extracting company entities(ORG) from pdf\n",
        "\n",
        "The OCR is based on Spark-OCR: https://github.com/JohnSnowLabs/spark-ocr-workshop\n",
        "\n",
        "Spark OCR can extract texts from PDF files with relatively good accuracy. However, it's not free to use.\n",
        "\n",
        "The NER is tried on 2 methods: Spacy-FR and Camembert. Comparison is made on these 2 methods\n",
        "\n",
        "Conclusions are given in the end of this notebook\n",
        "\n"
      ]
    },
    {
      "cell_type": "markdown",
      "metadata": {
        "id": "ix-iY89j_7A8"
      },
      "source": [
        "### Upload the files: pdf & licence key.json"
      ]
    },
    {
      "cell_type": "code",
      "metadata": {
        "colab": {
          "resources": {
            "http://localhost:8080/nbextensions/google.colab/files.js": {
              "data": "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",
              "ok": true,
              "headers": [
                [
                  "content-type",
                  "application/javascript"
                ]
              ],
              "status": 200,
              "status_text": ""
            }
          },
          "base_uri": "https://localhost:8080/",
          "height": 73
        },
        "id": "kLUPBnE-ADcy",
        "outputId": "7f5a944d-3a6b-4861-e538-527c6f64f561"
      },
      "source": [
        "from google.colab import files\n",
        "uploaded = files.upload()"
      ],
      "execution_count": 2,
      "outputs": [
        {
          "output_type": "display_data",
          "data": {
            "text/html": [
              "\n",
              "     <input type=\"file\" id=\"files-0d7ec7a5-c836-45e5-b4ae-0729c115c069\" name=\"files[]\" multiple disabled\n",
              "        style=\"border:none\" />\n",
              "     <output id=\"result-0d7ec7a5-c836-45e5-b4ae-0729c115c069\">\n",
              "      Upload widget is only available when the cell has been executed in the\n",
              "      current browser session. Please rerun this cell to enable.\n",
              "      </output>\n",
              "      <script src=\"/nbextensions/google.colab/files.js\"></script> "
            ],
            "text/plain": [
              "<IPython.core.display.HTML object>"
            ]
          },
          "metadata": {}
        },
        {
          "output_type": "stream",
          "name": "stdout",
          "text": [
            "Saving test1.pdf to test1.pdf\n"
          ]
        }
      ]
    },
    {
      "cell_type": "code",
      "metadata": {
        "colab": {
          "base_uri": "https://localhost:8080/"
        },
        "id": "fhbOz75UAFW_",
        "outputId": "6d837e44-d4b4-4e44-e919-39e19e61d44d"
      },
      "source": [
        "!ls"
      ],
      "execution_count": 3,
      "outputs": [
        {
          "output_type": "stream",
          "name": "stdout",
          "text": [
            "sample_data  spark_nlp_for_healthcare_spark_ocr_3346.json  test1.pdf\n"
          ]
        }
      ]
    },
    {
      "cell_type": "markdown",
      "metadata": {
        "id": "hQQSGB44AUPu"
      },
      "source": [
        "### Read licence key"
      ]
    },
    {
      "cell_type": "code",
      "metadata": {
        "colab": {
          "base_uri": "https://localhost:8080/"
        },
        "id": "rZPRAMcTANHo",
        "outputId": "ac2c087b-09c4-480e-c4d9-67b410ea68e5"
      },
      "source": [
        "import os\n",
        "import json\n",
        "\n",
        "with open('spark_nlp_for_healthcare_spark_ocr_3346.json') as f:\n",
        "    license_keys = json.load(f)\n",
        "\n",
        "secret = license_keys['SPARK_OCR_SECRET']\n",
        "os.environ['SPARK_OCR_LICENSE'] = license_keys['SPARK_OCR_LICENSE']\n",
        "os.environ['JSL_OCR_LICENSE'] = license_keys['SPARK_OCR_LICENSE']\n",
        "version = secret.split(\"-\")[0]\n",
        "print ('Spark OCR Version:', version)"
      ],
      "execution_count": 6,
      "outputs": [
        {
          "output_type": "stream",
          "name": "stdout",
          "text": [
            "Spark OCR Version: 3.8.0\n"
          ]
        }
      ]
    },
    {
      "cell_type": "markdown",
      "metadata": {
        "id": "Fmwr0G7AAeCo"
      },
      "source": [
        "### Install Dependencies"
      ]
    },
    {
      "cell_type": "code",
      "metadata": {
        "id": "0zLwxHTVAXv9"
      },
      "source": [
        "# Install Java\n",
        "!apt-get update\n",
        "!apt-get install -y openjdk-8-jdk\n",
        "!java -version\n",
        "\n",
        "# Install pyspark, SparkOCR, and SparkNLP\n",
        "!pip install --ignore-installed -q pyspark==2.4.4\n",
        "# Insall Spark Ocr from pypi using secret\n",
        "!python -m pip install --upgrade spark-ocr==$version  --extra-index-url https://pypi.johnsnowlabs.com/$secret\n",
        "# or install from local path\n",
        "# %pip install --user ../../python/dist/spark-ocr-[version].tar.gz\n",
        "!pip install --ignore-installed -q spark-nlp==2.5.2\n",
        "\n",
        "# install spacy\n",
        "! pip install spacy\n",
        "! python -m spacy download en_core_web_sm\n",
        "! python -m spacy download fr_core_news_sm\n",
        "\n",
        "# install transformer for camembert-ner NER\n",
        "! pip install transformers\n",
        "! pip install sentencepiece"
      ],
      "execution_count": null,
      "outputs": []
    },
    {
      "cell_type": "markdown",
      "metadata": {
        "id": "mZxdtrHKAxZT"
      },
      "source": [
        "### Import Libraries"
      ]
    },
    {
      "cell_type": "code",
      "metadata": {
        "id": "rCGAuoveAkUN"
      },
      "source": [
        "import pandas as pd\n",
        "import numpy as np\n",
        "import os\n",
        "\n",
        "#Pyspark Imports\n",
        "from pyspark.sql import SparkSession\n",
        "from pyspark.ml import PipelineModel\n",
        "from pyspark.sql import functions as F\n",
        "\n",
        "# Necessary imports from Spark OCR library\n",
        "from sparkocr import start\n",
        "from sparkocr.transformers import *\n",
        "from sparkocr.enums import *\n",
        "from sparkocr.utils import display_image, to_pil_image\n",
        "from sparkocr.metrics import score\n",
        "import pkg_resources\n",
        "\n",
        "# import sparknlp packages\n",
        "from sparknlp.annotator import *\n",
        "from sparknlp.base import *\n",
        "\n",
        "os.environ[\"JAVA_HOME\"] = \"/usr/lib/jvm/java-8-openjdk-amd64\"\n",
        "os.environ[\"PATH\"] = os.environ[\"JAVA_HOME\"] + \"/bin:\" + os.environ[\"PATH\"]"
      ],
      "execution_count": 8,
      "outputs": []
    },
    {
      "cell_type": "markdown",
      "metadata": {
        "id": "fSbVOxFjCLSY"
      },
      "source": [
        "### Construct the OCR pipeline"
      ]
    },
    {
      "cell_type": "code",
      "metadata": {
        "id": "sh_Ac6AiCJVD"
      },
      "source": [
        "pdf_to_image = PdfToImage() \\\n",
        "            .setInputCol(\"content\") \\\n",
        "            .setOutputCol(\"image_raw\") \\\n",
        "            .setKeepInput(True)\n",
        "\n",
        "# Transform image to the binary color model\n",
        "binarizer = ImageBinarizer() \\\n",
        "            .setInputCol(\"image_raw\") \\\n",
        "            .setOutputCol(\"image\") \\\n",
        "            .setThreshold(130)\n",
        "# Run OCR for each region\n",
        "ocr = ImageToText() \\\n",
        "            .setInputCol(\"image\") \\\n",
        "            .setOutputCol(\"text\") \\\n",
        "            .setIgnoreResolution(False) \\\n",
        "            .setPageSegMode(PageSegmentationMode.SPARSE_TEXT) \\\n",
        "            .setConfidenceThreshold(60)\n",
        "\n",
        "#Render text with positions to Pdf document.\n",
        "textToPdf = TextToPdf() \\\n",
        "            .setInputCol(\"positions\") \\\n",
        "            .setInputImage(\"image\") \\\n",
        "            .setInputText(\"text\") \\\n",
        "            .setOutputCol(\"pdf\") \\\n",
        "            .setInputContent(\"content\")\n",
        "# OCR pipeline\n",
        "pipeline = PipelineModel(stages=[\n",
        "            pdf_to_image,\n",
        "            binarizer,\n",
        "            ocr,\n",
        "            textToPdf\n",
        "        ])"
      ],
      "execution_count": 13,
      "outputs": []
    },
    {
      "cell_type": "markdown",
      "metadata": {
        "id": "-L0t-yWSBLSc"
      },
      "source": [
        "### Start Spark Session"
      ]
    },
    {
      "cell_type": "code",
      "metadata": {
        "colab": {
          "base_uri": "https://localhost:8080/",
          "height": 289
        },
        "id": "39kGQKZJBHhv",
        "outputId": "c148ecc2-2fbb-47bf-827d-e3695081758c"
      },
      "source": [
        "spark = start(secret=secret)\n",
        "spark"
      ],
      "execution_count": 9,
      "outputs": [
        {
          "output_type": "stream",
          "name": "stdout",
          "text": [
            "Spark version: 3.0.2\n",
            "Spark NLP version: 2.5.2\n",
            "Spark OCR version: 3.8.0\n",
            "\n"
          ]
        },
        {
          "output_type": "execute_result",
          "data": {
            "text/html": [
              "\n",
              "            <div>\n",
              "                <p><b>SparkSession - in-memory</b></p>\n",
              "                \n",
              "        <div>\n",
              "            <p><b>SparkContext</b></p>\n",
              "\n",
              "            <p><a href=\"http://130901d8638d:4040\">Spark UI</a></p>\n",
              "\n",
              "            <dl>\n",
              "              <dt>Version</dt>\n",
              "                <dd><code>v3.0.2</code></dd>\n",
              "              <dt>Master</dt>\n",
              "                <dd><code>local[*]</code></dd>\n",
              "              <dt>AppName</dt>\n",
              "                <dd><code>Spark OCR</code></dd>\n",
              "            </dl>\n",
              "        </div>\n",
              "        \n",
              "            </div>\n",
              "        "
            ],
            "text/plain": [
              "<pyspark.sql.session.SparkSession at 0x7fdbc43799d0>"
            ]
          },
          "metadata": {},
          "execution_count": 9
        }
      ]
    },
    {
      "cell_type": "markdown",
      "metadata": {
        "id": "f85bWsFmBRVR"
      },
      "source": [
        "### Load the pdf"
      ]
    },
    {
      "cell_type": "code",
      "metadata": {
        "colab": {
          "base_uri": "https://localhost:8080/"
        },
        "id": "6y6P2A6rBNsM",
        "outputId": "2dfafc31-df9c-4271-9890-b0b9d9a0abef"
      },
      "source": [
        "image_df = spark.read.format(\"binaryFile\").load('test1.pdf').cache()\n",
        "image_df.show()"
      ],
      "execution_count": 10,
      "outputs": [
        {
          "output_type": "stream",
          "name": "stdout",
          "text": [
            "+--------------------+-------------------+------+--------------------+\n",
            "|                path|   modificationTime|length|             content|\n",
            "+--------------------+-------------------+------+--------------------+\n",
            "|file:/content/tes...|2021-11-22 00:16:55|208711|[25 50 44 46 2D 3...|\n",
            "+--------------------+-------------------+------+--------------------+\n",
            "\n"
          ]
        }
      ]
    },
    {
      "cell_type": "markdown",
      "metadata": {
        "id": "Ns_a8JRJCToT"
      },
      "source": [
        "### Run OCR pipeline on every page"
      ]
    },
    {
      "cell_type": "code",
      "metadata": {
        "id": "9dL9_sjJBVHy"
      },
      "source": [
        "result = pipeline.transform(image_df).cache()\n",
        "result_arr = []\n",
        "for r in result.distinct().collect():\n",
        "  for page in r.text:\n",
        "    result_arr.append(page)"
      ],
      "execution_count": 15,
      "outputs": []
    },
    {
      "cell_type": "markdown",
      "metadata": {
        "id": "_oB5Z7fjCkyM"
      },
      "source": [
        "### Spacy NER"
      ]
    },
    {
      "cell_type": "code",
      "metadata": {
        "colab": {
          "base_uri": "https://localhost:8080/",
          "height": 1000
        },
        "id": "__3Ft2rsBnek",
        "outputId": "e30d98e7-78e4-4587-c5e4-f231db9c823f"
      },
      "source": [
        "import spacy\n",
        "from spacy import displacy\n",
        "import fr_core_news_sm\n",
        "\n",
        "nlp = fr_core_news_sm.load()\n",
        "for i, text in enumerate(result_arr):\n",
        "  print('----------------------------', 'page', i, '----------------------------')\n",
        "  doc = nlp(text)\n",
        "  displacy.render(doc, style='ent',jupyter=True, options={'ents': ['ORG', 'PRODUCT']})\n"
      ],
      "execution_count": 27,
      "outputs": [
        {
          "output_type": "stream",
          "name": "stdout",
          "text": [
            "---------------------------- page 0 ----------------------------\n"
          ]
        },
        {
          "output_type": "display_data",
          "data": {
            "text/html": [
              "<span class=\"tex2jax_ignore\"><div class=\"entities\" style=\"line-height: 2.5; direction: ltr\">SOCIETE A RESPONSABILITE LIMITEE\n",
              "\n",
              "TUR - MAN</br></br>STATUTS MIS A JOUR</br></br>AU 18 AOUT 2011\n",
              "\n",
              "</div></span>"
            ],
            "text/plain": [
              "<IPython.core.display.HTML object>"
            ]
          },
          "metadata": {}
        },
        {
          "output_type": "stream",
          "name": "stdout",
          "text": [
            "---------------------------- page 1 ----------------------------\n"
          ]
        },
        {
          "output_type": "display_data",
          "data": {
            "text/html": [
              "<span class=\"tex2jax_ignore\"><div class=\"entities\" style=\"line-height: 2.5; direction: ltr\">Les soussignés :</br></br>Monsieur TUREMEN Suleyman</br></br>Né le : 17 Novembre 1968 4 \n",
              "<mark class=\"entity\" style=\"background: #7aecec; padding: 0.45em 0.6em; margin: 0 0.25em; line-height: 1; border-radius: 0.35em;\">\n",
              "    CIVRIL\n",
              "    <span style=\"font-size: 0.8em; font-weight: bold; line-height: 1; border-radius: 0.35em; text-transform: uppercase; vertical-align: middle; margin-left: 0.5rem\">ORG</span>\n",
              "</mark>\n",
              " (Turquie\n",
              "\n",
              "Domicilié : 7, rue des Pommiers — 76410 SAINT AUBIN LES ELBEUF\n",
              "\n",
              "Nationalité : Turque\n",
              "\n",
              "Titre de séjour N° 750252713 — valable jusqu’au 02 Mai 2014\n",
              "\n",
              "Monsieur YILANCI Sezai</br></br>Né le: 4 Décembre 1974 4 CIVRIL (Turquie)</br></br>Domicilié : 5, place des Etoiles Escal.3 - 93230 ROMAINVILLE</br></br>Nationalité : Turque\n",
              "\n",
              "Titre de séjour N° 763034864 — valable jusqu’au 22 Janvier 2011</br></br>Monsieur ERDOGDU Almet</br></br>Né le : 17 Novembre 1972 a CIVRIL (Turquie)</br></br>Domicili¢ : Cité Youri Gargarine — \n",
              "<mark class=\"entity\" style=\"background: #7aecec; padding: 0.45em 0.6em; margin: 0 0.25em; line-height: 1; border-radius: 0.35em;\">\n",
              "    Batiment J\n",
              "    <span style=\"font-size: 0.8em; font-weight: bold; line-height: 1; border-radius: 0.35em; text-transform: uppercase; vertical-align: middle; margin-left: 0.5rem\">ORG</span>\n",
              "</mark>\n",
              " — 93230 - ROMAINVILLE\n",
              "\n",
              "Nationalité : Turque\n",
              "\n",
              "Ont convenu ce qui suit :</br></br>Article 1 - FORME\n",
              "\n",
              "Il est formé entre les soussignés une société 2 responsabilité limitée, qui sera régie par les lois en vigueur ainsi</br></br>que par les présents statuts.</br></br>Article 2— OBJET SOCIAL</br></br>La société a pour objet toutes activités d’entreprise de maconnerie neuf et rénovation et généralement toutes</br></br>operations commerciales, financiéres, mobiligres ou immobiliéres, pouvant se rattacher directement ou</br></br>indirectement &amp; |’objet social ou susceptible d’en facilité l’extension ou le développement ainsi que la vente de</br></br>commerce en détail,</br></br>Article 3— DENOMINATION\n",
              "\n",
              "La dénomination de la société est : TUR — MAN</br></br>Dans tous les actes et documents émanant de la société, la dénomination sociale doit étre précédée ou snivie</br></br>immédiatement des mots « société 4 responsabilité limitée » on des initiales « S.A.R.L » et de |’énonciation du</br></br>montant du capital social.</br></br>Article 4— SIEGE SOCIAL</br></br>Le siége social est fixé 427000 EVREUX\n",
              "\n",
              "130, Rue Clément Ader\n",
              "\n",
              "Tl powrra étre transféré dans tout autre endroit dé la méme ville par simple décision du gérant, et en tout autre lieu\n",
              "\n",
              "en vertu d’une décision extraordinaire des associés\n",
              "</div></span>"
            ],
            "text/plain": [
              "<IPython.core.display.HTML object>"
            ]
          },
          "metadata": {}
        },
        {
          "output_type": "stream",
          "name": "stdout",
          "text": [
            "---------------------------- page 2 ----------------------------\n"
          ]
        },
        {
          "output_type": "display_data",
          "data": {
            "text/html": [
              "<span class=\"tex2jax_ignore\"><div class=\"entities\" style=\"line-height: 2.5; direction: ltr\">Article S — DUREE</br></br>La durée de la \n",
              "<mark class=\"entity\" style=\"background: #7aecec; padding: 0.45em 0.6em; margin: 0 0.25em; line-height: 1; border-radius: 0.35em;\">\n",
              "    Société\n",
              "    <span style=\"font-size: 0.8em; font-weight: bold; line-height: 1; border-radius: 0.35em; text-transform: uppercase; vertical-align: middle; margin-left: 0.5rem\">ORG</span>\n",
              "</mark>\n",
              " est fixée &amp; 99 ans 3 compter de son immatricuiation au Registre du Commarce et des</br></br>Sociétés, sauf en cas de dissolution anticipée ou de prosogation</br></br>Articie 6 — APPORTS</br></br>4.000 €</br></br>Monsieur TUREMEN Suleyman apporte a la \n",
              "<mark class=\"entity\" style=\"background: #7aecec; padding: 0.45em 0.6em; margin: 0 0.25em; line-height: 1; border-radius: 0.35em;\">\n",
              "    Société ls somme\n",
              "    <span style=\"font-size: 0.8em; font-weight: bold; line-height: 1; border-radius: 0.35em; text-transform: uppercase; vertical-align: middle; margin-left: 0.5rem\">ORG</span>\n",
              "</mark>\n",
              " de</br></br>Monsieur YILANC) Sezai apporte a fa \n",
              "<mark class=\"entity\" style=\"background: #7aecec; padding: 0.45em 0.6em; margin: 0 0.25em; line-height: 1; border-radius: 0.35em;\">\n",
              "    Société la somme\n",
              "    <span style=\"font-size: 0.8em; font-weight: bold; line-height: 1; border-radius: 0.35em; text-transform: uppercase; vertical-align: middle; margin-left: 0.5rem\">ORG</span>\n",
              "</mark>\n",
              "</br></br>2.060 €</br></br>2.000 €</br></br>Soit au total une Somme de</br></br>8.000 €</br></br>Canformément 4 l&quot;article L 223-7 (\n",
              "<mark class=\"entity\" style=\"background: #7aecec; padding: 0.45em 0.6em; margin: 0 0.25em; line-height: 1; border-radius: 0.35em;\">\n",
              "    C.Com\n",
              "    <span style=\"font-size: 0.8em; font-weight: bold; line-height: 1; border-radius: 0.35em; text-transform: uppercase; vertical-align: middle; margin-left: 0.5rem\">ORG</span>\n",
              "</mark>\n",
              ") le capital a été libéré d’un cinquidme. Le solde devra étre appelé et</br></br>versé dens un délai de cing ans &amp; compter de la premiéve libération.</br></br>Le cinquidme soit \n",
              "<mark class=\"entity\" style=\"background: #7aecec; padding: 0.45em 0.6em; margin: 0 0.25em; line-height: 1; border-radius: 0.35em;\">\n",
              "    MILLE\n",
              "    <span style=\"font-size: 0.8em; font-weight: bold; line-height: 1; border-radius: 0.35em; text-transform: uppercase; vertical-align: middle; margin-left: 0.5rem\">ORG</span>\n",
              "</mark>\n",
              " SIX CENT EUROS ~ a été déposé confarmémient a la Loi par les Associés au crédit d'un</br></br>compte ouvert au nom de ba Société en formation 4 la TRESORERIE GENERALE DE LA SEINE MARITIME = 76100</br></br>ROVEN ainsi qu‘it résuite du certificat délivré per tedite TRESORERIE\n",
              "\n",
              "Ces sommes pourront étre retirées par le Gérant de ia Société sur présentation du certificat du Greffier\n",
              "\n",
              "actestant Vimmatriculation de ta Société au Registre du Commerce et des Sociétés.</br></br>Article 7 - CAPITAL SOCIAL</br></br>Le capital social est fixe &amp; la somme de \n",
              "<mark class=\"entity\" style=\"background: #7aecec; padding: 0.45em 0.6em; margin: 0 0.25em; line-height: 1; border-radius: 0.35em;\">\n",
              "    HUT\n",
              "    <span style=\"font-size: 0.8em; font-weight: bold; line-height: 1; border-radius: 0.35em; text-transform: uppercase; vertical-align: middle; margin-left: 0.5rem\">ORG</span>\n",
              "</mark>\n",
              " MILLE EUROS</br></br>\\l est divisé en cing cant (500) parts égales d'une valeur de SEIZE EUROS chacune attribuées a</br></br>Monsieur TUREMEN Sulaymen</br></br>375 parts sociales</br></br>Numérotées de 1 a 250 at de 376 4 S00</br></br>Monsieur YILANCI! Sezai</br></br>126 parts sociaies</br></br>Numérotées de 151 4 375</br></br>Total ¢gad au nombre de parts du capital social</br></br>506 parts sociales</br></br>Soit un total de cing cant parts représentant un capital de huit mile EUROS ; conformémant a l'article 38 de la Iai\n",
              "\n",
              "du 24 juillet 1968, te soussignas déclarent expressament que ces parts sociates ont été réparlies ertre eux dans</br></br>la proportion sus-méquee</br></br>=</br></br>Le capital social peut atre augmenté ou rédult de toutes les manidres autorisées par Ja tai, en vertu d'une\n",
              "\n",
              "décision collective extraordinaire des associés.\n",
              "\n",
              "Article 3 OROITS DES PARTS\n",
              "\n",
              "Les parts ne pourront atre représentées par des titres négociables et sont indivisibies a 'égard de la société qui\n",
              "\n",
              "ne reconnaft qu‘un seul propriétaire pour chacune d’elle\n",
              "\n",
              "-\n",
              "\n",
              "=&gt; \\\n",
              "</div></span>"
            ],
            "text/plain": [
              "<IPython.core.display.HTML object>"
            ]
          },
          "metadata": {}
        },
        {
          "output_type": "stream",
          "name": "stdout",
          "text": [
            "---------------------------- page 3 ----------------------------\n"
          ]
        },
        {
          "output_type": "display_data",
          "data": {
            "text/html": [
              "<span class=\"tex2jax_ignore\"><div class=\"entities\" style=\"line-height: 2.5; direction: ltr\">Chaque part sociale confére 3 son propriétaire un droit égal dans tes bénéfices de ia saceété et dans tout lactif</br></br>social, Toute part sociale donne droit 3 une voix dans tous [es votes et délibérations.</br></br>Toute cession de parts doit étre constatée par acte notsrié ou sous seings privés pour étre opposable a la</br></br>société, elle dot tui Stre signifié par exploit d’huissier on étre accepteé par elle dans un acte notarié.</br></br>Les parts sociales sont librement cessibles entre associés. Elles ne peuvent étra cddées a des tiers étrangers 4 lo</br></br>société, qu’avec le consentement de ia majorité des associés représentant su moins bes trois/quarts des parts</br></br>sociales, cette majorité étant déterminée compte tenu de la personne et des parts de associé obdant. Le</br></br>cofsentement est solicité sefon ig prooédure prévue par fa lai, Les parts sociales sont fibrement trensmissibies</br></br>par vole de succession ou en cas de liquidation de communauté entre époux, et librement cessibles entre</br></br>conjeints et entre ascendants.</br></br>acquisition par le conjoint, postériaurement a la réaiisation de-/appart ou de lachat, de ta quallté d’associé</br></br>dans les conditions fixées par article 1832-2 du Code Civil, est soumise au consentement de la maforité des</br></br>associés, représentant au moins bes trois/quarts des parts sociales</br></br>St fa société a donné son consentement 2 un projet de nentissement de parts sociales, soit par notification de</br></br>sa décision 2 Pintéressé, sok par défaut de réponse dans un délal de trois mois &amp; compter de [a demande, ce</br></br>consentement emportera agrément du cessionnaire en cas de réaisation forede des parts sociales, selon [es</br></br>dispositions de lasticle 207¢ alinés 1° du Code Civil, 2 moins que la société ne préfére, apres cession, racheter</br></br>sans défsiles parts en vue réduire le capital.</br></br>Les associés ne sont tenus 3 Pégard des tiers que jusqu’a concurrence du montant de leur apport.</br></br>ils sont toutefois solidasement responsables pendant cing ons, vis-a-vis des tiers, de ia valeur attribuée aux</br></br>sPports en natere.</br></br>Cette responsabilité joue seulement sil n’y a pas eu intervention d’sn commissaire aux apparts ou encore</br></br>lorsque (a valeur retenue per les associé est différente de celle proposée par ie commissaire aux apports.</br></br>En outre, f est rappelé que, conformément @ ia loi, forsque te redressement ou fa liquidation judicisire falt</br></br>epparaitre une insuffisance d’actif, in tribunal peut, en cas de faute de gestion ayant contribué 4 cette</br></br>insuffisante, décider que ies dettes de ia société seront supportées en tout on en partie, par les dirigeants de</br></br>droit ou de fait, au certains d’entre eux, avec ou sans solidarité.</br></br>Article 32 ~ GERANCE\n",
              "\n",
              "La sodété est gérée par une ou plusieurs personnes physiques, assodiés ou non, nommées avec ou sans\n",
              "\n",
              "limitation de durée. Dans oe dernier cas, le ou les gérants sont toujours réciigibles.\n",
              "\n",
              "Les gérants sont nommés par décision des associés représentant plus de la moitlé des parts sociaies.\n",
              "\n",
              "En rémunération de ses fonctions, chaque gérant a dro 4 un traitement fixe, proportionne! ou mixte dont le\n",
              "\n",
              "montant at les modalités de pslement sant détermings par décision collective ardinaire des associés.\n",
              "\n",
              "</div></span>"
            ],
            "text/plain": [
              "<IPython.core.display.HTML object>"
            ]
          },
          "metadata": {}
        },
        {
          "output_type": "stream",
          "name": "stdout",
          "text": [
            "---------------------------- page 4 ----------------------------\n"
          ]
        },
        {
          "output_type": "display_data",
          "data": {
            "text/html": [
              "<span class=\"tex2jax_ignore\"><div class=\"entities\" style=\"line-height: 2.5; direction: ltr\">Est nommé comme gérant de ia sociéte :</br></br>Monsfeur TUREMEN Suleyman</br></br>'Gi présent, lequed accepte tes fonctions qui fut sont confiées et affirme n‘Atre</br></br>Ou interdiction s‘opposant 4 sa nomination.</br></br>lest nommé pour une durée iMmitée.</br></br>{rest pas désigné de commissaire eux comptes.</br></br>Dens les rapports avec les thers, ia gérance ou chacur des gérants est</br></br>investie des pouvoirs les plus étendus</br></br>pour agir en toutes circonstances, au nom .de</br></br>.</br></br>lz Société, sous réserve des pouvairs que Ja lof attribue</br></br>expressément aun associés.</br></br>Toutefois, &amp; titre de ragiement intérieur,</br></br>et Sans Que cette clause soit opposable aux tiers, I! est convenu que ia</br></br>Bérance ne peut, sans y @tre astorisé</br></br>échanger tous immeubtes ou fonds de</br></br>par une décision de je collectivité des associés, acheter, vendre ou</br></br>contracter des emprunts pour te compte de la sociéts autres</br></br>Que les découverts normaux en banque,</br></br>Constituer une hypothéque sur les Immaubles soctaux au un</br></br>hantissement sur te fands de commerce, ou</br></br>concourtr 3 ia fondation de toute société.</br></br>opposition formée par un gérant aux actes d’un autre</br></br>gérant est sans effet 4) égard des tiers, 5 moins qu’il me</br></br>Solt étabii quils en ont eu connaissance.</br></br>Un grant peut donner toutes délégations de pouvoir &amp; tous tiers pour un ou plusieurs objets détermings, sauf</br></br>4 prendre toute mesure nécessaire Pour le respact des dispositions ci-dessus.</br></br>La responsabilitd des gérants est engage dens [es conditions de droit com</br></br>mun et celles définies nar les lois du</br></br>commerce et des sockétés</br></br>AHS |</br></br>Sous risarves des interdictions légnles (emprunts, découverts, Cautiognements, avais), les conventions entre i2</br></br>société et Yun de ses associés au @brant autres que celles portant sur des opérations courantes conclues a des</br></br>conditions normales, sont soumises 3 das formalités de contréle et de présentstian a</br></br>associés prescrites par \n",
              "<mark class=\"entity\" style=\"background: #7aecec; padding: 0.45em 0.6em; margin: 0 0.25em; line-height: 1; border-radius: 0.35em;\">\n",
              "    Iz lol\n",
              "    <span style=\"font-size: 0.8em; font-weight: bold; line-height: 1; border-radius: 0.35em; text-transform: uppercase; vertical-align: middle; margin-left: 0.5rem\">ORG</span>\n",
              "</mark>\n",
              ".</br></br>a*</br></br>= EF)</br></br>ae</br></br>Les associés peuvent nommes un on Plusieurs commissaires aux comptes par décision collective ordineire.</br></br>La nomination c’un commissaire aux com\n",
              "\n",
              "ptes au mains est obligatoire si, 3 Ia clétuse d’un exertice social, ia</br></br>Société dépasse les chiffres fixes par</br></br>déecret Pour deux des trois critdres suivants : total du SHlan, mantant hors</br></br>taxes du chiffre d’affaire, nombre moyen des salariés au cours de I’exercice.\n",
              "\n",
              "eo\n",
              "\n",
              "\\\n",
              "\n",
              "-\n",
              "\n",
              "</div></span>"
            ],
            "text/plain": [
              "<IPython.core.display.HTML object>"
            ]
          },
          "metadata": {}
        },
        {
          "output_type": "stream",
          "name": "stdout",
          "text": [
            "---------------------------- page 5 ----------------------------\n"
          ]
        },
        {
          "output_type": "display_data",
          "data": {
            "text/html": [
              "<span class=\"tex2jax_ignore\"><div class=\"entities\" style=\"line-height: 2.5; direction: ltr\">Mémea si ces seuss ne sont pas atteints, ia nomination d’un commissaire aux comptes peut étre demandée en</br></br>justice par un ow plusieurs assaciés représentant au moins te dbdéme du capital sociat.</br></br>ta durée de mandat des commissaires aux comptes est de six axercices.,</br></br>ef</br></br>La volonté des associés s’exprime par des décisions coll</br></br>ectives qui abfigent fes assacés, méme absents,</br></br>Ces décisions résukant, au choix de la @érance, soit d'une assembiée générale, solt d’</br></br>une consultation par</br></br>correspondance, Toutefols, fa réunion d'une assembiée est obligatoire pour statuer</br></br>sur Vapprobation des\n",
              "\n",
              "comptes de chaque exercice au sus demande d’</br></br>Un ou plusieurs associés détenant ts moitié des parts Sociales,</br></br>ou détenant, sits représentent au moins fe qua</br></br>ft des associés, le quart des parts sociales.</br></br>Tout associé 9 droit de participer aux décisions,</br></br>parts,</br></br>quelle que soit feur nature et quel que soit le nombre de ses</br></br>avec un rombre de voix égal au nombre de parts sociales qu’ll posséde sans imitation.</br></br>UR associé peut se faire représenter par son conjoint &amp; moins que</br></br>Sauf si les associés sant au nombre de deux,</br></br>la société ne Comprenne que les deux époux.</br></br>UR assocé peut se faire représenter par un autre associé. Dans</br></br>tous les cas, un associé peut se faire raprésen</br></br>ter par un tiers muni d'un pouvoir.</br></br>En cas d’usufrult s'exercant sur des parts sociales, ia droit de vote sppartient au rai proprittaire, toutefois,</br></br>Fusufrulties participe seul au vote des détisions concermant faffectation des bénéfices.</br></br>Les propriétaires indivis de parts sociales de ca\n",
              "\n",
              "indivisaires ou en dehors d’eux.</br></br>pial sont représentés par un mandstaire unique parm les</br></br>Les procés verbaun sont établis sur un registre oSté at\n",
              "\n",
              "peraphe ou sur des feuitles mobiles dgsiement cotées et</br></br>partaphées, conformément 4 Ja Lot,</br></br>Atticie 16 — DECSIONS ORDINAIRES</br></br>Les décisions ordinaires ont pour odjet :</br></br>nécessalres pour accompiir les actes excédant {es potvoirs qui</br></br>luk sont contérés ;</br></br>De statuer sur Jes comptes d’un exertice et sur Vaffectation et la répertition des béndfices ;</br></br>OY’ examiner les conventions</br></br>réglementées 4 article 13, c-dessus ; de nommer et névoquer les gérants,</br></br>ie ou fes commissaires aux comptes,</br></br>tout fiquidateur et controleur des comptes ;</br></br>Et d'une maniére générale, de se</br></br>directement ow indirectement,</br></br>pionancer sur toutes les questions qui ne comportent pas</br></br>modification des statuts, examen de la situation de fa société ar cas d'actif net</br></br>Social inférieur 3 a moitié du</br></br>capital social, agrément des cessions ou transmissions de parts sodales dans les</br></br>Conditions évoquées 4 article 10 des statuts.</br></br>Sous résetves d'autres conditions impératives définies dans les orésents statuts ou par fa loi, les dédsions</br></br>ordinalres sont adophées par \n",
              "<mark class=\"entity\" style=\"background: #7aecec; padding: 0.45em 0.6em; margin: 0 0.25em; line-height: 1; border-radius: 0.35em;\">\n",
              "    unt\n",
              "    <span style=\"font-size: 0.8em; font-weight: bold; line-height: 1; border-radius: 0.35em; text-transform: uppercase; vertical-align: middle; margin-left: 0.5rem\">ORG</span>\n",
              "</mark>\n",
              " ou plusieurs associés représentant plus de la moiié des parts sociales.\n",
              "\n",
              "pas abtenue les associés, sont, selan [2 cas, convogués ou consultés une seconde fots, et\n",
              "\n",
              "prises &amp; fa majorité des votes émis, quelque soit le nombre de vatants. Les dispositions de cet\n",
              "\n",
              "alinéa sont inappi\n",
              "\n",
              "ikables an cas de nomination ou de révocation d'un gérant.\n",
              "\n",
              "6\n",
              "\n",
              "\\\n",
              "</div></span>"
            ],
            "text/plain": [
              "<IPython.core.display.HTML object>"
            ]
          },
          "metadata": {}
        },
        {
          "output_type": "stream",
          "name": "stdout",
          "text": [
            "---------------------------- page 6 ----------------------------\n"
          ]
        },
        {
          "output_type": "display_data",
          "data": {
            "text/html": [
              "<span class=\"tex2jax_ignore\"><div class=\"entities\" style=\"line-height: 2.5; direction: ltr\">\n",
              "<mark class=\"entity\" style=\"background: #7aecec; padding: 0.45em 0.6em; margin: 0 0.25em; line-height: 1; border-radius: 0.35em;\">\n",
              "    at\n",
              "\n",
              "\n",
              "    <span style=\"font-size: 0.8em; font-weight: bold; line-height: 1; border-radius: 0.35em; text-transform: uppercase; vertical-align: middle; margin-left: 0.5rem\">ORG</span>\n",
              "</mark>\n",
              "Les détisions colfectives extraardinaires sont celles appeiées a se</br></br>prononcer sur tautes questions comportant</br></br>Ses statuts, examen de ie situation de ja société en cas d’actif net social inférieur 4 la maitié dy</br></br>capital soctal, agrément des cessions et transmissions de parts sociales.</br></br>Les décisions ne peuvent étre valablement prises que si elles sont adopeées :</br></br>- Aunanimité, s'il s'agit de changer de nationalité de la soci&amp;é, daugmentar, ies engagements d’un</br></br>assodé ou de transformer ia société en nom coflectif, en commandite simple, en conwnandite par</br></br>actions ou en sadété civile -</br></br>A la majorité en nombre des assodés représantant au moins jes trois quarts des parts sociales, 1!</br></br>s'agit d’admettre de nowveaux assoctés ou d’agréer des cessions de parts entre associés,</br></br>Par des associés reprdsentant la majorité des parts sociales, en cas de transformation en société</br></br>anonyme sj ies capitaux propres figurant au dernier bilan excédent 762.245 EUROS, et en cas de</br></br>tévocation d’un gérant ;</br></br>Par des associés représentant au moins les trois quarts des parts sodales, pour toutes les autres</br></br>Gécisions extracrdinalres.</br></br>Les assemblées d’associés sont comvoquées au slage social au en tout autre endrnit du département du sibge</br></br>social, quinze jours francs aa mains avant ta réunion, par lettre recommandée indiquant ordre de jour,</br></br>ta convocation est faite parila géranca at, on cas de carence de la Rérance, par te coramissaife aux comptes ¢’i!</br></br>en existe un ou par un mandataire désigné spécialement par ordonnance du président du tribunal de</br></br>Commerce statuant en référé sus demanda d’un assacié.</br></br>L'ordre du jour de fassembiée est arrété par auteur de ta convocation,</br></br>Toute assembiée irréguiérement convoquée peut tre annulée. Toutefols, faction en nullité nest pas</br></br>recevable lorsque tous tes associés étaient présents ou représentés.</br></br>Vassemblée des associés est prisidée par le gérant ou par le plus agé des gérants présents, Si aucun des\n",
              "\n",
              "gérants n'est associée, elle est présidée par \n",
              "<mark class=\"entity\" style=\"background: #7aecec; padding: 0.45em 0.6em; margin: 0 0.25em; line-height: 1; border-radius: 0.35em;\">\n",
              "    Vassadé\n",
              "    <span style=\"font-size: 0.8em; font-weight: bold; line-height: 1; border-radius: 0.35em; text-transform: uppercase; vertical-align: middle; margin-left: 0.5rem\">ORG</span>\n",
              "</mark>\n",
              " présent et acceptant qut posséde cu représente te plus</br></br>stand nombre de parts sociales.</br></br>Seules sant mises en déBbération les questions figurant 4 lardre du jour,</br></br>En cas de consultation par correspondance, les associés disposent d'un délai de quinze jours francs &amp; compter</br></br>de ta date de réception des projets da résolution pour émettre leur vote par éerit. Le vote est formulé sous fe\n",
              "\n",
              "texte des résofutions proposées at, pour chaque résolution, par jes mots « cui » ou « non 9. La réponse dment\n",
              "\n",
              "datke et signde par l'associé est adressée a la société, par lettre recommandéa avec avis de réception.\n",
              "\n",
              "</div></span>"
            ],
            "text/plain": [
              "<IPython.core.display.HTML object>"
            ]
          },
          "metadata": {}
        },
        {
          "output_type": "stream",
          "name": "stdout",
          "text": [
            "---------------------------- page 7 ----------------------------\n"
          ]
        },
        {
          "output_type": "display_data",
          "data": {
            "text/html": [
              "<span class=\"tex2jax_ignore\"><div class=\"entities\" style=\"line-height: 2.5; direction: ltr\">Des</br></br>Lors de toute consultation des associés, chacun d’eux a le droit d’</br></br>obtenie communication des documents et</br></br>Informations nécessaires pour \n",
              "<mark class=\"entity\" style=\"background: #7aecec; padding: 0.45em 0.6em; margin: 0 0.25em; line-height: 1; border-radius: 0.35em;\">\n",
              "    iui\n",
              "    <span style=\"font-size: 0.8em; font-weight: bold; line-height: 1; border-radius: 0.35em; text-transform: uppercase; vertical-align: middle; margin-left: 0.5rem\">ORG</span>\n",
              "</mark>\n",
              " permettre de se proncncer en</br></br>connaissance de cause et de porter un</br></br>jugement sur la gestion de la société,</br></br>La nature de ces documents et les conditions de |\n",
              "\n",
              "En outre, 4 toute époque, tout assodé a ie</br></br>leur envoi ou mise 4 iedisposition sont déterminés par [a loi.</br></br>droit d’abtenir su sige sociel, a délivrance d’une copie cartifiée</br></br>conforme des statuts en vigueur au jour de</br></br>ia demande, dans ies conditions prévues par la loi.</br></br>Avec le consentement de fa Strance, chaque a</br></br>SSOCIE peut verser ot iaisser en compte courant, dans Is calsse</br></br>de ia société, des sommes nécessaires 3 cefle-ci</br></br>5</br></br>Ces sommes produlsent ou non intérits et peuvent étre</br></br>utilisées dans les conditions que détermine ta gérance.</br></br>Les Intéréts éventuets sont portés aux frais généraue.</br></br>Vouverture d'un compte courant constitue</br></br>présents stetuts.</br></br>une convention soumise aux dispositions de [article 13 des</br></br>Aucun essocié ne peut effectuer des retraits sur les sommes ai</br></br>insi dépesées sans en avoir averti la gérance au</br></br>Las comptes courants ne peuvent jamais Btre débiteurs.</br></br>Lannée sociaie commence ie 1 octobre et finit le 36 septembre.</br></br>Par exception ie premier exercice social portera sur ta</br></br>période altent de la dete d’tmmetriculation de le sockété</br></br>jusqu’au 30 septembre 2010,</br></br>Ala ciéture de chaque exercice, la gtrance dresse iinventaire des</br></br>divers Géments d’actif et de passif existants</br></br>4 cette dete et étabin une comptobi</br></br>Aprés approbation des comptes et constation:</br></br>S de Fesistence d’un bénéfice distribuable, l’assembiée générale</br></br>décide da Finscrire 4 un ou Plusiewuss\n",
              "\n",
              "a nouveau ou de fe ciistribuer.</br></br>postes de réserves dont elfe régie i‘effectation ou \n",
              "<mark class=\"entity\" style=\"background: #7aecec; padding: 0.45em 0.6em; margin: 0 0.25em; line-height: 1; border-radius: 0.35em;\">\n",
              "    Pempioi\n",
              "    <span style=\"font-size: 0.8em; font-weight: bold; line-height: 1; border-radius: 0.35em; text-transform: uppercase; vertical-align: middle; margin-left: 0.5rem\">ORG</span>\n",
              "</mark>\n",
              ", de Je reporter\n",
              "\n",
              "Aprés avoir constaté Yexistence de réserves dont eile a</br></br>le disposition, Passembiée générale peut décider 73</br></br>distribution de sommes Prélevdes sur ces réserves.</br></br>Dans ce cas, la décision ind</br></br>effectués.</br></br>ique expressément les postes de réserves sur lesquels les préievernents sont</br></br>Les sommes dont ia mise en distribution est décidée sont réparties entre jes\n",
              "\n",
              "associés, gérants ou non,\n",
              "\n",
              "Proportionnellement au nombre de leuts\n",
              "\n",
              "Parts soctaies, les modalités de mise en paiement stant fixées par\n",
              "\n",
              "Fassembiée ov a défaut pur la gérance.\n",
              "\n",
              "Les pertes, sii en existe, sont imputées sur ies bénéfices\n",
              "\n",
              "reportées des exercices antérieurs ou\n",
              "\n",
              "NOWRSU OU encore compensées directement avec les\n",
              "\n",
              "réserves existantes.\n",
              "\n",
              "</div></span>"
            ],
            "text/plain": [
              "<IPython.core.display.HTML object>"
            ]
          },
          "metadata": {}
        },
        {
          "output_type": "stream",
          "name": "stdout",
          "text": [
            "---------------------------- page 8 ----------------------------\n"
          ]
        },
        {
          "output_type": "display_data",
          "data": {
            "text/html": [
              "<span class=\"tex2jax_ignore\"><div class=\"entities\" style=\"line-height: 2.5; direction: ltr\">En présence de plusieurs associés ay d'un ass0Gé unique personne physique,</br></br>la société est en liquidation das</br></br>Finstant de sa dissolution quelle qu’en soit ta cause.</br></br>Cependant, cette dissolution ne prodult ses effets a Végerd\n",
              "\n",
              "Publiée au ragistre du commerce et des sociétés.</br></br>des tiers car’a compter de ja date 2 lequelle effe est</br></br>La personnaité morete de ta société subsiste pour</br></br>Toutefois, la mention «so</br></br>Gété en liquidation » ainsi que le nom du ou des fiquidateurs doivent figurer sur tous</br></br>attes et documents émanant de la \n",
              "<mark class=\"entity\" style=\"background: #7aecec; padding: 0.45em 0.6em; margin: 0 0.25em; line-height: 1; border-radius: 0.35em;\">\n",
              "    socidté &amp;\n",
              "    <span style=\"font-size: 0.8em; font-weight: bold; line-height: 1; border-radius: 0.35em; text-transform: uppercase; vertical-align: middle; margin-left: 0.5rem\">ORG</span>\n",
              "</mark>\n",
              " associé UNique sans qU'ft y alt lieu a liquidation.</br></br>En présence d'un associé unique personne morale la dissolution de</br></br>ensmission universelle di patrimuine de</br></br>la société \n",
              "<mark class=\"entity\" style=\"background: #7aecec; padding: 0.45em 0.6em; margin: 0 0.25em; line-height: 1; border-radius: 0.35em;\">\n",
              "    &amp; Fassacié\n",
              "    <span style=\"font-size: 0.8em; font-weight: bold; line-height: 1; border-radius: 0.35em; text-transform: uppercase; vertical-align: middle; margin-left: 0.5rem\">ORG</span>\n",
              "</mark>\n",
              " unique sans qu'il y at Neu A Siquidation,</br></br>Cette transmission et Pexercice éventurel des droits des créanciers auront</br></br>teu conformément a Yarticie 1844-5</br></br>et 1844-8 modifiés au code civil.</br></br>Article 24 ~ CONTESTATION\n",
              "\n",
              "la durée de la société ov sa tiquidaticn, concernant</br></br>Finterprétation ow l’exdeution des Statuts, ou retativem\n",
              "\n",
              "ent aux affaires sociales, entre les associés, ou entre les</br></br>associés et la soci</br></br>été, serant soumlses aux tribuneux compétents.</br></br>Article 25 — ASSOCIE UNIGUE\n",
              "\n",
              "Bans hypothése of la société ne com\n",
              "\n",
              "porte qu'un associé, ele se trouve soumise aux statuis de /EULR.L</br></br>Iité Limitée) fied par te lol n* 85-697 dy Lt fuldet 1985.</br></br>‘en résulte notamment que toutes les</br></br>prérogetives de l'assembiée génévale sont exercées par Fassacié\n",
              "\n",
              "lequel ne peat en aucun cas déléguer ses pouvoes.</br></br>La société ne jouira de te personnalité morale qu’ compter</br></br>de son immatricuiation au Registre du Commerce\n",
              "\n",
              "et des \n",
              "<mark class=\"entity\" style=\"background: #7aecec; padding: 0.45em 0.6em; margin: 0 0.25em; line-height: 1; border-radius: 0.35em;\">\n",
              "    Sociétés de ROUEN\n",
              "    <span style=\"font-size: 0.8em; font-weight: bold; line-height: 1; border-radius: 0.35em; text-transform: uppercase; vertical-align: middle; margin-left: 0.5rem\">ORG</span>\n",
              "</mark>\n",
              ",</br></br>En cutee, et dés &amp; présent, la gérance est au</br></br>torisée &amp; réeliser les actes et engagements entrant dans te cadre de</br></br>Fobjet social et de sas pouvoirs. Aprés imm:</br></br>mtriculation de la \n",
              "<mark class=\"entity\" style=\"background: #7aecec; padding: 0.45em 0.6em; margin: 0 0.25em; line-height: 1; border-radius: 0.35em;\">\n",
              "    Société aa\n",
              "    <span style=\"font-size: 0.8em; font-weight: bold; line-height: 1; border-radius: 0.35em; text-transform: uppercase; vertical-align: middle; margin-left: 0.5rem\">ORG</span>\n",
              "</mark>\n",
              " Registre du Commerce et des Saciétés,</br></br>Ces attes et engagements seront soumis 3 apprebatian de Passembiée générale ordinalre des associés\n",
              "\n",
              "appelée 3 statuer sur tes comptes du premier exercice social.\n",
              "\n",
              "Cette approbation empartera de plein droit reprise par la société desdits actes at engagements.\n",
              "\n",
              "-\n",
              "\n",
              "Enfin, tous pouvoirs sont données au gérant pour rempir les formalités da pubticité prescsites par ts toi.\n",
              "\n",
              "Apports en taméraires - deaits d’enresistrament gratuits\n",
              "\n",
              "Transiucidité fiscate.\n",
              "\n",
              "SV\n",
              "</div></span>"
            ],
            "text/plain": [
              "<IPython.core.display.HTML object>"
            ]
          },
          "metadata": {}
        },
        {
          "output_type": "stream",
          "name": "stdout",
          "text": [
            "---------------------------- page 9 ----------------------------\n"
          ]
        },
        {
          "output_type": "display_data",
          "data": {
            "text/html": [
              "<span class=\"tex2jax_ignore\"><div class=\"entities\" style=\"line-height: 2.5; direction: ltr\">Article 27 ~ FRAIS\n",
              "\n",
              "Les frais, droits et hanoraires des présentes et de leurs suites seront pris en charge par la société</br></br>lorsqu’elte sers immatricuiée au Registre du Commerce et des Sacétés, qui devra ies amortfr avant taute</br></br>distribution des bénéfices,</br></br>Les personnes identifiées d-dessus sous le paragraphe « {OENTIFICATION DES ASSOCIES », déctarent,</br></br>Chacune en ce qui fe cancerne, par elfe-méme au leur mandataire :</br></br>Avoic ia pleine capacité d’aiféner ou de sobliger ;</br></br>Ne pas Atre en état de cessation de paiement et n’avolr fait Pobjet d’sucune des mesures prévues par</br></br>la bof nh” 67-563 du 13 Juilet 1967 sur fe régiement judiciaire, la \n",
              "<mark class=\"entity\" style=\"background: #7aecec; padding: 0.45em 0.6em; margin: 0 0.25em; line-height: 1; border-radius: 0.35em;\">\n",
              "    Nquidation de biens\n",
              "    <span style=\"font-size: 0.8em; font-weight: bold; line-height: 1; border-radius: 0.35em; text-transform: uppercase; vertical-align: middle; margin-left: 0.5rem\">ORG</span>\n",
              "</mark>\n",
              ", ts failfte personnetie</br></br>et les banqueroutes ou is loin” 85-98 du 28 janvier 1985 relative au Tedressesnent et &amp; lz lquitatian</br></br>judidisire des entreprises.</br></br>Siticia 29 &gt; \n",
              "<mark class=\"entity\" style=\"background: #7aecec; padding: 0.45em 0.6em; margin: 0 0.25em; line-height: 1; border-radius: 0.35em;\">\n",
              "    ELECTION\n",
              "    <span style=\"font-size: 0.8em; font-weight: bold; line-height: 1; border-radius: 0.35em; text-transform: uppercase; vertical-align: middle; margin-left: 0.5rem\">ORG</span>\n",
              "</mark>\n",
              " DE DOMICILE\n",
              "\n",
              "Pour Fexécution du présent acte et des formaltés y afférentes, es comparants font éectian de domicile</br></br>en leur demeure respective jusqu’a /immatriculation de i Sodété au Registre du Commerce et des\n",
              "\n",
              "Sociétés, puis apras imimatriculation, fes parties font élection de domicile au sldge sociai de la société.</br></br>Tous pouvoirs sont dennés au porteur d‘ure cople des présentes 4 Paffet d’accompilir toutes les formatités\n",
              "\n",
              "Fait fe 06 Juillet 2020\n",
              "\n",
              "En autant d’exemplaires que requis par la lol\n",
              "\n",
              "10\n",
              "</div></span>"
            ],
            "text/plain": [
              "<IPython.core.display.HTML object>"
            ]
          },
          "metadata": {}
        }
      ]
    },
    {
      "cell_type": "markdown",
      "metadata": {
        "id": "s9ki08fQEHR8"
      },
      "source": [
        "### camembert-ner NER\n",
        "[camembert-ner] is a NER model that was fine-tuned from camemBERT on wikiner-fr dataset. Model was trained on wikiner-fr dataset (~170 634 sentences). Model was validated on emails/chat data and overperformed other models on this type of data specifically. In particular the model seems to work better on entity that don't start with an upper case."
      ]
    },
    {
      "cell_type": "code",
      "metadata": {
        "colab": {
          "base_uri": "https://localhost:8080/",
          "height": 177,
          "referenced_widgets": [
            "2f1ef5321f9f45a0b1a03fa999f318a6",
            "2f87567380bc4a2ebbe7cbdc340f244e",
            "d56e45ce4af6454a89b2dbc3d7a3529a",
            "89238d8d32b2420ca9e87c92ae6365b3",
            "2d78bd3b21c04615bc60726beeced801",
            "d516a6f151714e8faf61a9827e1e0726",
            "b2989824f305421fae99f0f8b4aacbbb",
            "a412e65869084a4191126a25c1f4105b",
            "c5ffef75c85047e9b499e6a18eb6c431",
            "df7a77891bfd4cb68354bab4f74c5d02",
            "2701f21bffb4425eacbd1786d467b70b",
            "ab60ece2390441f2a11d0aa7a262b39a",
            "c49cb64ad5d54b30a9fdb213f877b4f1",
            "0bffb7e07dc547f1b59ccd807e2d61b4",
            "79262e13569d4d42a906187df5956a50",
            "9ddc45aa43a44be581d4c8e5142cd1c1",
            "bae65ae8945b4b6a8157c218a28b915b",
            "05d3c6aebf474ab2b8ad0cc3bcb092a0",
            "c8838895694b481693d601ccc71c0914",
            "9f9feef895ef456cbbe83b29078fde1c",
            "920d325a04ab40e6887b296b012a9d03",
            "9a91cad0cc3141708d6cf232911b46b8",
            "4b62ab7fc89f42098c4ec2beb8345ace",
            "4447088ced0e4d51a91ca62b282856ee",
            "920fbf50862e458dbb0234af95a37074",
            "ca78578b8417444293d7f1d97d185047",
            "e7d74787aadf4670a31658a132fb7ffc",
            "80e5facc429a4e6a90fbc5f97b6b82c8",
            "d2856e6f83824957866bdb29d1abd48f",
            "bdcee937649a42e080907672687e1ab1",
            "9877b56bf3624518a9825d8acac8512f",
            "498172666e304ee6857860ee00860e38",
            "ea1cbf320eca403f9f37a028d1d4a90b",
            "d1668126950b40ad854768d258dd6505",
            "a6d1f322d9f24bea8530edf03d97662b",
            "491823ccf47f4a67b0b5b18dbd2bdec4",
            "d7173dd34b94416a9bb344430a26ed63",
            "c3f15c26418d4a1fbe22d92689e844f9",
            "7bad1e03c89242d78e677839fa3157fc",
            "0f141cb584f14a5997e1af75e02ba7cc",
            "9f64d9b3ad90425f89e6d2614b871b23",
            "8d4f8445925d4cc0bc965e7868ace730",
            "92925ff6c8a041cc990ef38466ce67d4",
            "33ba34671187401baf1f5b7bebdb080a",
            "8b41942b3c004ead9ac604c08cb0ff3b",
            "7fa26ad6468042b489b735d5457eb0a9",
            "0680a23f46564834b916d11fc4806807",
            "377fa31d5488483c961b618642ebe8f5",
            "54eba87f5dc34965885e93c591f256c6",
            "9e25206e791a4820b8253b3448344df2",
            "474c0c3004c14fb59107ffb2f3125fc0",
            "7edb7f4f64d2459783a26edb72c65958",
            "2b81bbf7adbf44aba5f00568de9603bb",
            "a5104bb967cc4826bfdb321ddeaa84d0",
            "1c30c146cb254e2bb17c54afecaefcbb"
          ]
        },
        "id": "wo9foPizDKNr",
        "outputId": "6dcb413a-2cd8-4ea0-ae31-076ede01411a"
      },
      "source": [
        "from transformers import AutoTokenizer, AutoModelForTokenClassification\n",
        "from transformers import pipeline\n",
        "\n",
        "tokenizer = AutoTokenizer.from_pretrained(\"Jean-Baptiste/camembert-ner\")\n",
        "model = AutoModelForTokenClassification.from_pretrained(\"Jean-Baptiste/camembert-ner\")\n",
        "\n",
        "nlp_tf = pipeline('ner', model=model, tokenizer=tokenizer, aggregation_strategy=\"simple\")"
      ],
      "execution_count": 20,
      "outputs": [
        {
          "output_type": "display_data",
          "data": {
            "application/vnd.jupyter.widget-view+json": {
              "model_id": "2f1ef5321f9f45a0b1a03fa999f318a6",
              "version_minor": 0,
              "version_major": 2
            },
            "text/plain": [
              "Downloading:   0%|          | 0.00/269 [00:00<?, ?B/s]"
            ]
          },
          "metadata": {}
        },
        {
          "output_type": "display_data",
          "data": {
            "application/vnd.jupyter.widget-view+json": {
              "model_id": "ab60ece2390441f2a11d0aa7a262b39a",
              "version_minor": 0,
              "version_major": 2
            },
            "text/plain": [
              "Downloading:   0%|          | 0.00/892 [00:00<?, ?B/s]"
            ]
          },
          "metadata": {}
        },
        {
          "output_type": "display_data",
          "data": {
            "application/vnd.jupyter.widget-view+json": {
              "model_id": "4b62ab7fc89f42098c4ec2beb8345ace",
              "version_minor": 0,
              "version_major": 2
            },
            "text/plain": [
              "Downloading:   0%|          | 0.00/792k [00:00<?, ?B/s]"
            ]
          },
          "metadata": {}
        },
        {
          "output_type": "display_data",
          "data": {
            "application/vnd.jupyter.widget-view+json": {
              "model_id": "d1668126950b40ad854768d258dd6505",
              "version_minor": 0,
              "version_major": 2
            },
            "text/plain": [
              "Downloading:   0%|          | 0.00/210 [00:00<?, ?B/s]"
            ]
          },
          "metadata": {}
        },
        {
          "output_type": "display_data",
          "data": {
            "application/vnd.jupyter.widget-view+json": {
              "model_id": "8b41942b3c004ead9ac604c08cb0ff3b",
              "version_minor": 0,
              "version_major": 2
            },
            "text/plain": [
              "Downloading:   0%|          | 0.00/420M [00:00<?, ?B/s]"
            ]
          },
          "metadata": {}
        }
      ]
    },
    {
      "cell_type": "code",
      "metadata": {
        "colab": {
          "base_uri": "https://localhost:8080/"
        },
        "id": "JwtGbbtkEOqw",
        "outputId": "afeffc69-425a-4aaa-abbf-d37e93dc181a"
      },
      "source": [
        "for i, text in enumerate(result_arr):\n",
        "  print('----------------------------', 'page', i, ('----------------------------',\n",
        "  entities = nlp_tf(text) \n",
        "  for entity in entities:\n",
        "    if entity['entity_group'] == 'ORG':\n",
        "      print(entity)"
      ],
      "execution_count": 24,
      "outputs": [
        {
          "output_type": "stream",
          "name": "stdout",
          "text": [
            "------------------ page 0 ------------------\n",
            "{'entity_group': 'ORG', 'score': 0.8939309, 'word': 'SOCIETE A RESPONSABILITE LIMITEE T', 'start': 0, 'end': 35}\n",
            "------------------ page 1 ------------------\n",
            "{'entity_group': 'ORG', 'score': 0.85159683, 'word': 'TUR', 'start': 1242, 'end': 1246}\n",
            "{'entity_group': 'ORG', 'score': 0.7602225, 'word': 'MAN', 'start': 1248, 'end': 1252}\n",
            "{'entity_group': 'ORG', 'score': 0.98780596, 'word': 'S.A.R.L', 'start': 1442, 'end': 1450}\n",
            "------------------ page 2 ------------------\n",
            "{'entity_group': 'ORG', 'score': 0.81165755, 'word': 'Société', 'start': 33, 'end': 41}\n",
            "{'entity_group': 'ORG', 'score': 0.8630512, 'word': 'Société', 'start': 260, 'end': 268}\n",
            "{'entity_group': 'ORG', 'score': 0.9033751, 'word': 'Société', 'start': 317, 'end': 325}\n",
            "{'entity_group': 'ORG', 'score': 0.7249498, 'word': 'Associés', 'start': 657, 'end': 666}\n",
            "{'entity_group': 'ORG', 'score': 0.8871137, 'word': 'Société', 'start': 709, 'end': 717}\n",
            "{'entity_group': 'ORG', 'score': 0.301506, 'word': 'Gérant', 'start': 897, 'end': 904}\n",
            "{'entity_group': 'ORG', 'score': 0.76228046, 'word': 'Société', 'start': 910, 'end': 918}\n",
            "{'entity_group': 'ORG', 'score': 0.7422933, 'word': 'Société', 'start': 995, 'end': 1003}\n",
            "------------------ page 3 ------------------\n",
            "------------------ page 4 ------------------\n",
            "{'entity_group': 'ORG', 'score': 0.9780289, 'word': 'Société', 'start': 442, 'end': 450}\n",
            "{'entity_group': 'ORG', 'score': 0.41250008, 'word': 'Bérance', 'start': 644, 'end': 652}\n",
            "{'entity_group': 'ORG', 'score': 0.48092663, 'word': 'AHS', 'start': 1523, 'end': 1527}\n",
            "{'entity_group': 'ORG', 'score': 0.64165074, 'word': 'société', 'start': 1643, 'end': 1651}\n",
            "{'entity_group': 'ORG', 'score': 0.5009748, 'word': 'Yun', 'start': 1654, 'end': 1658}\n",
            "{'entity_group': 'ORG', 'score': 0.4766576, 'word': 'I', 'start': 1865, 'end': 1867}\n",
            "------------------ page 5 ------------------\n",
            "------------------ page 6 ------------------\n",
            "------------------ page 7 ------------------\n",
            "{'entity_group': 'ORG', 'score': 0.4806878, 'word': 'Strance', 'start': 607, 'end': 615}\n",
            "{'entity_group': 'ORG', 'score': 0.9266893, 'word': 'SSOCIE', 'start': 626, 'end': 633}\n",
            "{'entity_group': 'ORG', 'score': 0.65708137, 'word': 'assembiée', 'start': 1656, 'end': 1665}\n",
            "{'entity_group': 'ORG', 'score': 0.57827574, 'word': 'mbiée', 'start': 1904, 'end': 1909}\n",
            "------------------ page 8 ------------------\n",
            "{'entity_group': 'ORG', 'score': 0.6091797, 'word': 'Société', 'start': 1848, 'end': 1856}\n",
            "------------------ page 9 ------------------\n"
          ]
        }
      ]
    },
    {
      "cell_type": "markdown",
      "metadata": {
        "id": "gRa4RCslQjsI"
      },
      "source": [
        "# Conclusions\n",
        "\n",
        "In the given 10 page PDF, the expected company to be found is TUR-MAN, which is found by camembert-ner. However, both NER methods are in low precision, as lots of False Negative samples are found. I can't say the predictions are satistying, but at least a way to extract company names out of PDFs under the Pyspark framework is presented."
      ]
    },
    {
      "cell_type": "markdown",
      "metadata": {
        "id": "1_A6f8VoRH6I"
      },
      "source": [
        "# To improve\n",
        "\n",
        "1. Spark-OCR may not the best option for OCR as it's not free, the combination of pdf2image and pytesseract could be a good choice\n",
        "2. Text preprocessing could be introduced in order to make the extracted text cleaner, hence increase the NER accuracy.\n",
        "3. Translating FR into EN might improve the NER, but increase the cost at the same time.\n",
        "4. train customized NER model which is based on the similar PDFs could greatly improve the NER accuracy, but annotation is needed."
      ]
    },
    {
      "cell_type": "code",
      "metadata": {
        "id": "7PS4rW_uRJyE"
      },
      "source": [
        ""
      ],
      "execution_count": null,
      "outputs": []
    }
  ]
}