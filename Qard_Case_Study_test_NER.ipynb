{
  "nbformat": 4,
  "nbformat_minor": 0,
  "metadata": {
    "colab": {
      "name": "Qard_Case_Study_test_NER.ipynb",
      "provenance": [],
      "collapsed_sections": [],
      "authorship_tag": "ABX9TyMXWqbWJphaFPXhksey1n0x",
      "include_colab_link": true
    },
    "kernelspec": {
      "name": "python3",
      "display_name": "Python 3"
    },
    "language_info": {
      "name": "python"
    },
    "widgets": {
      "application/vnd.jupyter.widget-state+json": {
        "4e2c304db45b4e5784090a9b806876a4": {
          "model_module": "@jupyter-widgets/controls",
          "model_name": "HBoxModel",
          "model_module_version": "1.5.0",
          "state": {
            "_view_name": "HBoxView",
            "_dom_classes": [],
            "_model_name": "HBoxModel",
            "_view_module": "@jupyter-widgets/controls",
            "_model_module_version": "1.5.0",
            "_view_count": null,
            "_view_module_version": "1.5.0",
            "box_style": "",
            "layout": "IPY_MODEL_015f29b8f66a4fa1aa05b2f95c52e689",
            "_model_module": "@jupyter-widgets/controls",
            "children": [
              "IPY_MODEL_b50d8ffc51504a4999a100aa7fb4f1f0",
              "IPY_MODEL_37f970a9929e4b549f55d2f4244d88e6",
              "IPY_MODEL_02d0629f87aa4ddab564d9cbc5d76b95"
            ]
          }
        },
        "015f29b8f66a4fa1aa05b2f95c52e689": {
          "model_module": "@jupyter-widgets/base",
          "model_name": "LayoutModel",
          "model_module_version": "1.2.0",
          "state": {
            "_view_name": "LayoutView",
            "grid_template_rows": null,
            "right": null,
            "justify_content": null,
            "_view_module": "@jupyter-widgets/base",
            "overflow": null,
            "_model_module_version": "1.2.0",
            "_view_count": null,
            "flex_flow": null,
            "width": null,
            "min_width": null,
            "border": null,
            "align_items": null,
            "bottom": null,
            "_model_module": "@jupyter-widgets/base",
            "top": null,
            "grid_column": null,
            "overflow_y": null,
            "overflow_x": null,
            "grid_auto_flow": null,
            "grid_area": null,
            "grid_template_columns": null,
            "flex": null,
            "_model_name": "LayoutModel",
            "justify_items": null,
            "grid_row": null,
            "max_height": null,
            "align_content": null,
            "visibility": null,
            "align_self": null,
            "height": null,
            "min_height": null,
            "padding": null,
            "grid_auto_rows": null,
            "grid_gap": null,
            "max_width": null,
            "order": null,
            "_view_module_version": "1.2.0",
            "grid_template_areas": null,
            "object_position": null,
            "object_fit": null,
            "grid_auto_columns": null,
            "margin": null,
            "display": null,
            "left": null
          }
        },
        "b50d8ffc51504a4999a100aa7fb4f1f0": {
          "model_module": "@jupyter-widgets/controls",
          "model_name": "HTMLModel",
          "model_module_version": "1.5.0",
          "state": {
            "_view_name": "HTMLView",
            "style": "IPY_MODEL_39b27e8514f9444681f656796fccc859",
            "_dom_classes": [],
            "description": "",
            "_model_name": "HTMLModel",
            "placeholder": "​",
            "_view_module": "@jupyter-widgets/controls",
            "_model_module_version": "1.5.0",
            "value": "Downloading: 100%",
            "_view_count": null,
            "_view_module_version": "1.5.0",
            "description_tooltip": null,
            "_model_module": "@jupyter-widgets/controls",
            "layout": "IPY_MODEL_e4ed76a38d744f10a5244d5ea7aded61"
          }
        },
        "37f970a9929e4b549f55d2f4244d88e6": {
          "model_module": "@jupyter-widgets/controls",
          "model_name": "FloatProgressModel",
          "model_module_version": "1.5.0",
          "state": {
            "_view_name": "ProgressView",
            "style": "IPY_MODEL_c04f3a2548c4420397610b1b5c965755",
            "_dom_classes": [],
            "description": "",
            "_model_name": "FloatProgressModel",
            "bar_style": "success",
            "max": 269,
            "_view_module": "@jupyter-widgets/controls",
            "_model_module_version": "1.5.0",
            "value": 269,
            "_view_count": null,
            "_view_module_version": "1.5.0",
            "orientation": "horizontal",
            "min": 0,
            "description_tooltip": null,
            "_model_module": "@jupyter-widgets/controls",
            "layout": "IPY_MODEL_f452b10e765b4235b7f812ff3982d609"
          }
        },
        "02d0629f87aa4ddab564d9cbc5d76b95": {
          "model_module": "@jupyter-widgets/controls",
          "model_name": "HTMLModel",
          "model_module_version": "1.5.0",
          "state": {
            "_view_name": "HTMLView",
            "style": "IPY_MODEL_94040fc2ed7747b1bcad0243cb81de8b",
            "_dom_classes": [],
            "description": "",
            "_model_name": "HTMLModel",
            "placeholder": "​",
            "_view_module": "@jupyter-widgets/controls",
            "_model_module_version": "1.5.0",
            "value": " 269/269 [00:00&lt;00:00, 5.79kB/s]",
            "_view_count": null,
            "_view_module_version": "1.5.0",
            "description_tooltip": null,
            "_model_module": "@jupyter-widgets/controls",
            "layout": "IPY_MODEL_cb3c28e6e28f4a71aa27b2c3ab04525c"
          }
        },
        "39b27e8514f9444681f656796fccc859": {
          "model_module": "@jupyter-widgets/controls",
          "model_name": "DescriptionStyleModel",
          "model_module_version": "1.5.0",
          "state": {
            "_view_name": "StyleView",
            "_model_name": "DescriptionStyleModel",
            "description_width": "",
            "_view_module": "@jupyter-widgets/base",
            "_model_module_version": "1.5.0",
            "_view_count": null,
            "_view_module_version": "1.2.0",
            "_model_module": "@jupyter-widgets/controls"
          }
        },
        "e4ed76a38d744f10a5244d5ea7aded61": {
          "model_module": "@jupyter-widgets/base",
          "model_name": "LayoutModel",
          "model_module_version": "1.2.0",
          "state": {
            "_view_name": "LayoutView",
            "grid_template_rows": null,
            "right": null,
            "justify_content": null,
            "_view_module": "@jupyter-widgets/base",
            "overflow": null,
            "_model_module_version": "1.2.0",
            "_view_count": null,
            "flex_flow": null,
            "width": null,
            "min_width": null,
            "border": null,
            "align_items": null,
            "bottom": null,
            "_model_module": "@jupyter-widgets/base",
            "top": null,
            "grid_column": null,
            "overflow_y": null,
            "overflow_x": null,
            "grid_auto_flow": null,
            "grid_area": null,
            "grid_template_columns": null,
            "flex": null,
            "_model_name": "LayoutModel",
            "justify_items": null,
            "grid_row": null,
            "max_height": null,
            "align_content": null,
            "visibility": null,
            "align_self": null,
            "height": null,
            "min_height": null,
            "padding": null,
            "grid_auto_rows": null,
            "grid_gap": null,
            "max_width": null,
            "order": null,
            "_view_module_version": "1.2.0",
            "grid_template_areas": null,
            "object_position": null,
            "object_fit": null,
            "grid_auto_columns": null,
            "margin": null,
            "display": null,
            "left": null
          }
        },
        "c04f3a2548c4420397610b1b5c965755": {
          "model_module": "@jupyter-widgets/controls",
          "model_name": "ProgressStyleModel",
          "model_module_version": "1.5.0",
          "state": {
            "_view_name": "StyleView",
            "_model_name": "ProgressStyleModel",
            "description_width": "",
            "_view_module": "@jupyter-widgets/base",
            "_model_module_version": "1.5.0",
            "_view_count": null,
            "_view_module_version": "1.2.0",
            "bar_color": null,
            "_model_module": "@jupyter-widgets/controls"
          }
        },
        "f452b10e765b4235b7f812ff3982d609": {
          "model_module": "@jupyter-widgets/base",
          "model_name": "LayoutModel",
          "model_module_version": "1.2.0",
          "state": {
            "_view_name": "LayoutView",
            "grid_template_rows": null,
            "right": null,
            "justify_content": null,
            "_view_module": "@jupyter-widgets/base",
            "overflow": null,
            "_model_module_version": "1.2.0",
            "_view_count": null,
            "flex_flow": null,
            "width": null,
            "min_width": null,
            "border": null,
            "align_items": null,
            "bottom": null,
            "_model_module": "@jupyter-widgets/base",
            "top": null,
            "grid_column": null,
            "overflow_y": null,
            "overflow_x": null,
            "grid_auto_flow": null,
            "grid_area": null,
            "grid_template_columns": null,
            "flex": null,
            "_model_name": "LayoutModel",
            "justify_items": null,
            "grid_row": null,
            "max_height": null,
            "align_content": null,
            "visibility": null,
            "align_self": null,
            "height": null,
            "min_height": null,
            "padding": null,
            "grid_auto_rows": null,
            "grid_gap": null,
            "max_width": null,
            "order": null,
            "_view_module_version": "1.2.0",
            "grid_template_areas": null,
            "object_position": null,
            "object_fit": null,
            "grid_auto_columns": null,
            "margin": null,
            "display": null,
            "left": null
          }
        },
        "94040fc2ed7747b1bcad0243cb81de8b": {
          "model_module": "@jupyter-widgets/controls",
          "model_name": "DescriptionStyleModel",
          "model_module_version": "1.5.0",
          "state": {
            "_view_name": "StyleView",
            "_model_name": "DescriptionStyleModel",
            "description_width": "",
            "_view_module": "@jupyter-widgets/base",
            "_model_module_version": "1.5.0",
            "_view_count": null,
            "_view_module_version": "1.2.0",
            "_model_module": "@jupyter-widgets/controls"
          }
        },
        "cb3c28e6e28f4a71aa27b2c3ab04525c": {
          "model_module": "@jupyter-widgets/base",
          "model_name": "LayoutModel",
          "model_module_version": "1.2.0",
          "state": {
            "_view_name": "LayoutView",
            "grid_template_rows": null,
            "right": null,
            "justify_content": null,
            "_view_module": "@jupyter-widgets/base",
            "overflow": null,
            "_model_module_version": "1.2.0",
            "_view_count": null,
            "flex_flow": null,
            "width": null,
            "min_width": null,
            "border": null,
            "align_items": null,
            "bottom": null,
            "_model_module": "@jupyter-widgets/base",
            "top": null,
            "grid_column": null,
            "overflow_y": null,
            "overflow_x": null,
            "grid_auto_flow": null,
            "grid_area": null,
            "grid_template_columns": null,
            "flex": null,
            "_model_name": "LayoutModel",
            "justify_items": null,
            "grid_row": null,
            "max_height": null,
            "align_content": null,
            "visibility": null,
            "align_self": null,
            "height": null,
            "min_height": null,
            "padding": null,
            "grid_auto_rows": null,
            "grid_gap": null,
            "max_width": null,
            "order": null,
            "_view_module_version": "1.2.0",
            "grid_template_areas": null,
            "object_position": null,
            "object_fit": null,
            "grid_auto_columns": null,
            "margin": null,
            "display": null,
            "left": null
          }
        },
        "41f4e1ee988f46a0a6ee95a3d83b8bfe": {
          "model_module": "@jupyter-widgets/controls",
          "model_name": "HBoxModel",
          "model_module_version": "1.5.0",
          "state": {
            "_view_name": "HBoxView",
            "_dom_classes": [],
            "_model_name": "HBoxModel",
            "_view_module": "@jupyter-widgets/controls",
            "_model_module_version": "1.5.0",
            "_view_count": null,
            "_view_module_version": "1.5.0",
            "box_style": "",
            "layout": "IPY_MODEL_2984877db1374c62a75861bfbe94d859",
            "_model_module": "@jupyter-widgets/controls",
            "children": [
              "IPY_MODEL_f35a6c7616b94d03bba316b8471ce888",
              "IPY_MODEL_82f36ba681704ed590293b006515ee68",
              "IPY_MODEL_2a17f2c598e64198ae1c18c26a98ecc2"
            ]
          }
        },
        "2984877db1374c62a75861bfbe94d859": {
          "model_module": "@jupyter-widgets/base",
          "model_name": "LayoutModel",
          "model_module_version": "1.2.0",
          "state": {
            "_view_name": "LayoutView",
            "grid_template_rows": null,
            "right": null,
            "justify_content": null,
            "_view_module": "@jupyter-widgets/base",
            "overflow": null,
            "_model_module_version": "1.2.0",
            "_view_count": null,
            "flex_flow": null,
            "width": null,
            "min_width": null,
            "border": null,
            "align_items": null,
            "bottom": null,
            "_model_module": "@jupyter-widgets/base",
            "top": null,
            "grid_column": null,
            "overflow_y": null,
            "overflow_x": null,
            "grid_auto_flow": null,
            "grid_area": null,
            "grid_template_columns": null,
            "flex": null,
            "_model_name": "LayoutModel",
            "justify_items": null,
            "grid_row": null,
            "max_height": null,
            "align_content": null,
            "visibility": null,
            "align_self": null,
            "height": null,
            "min_height": null,
            "padding": null,
            "grid_auto_rows": null,
            "grid_gap": null,
            "max_width": null,
            "order": null,
            "_view_module_version": "1.2.0",
            "grid_template_areas": null,
            "object_position": null,
            "object_fit": null,
            "grid_auto_columns": null,
            "margin": null,
            "display": null,
            "left": null
          }
        },
        "f35a6c7616b94d03bba316b8471ce888": {
          "model_module": "@jupyter-widgets/controls",
          "model_name": "HTMLModel",
          "model_module_version": "1.5.0",
          "state": {
            "_view_name": "HTMLView",
            "style": "IPY_MODEL_d16db577127b46e78da080bc6eb67bec",
            "_dom_classes": [],
            "description": "",
            "_model_name": "HTMLModel",
            "placeholder": "​",
            "_view_module": "@jupyter-widgets/controls",
            "_model_module_version": "1.5.0",
            "value": "Downloading: 100%",
            "_view_count": null,
            "_view_module_version": "1.5.0",
            "description_tooltip": null,
            "_model_module": "@jupyter-widgets/controls",
            "layout": "IPY_MODEL_1d1a7730db2b41559428f5a097cbcf77"
          }
        },
        "82f36ba681704ed590293b006515ee68": {
          "model_module": "@jupyter-widgets/controls",
          "model_name": "FloatProgressModel",
          "model_module_version": "1.5.0",
          "state": {
            "_view_name": "ProgressView",
            "style": "IPY_MODEL_b007915647904a7f83a3ade8e31c3d45",
            "_dom_classes": [],
            "description": "",
            "_model_name": "FloatProgressModel",
            "bar_style": "success",
            "max": 892,
            "_view_module": "@jupyter-widgets/controls",
            "_model_module_version": "1.5.0",
            "value": 892,
            "_view_count": null,
            "_view_module_version": "1.5.0",
            "orientation": "horizontal",
            "min": 0,
            "description_tooltip": null,
            "_model_module": "@jupyter-widgets/controls",
            "layout": "IPY_MODEL_a19db8a10e9942809cd6e42d5cc88b15"
          }
        },
        "2a17f2c598e64198ae1c18c26a98ecc2": {
          "model_module": "@jupyter-widgets/controls",
          "model_name": "HTMLModel",
          "model_module_version": "1.5.0",
          "state": {
            "_view_name": "HTMLView",
            "style": "IPY_MODEL_241b2d2dc8814c878e007927864a9f55",
            "_dom_classes": [],
            "description": "",
            "_model_name": "HTMLModel",
            "placeholder": "​",
            "_view_module": "@jupyter-widgets/controls",
            "_model_module_version": "1.5.0",
            "value": " 892/892 [00:00&lt;00:00, 21.9kB/s]",
            "_view_count": null,
            "_view_module_version": "1.5.0",
            "description_tooltip": null,
            "_model_module": "@jupyter-widgets/controls",
            "layout": "IPY_MODEL_3878d59c3c364b6ba05be0a7002ca04b"
          }
        },
        "d16db577127b46e78da080bc6eb67bec": {
          "model_module": "@jupyter-widgets/controls",
          "model_name": "DescriptionStyleModel",
          "model_module_version": "1.5.0",
          "state": {
            "_view_name": "StyleView",
            "_model_name": "DescriptionStyleModel",
            "description_width": "",
            "_view_module": "@jupyter-widgets/base",
            "_model_module_version": "1.5.0",
            "_view_count": null,
            "_view_module_version": "1.2.0",
            "_model_module": "@jupyter-widgets/controls"
          }
        },
        "1d1a7730db2b41559428f5a097cbcf77": {
          "model_module": "@jupyter-widgets/base",
          "model_name": "LayoutModel",
          "model_module_version": "1.2.0",
          "state": {
            "_view_name": "LayoutView",
            "grid_template_rows": null,
            "right": null,
            "justify_content": null,
            "_view_module": "@jupyter-widgets/base",
            "overflow": null,
            "_model_module_version": "1.2.0",
            "_view_count": null,
            "flex_flow": null,
            "width": null,
            "min_width": null,
            "border": null,
            "align_items": null,
            "bottom": null,
            "_model_module": "@jupyter-widgets/base",
            "top": null,
            "grid_column": null,
            "overflow_y": null,
            "overflow_x": null,
            "grid_auto_flow": null,
            "grid_area": null,
            "grid_template_columns": null,
            "flex": null,
            "_model_name": "LayoutModel",
            "justify_items": null,
            "grid_row": null,
            "max_height": null,
            "align_content": null,
            "visibility": null,
            "align_self": null,
            "height": null,
            "min_height": null,
            "padding": null,
            "grid_auto_rows": null,
            "grid_gap": null,
            "max_width": null,
            "order": null,
            "_view_module_version": "1.2.0",
            "grid_template_areas": null,
            "object_position": null,
            "object_fit": null,
            "grid_auto_columns": null,
            "margin": null,
            "display": null,
            "left": null
          }
        },
        "b007915647904a7f83a3ade8e31c3d45": {
          "model_module": "@jupyter-widgets/controls",
          "model_name": "ProgressStyleModel",
          "model_module_version": "1.5.0",
          "state": {
            "_view_name": "StyleView",
            "_model_name": "ProgressStyleModel",
            "description_width": "",
            "_view_module": "@jupyter-widgets/base",
            "_model_module_version": "1.5.0",
            "_view_count": null,
            "_view_module_version": "1.2.0",
            "bar_color": null,
            "_model_module": "@jupyter-widgets/controls"
          }
        },
        "a19db8a10e9942809cd6e42d5cc88b15": {
          "model_module": "@jupyter-widgets/base",
          "model_name": "LayoutModel",
          "model_module_version": "1.2.0",
          "state": {
            "_view_name": "LayoutView",
            "grid_template_rows": null,
            "right": null,
            "justify_content": null,
            "_view_module": "@jupyter-widgets/base",
            "overflow": null,
            "_model_module_version": "1.2.0",
            "_view_count": null,
            "flex_flow": null,
            "width": null,
            "min_width": null,
            "border": null,
            "align_items": null,
            "bottom": null,
            "_model_module": "@jupyter-widgets/base",
            "top": null,
            "grid_column": null,
            "overflow_y": null,
            "overflow_x": null,
            "grid_auto_flow": null,
            "grid_area": null,
            "grid_template_columns": null,
            "flex": null,
            "_model_name": "LayoutModel",
            "justify_items": null,
            "grid_row": null,
            "max_height": null,
            "align_content": null,
            "visibility": null,
            "align_self": null,
            "height": null,
            "min_height": null,
            "padding": null,
            "grid_auto_rows": null,
            "grid_gap": null,
            "max_width": null,
            "order": null,
            "_view_module_version": "1.2.0",
            "grid_template_areas": null,
            "object_position": null,
            "object_fit": null,
            "grid_auto_columns": null,
            "margin": null,
            "display": null,
            "left": null
          }
        },
        "241b2d2dc8814c878e007927864a9f55": {
          "model_module": "@jupyter-widgets/controls",
          "model_name": "DescriptionStyleModel",
          "model_module_version": "1.5.0",
          "state": {
            "_view_name": "StyleView",
            "_model_name": "DescriptionStyleModel",
            "description_width": "",
            "_view_module": "@jupyter-widgets/base",
            "_model_module_version": "1.5.0",
            "_view_count": null,
            "_view_module_version": "1.2.0",
            "_model_module": "@jupyter-widgets/controls"
          }
        },
        "3878d59c3c364b6ba05be0a7002ca04b": {
          "model_module": "@jupyter-widgets/base",
          "model_name": "LayoutModel",
          "model_module_version": "1.2.0",
          "state": {
            "_view_name": "LayoutView",
            "grid_template_rows": null,
            "right": null,
            "justify_content": null,
            "_view_module": "@jupyter-widgets/base",
            "overflow": null,
            "_model_module_version": "1.2.0",
            "_view_count": null,
            "flex_flow": null,
            "width": null,
            "min_width": null,
            "border": null,
            "align_items": null,
            "bottom": null,
            "_model_module": "@jupyter-widgets/base",
            "top": null,
            "grid_column": null,
            "overflow_y": null,
            "overflow_x": null,
            "grid_auto_flow": null,
            "grid_area": null,
            "grid_template_columns": null,
            "flex": null,
            "_model_name": "LayoutModel",
            "justify_items": null,
            "grid_row": null,
            "max_height": null,
            "align_content": null,
            "visibility": null,
            "align_self": null,
            "height": null,
            "min_height": null,
            "padding": null,
            "grid_auto_rows": null,
            "grid_gap": null,
            "max_width": null,
            "order": null,
            "_view_module_version": "1.2.0",
            "grid_template_areas": null,
            "object_position": null,
            "object_fit": null,
            "grid_auto_columns": null,
            "margin": null,
            "display": null,
            "left": null
          }
        },
        "4efd5907c31b4e75b5a38b5c07b33b10": {
          "model_module": "@jupyter-widgets/controls",
          "model_name": "HBoxModel",
          "model_module_version": "1.5.0",
          "state": {
            "_view_name": "HBoxView",
            "_dom_classes": [],
            "_model_name": "HBoxModel",
            "_view_module": "@jupyter-widgets/controls",
            "_model_module_version": "1.5.0",
            "_view_count": null,
            "_view_module_version": "1.5.0",
            "box_style": "",
            "layout": "IPY_MODEL_ffd49ef9548e4dcaaf5b5f7b243904da",
            "_model_module": "@jupyter-widgets/controls",
            "children": [
              "IPY_MODEL_5a387dcc496045b3b569d566003687d7",
              "IPY_MODEL_4943f223e619447ab5a7c90fd3b69bee",
              "IPY_MODEL_6ae13266f7a54fe586071644f5e8b771"
            ]
          }
        },
        "ffd49ef9548e4dcaaf5b5f7b243904da": {
          "model_module": "@jupyter-widgets/base",
          "model_name": "LayoutModel",
          "model_module_version": "1.2.0",
          "state": {
            "_view_name": "LayoutView",
            "grid_template_rows": null,
            "right": null,
            "justify_content": null,
            "_view_module": "@jupyter-widgets/base",
            "overflow": null,
            "_model_module_version": "1.2.0",
            "_view_count": null,
            "flex_flow": null,
            "width": null,
            "min_width": null,
            "border": null,
            "align_items": null,
            "bottom": null,
            "_model_module": "@jupyter-widgets/base",
            "top": null,
            "grid_column": null,
            "overflow_y": null,
            "overflow_x": null,
            "grid_auto_flow": null,
            "grid_area": null,
            "grid_template_columns": null,
            "flex": null,
            "_model_name": "LayoutModel",
            "justify_items": null,
            "grid_row": null,
            "max_height": null,
            "align_content": null,
            "visibility": null,
            "align_self": null,
            "height": null,
            "min_height": null,
            "padding": null,
            "grid_auto_rows": null,
            "grid_gap": null,
            "max_width": null,
            "order": null,
            "_view_module_version": "1.2.0",
            "grid_template_areas": null,
            "object_position": null,
            "object_fit": null,
            "grid_auto_columns": null,
            "margin": null,
            "display": null,
            "left": null
          }
        },
        "5a387dcc496045b3b569d566003687d7": {
          "model_module": "@jupyter-widgets/controls",
          "model_name": "HTMLModel",
          "model_module_version": "1.5.0",
          "state": {
            "_view_name": "HTMLView",
            "style": "IPY_MODEL_f0b974aedf5f43a3851613b5f4855db2",
            "_dom_classes": [],
            "description": "",
            "_model_name": "HTMLModel",
            "placeholder": "​",
            "_view_module": "@jupyter-widgets/controls",
            "_model_module_version": "1.5.0",
            "value": "Downloading: 100%",
            "_view_count": null,
            "_view_module_version": "1.5.0",
            "description_tooltip": null,
            "_model_module": "@jupyter-widgets/controls",
            "layout": "IPY_MODEL_e19504bb13de4003878d1a4cc70a85cd"
          }
        },
        "4943f223e619447ab5a7c90fd3b69bee": {
          "model_module": "@jupyter-widgets/controls",
          "model_name": "FloatProgressModel",
          "model_module_version": "1.5.0",
          "state": {
            "_view_name": "ProgressView",
            "style": "IPY_MODEL_1db0fc4e8ce343f2a05a5ad685a28dea",
            "_dom_classes": [],
            "description": "",
            "_model_name": "FloatProgressModel",
            "bar_style": "success",
            "max": 810912,
            "_view_module": "@jupyter-widgets/controls",
            "_model_module_version": "1.5.0",
            "value": 810912,
            "_view_count": null,
            "_view_module_version": "1.5.0",
            "orientation": "horizontal",
            "min": 0,
            "description_tooltip": null,
            "_model_module": "@jupyter-widgets/controls",
            "layout": "IPY_MODEL_43c9699c2dbe4ed7bd835c7299dd0dcd"
          }
        },
        "6ae13266f7a54fe586071644f5e8b771": {
          "model_module": "@jupyter-widgets/controls",
          "model_name": "HTMLModel",
          "model_module_version": "1.5.0",
          "state": {
            "_view_name": "HTMLView",
            "style": "IPY_MODEL_518090ba7cc249dda12c3b6591a41ede",
            "_dom_classes": [],
            "description": "",
            "_model_name": "HTMLModel",
            "placeholder": "​",
            "_view_module": "@jupyter-widgets/controls",
            "_model_module_version": "1.5.0",
            "value": " 792k/792k [00:00&lt;00:00, 2.22MB/s]",
            "_view_count": null,
            "_view_module_version": "1.5.0",
            "description_tooltip": null,
            "_model_module": "@jupyter-widgets/controls",
            "layout": "IPY_MODEL_10be2a0fdc87464189595fee236a7b59"
          }
        },
        "f0b974aedf5f43a3851613b5f4855db2": {
          "model_module": "@jupyter-widgets/controls",
          "model_name": "DescriptionStyleModel",
          "model_module_version": "1.5.0",
          "state": {
            "_view_name": "StyleView",
            "_model_name": "DescriptionStyleModel",
            "description_width": "",
            "_view_module": "@jupyter-widgets/base",
            "_model_module_version": "1.5.0",
            "_view_count": null,
            "_view_module_version": "1.2.0",
            "_model_module": "@jupyter-widgets/controls"
          }
        },
        "e19504bb13de4003878d1a4cc70a85cd": {
          "model_module": "@jupyter-widgets/base",
          "model_name": "LayoutModel",
          "model_module_version": "1.2.0",
          "state": {
            "_view_name": "LayoutView",
            "grid_template_rows": null,
            "right": null,
            "justify_content": null,
            "_view_module": "@jupyter-widgets/base",
            "overflow": null,
            "_model_module_version": "1.2.0",
            "_view_count": null,
            "flex_flow": null,
            "width": null,
            "min_width": null,
            "border": null,
            "align_items": null,
            "bottom": null,
            "_model_module": "@jupyter-widgets/base",
            "top": null,
            "grid_column": null,
            "overflow_y": null,
            "overflow_x": null,
            "grid_auto_flow": null,
            "grid_area": null,
            "grid_template_columns": null,
            "flex": null,
            "_model_name": "LayoutModel",
            "justify_items": null,
            "grid_row": null,
            "max_height": null,
            "align_content": null,
            "visibility": null,
            "align_self": null,
            "height": null,
            "min_height": null,
            "padding": null,
            "grid_auto_rows": null,
            "grid_gap": null,
            "max_width": null,
            "order": null,
            "_view_module_version": "1.2.0",
            "grid_template_areas": null,
            "object_position": null,
            "object_fit": null,
            "grid_auto_columns": null,
            "margin": null,
            "display": null,
            "left": null
          }
        },
        "1db0fc4e8ce343f2a05a5ad685a28dea": {
          "model_module": "@jupyter-widgets/controls",
          "model_name": "ProgressStyleModel",
          "model_module_version": "1.5.0",
          "state": {
            "_view_name": "StyleView",
            "_model_name": "ProgressStyleModel",
            "description_width": "",
            "_view_module": "@jupyter-widgets/base",
            "_model_module_version": "1.5.0",
            "_view_count": null,
            "_view_module_version": "1.2.0",
            "bar_color": null,
            "_model_module": "@jupyter-widgets/controls"
          }
        },
        "43c9699c2dbe4ed7bd835c7299dd0dcd": {
          "model_module": "@jupyter-widgets/base",
          "model_name": "LayoutModel",
          "model_module_version": "1.2.0",
          "state": {
            "_view_name": "LayoutView",
            "grid_template_rows": null,
            "right": null,
            "justify_content": null,
            "_view_module": "@jupyter-widgets/base",
            "overflow": null,
            "_model_module_version": "1.2.0",
            "_view_count": null,
            "flex_flow": null,
            "width": null,
            "min_width": null,
            "border": null,
            "align_items": null,
            "bottom": null,
            "_model_module": "@jupyter-widgets/base",
            "top": null,
            "grid_column": null,
            "overflow_y": null,
            "overflow_x": null,
            "grid_auto_flow": null,
            "grid_area": null,
            "grid_template_columns": null,
            "flex": null,
            "_model_name": "LayoutModel",
            "justify_items": null,
            "grid_row": null,
            "max_height": null,
            "align_content": null,
            "visibility": null,
            "align_self": null,
            "height": null,
            "min_height": null,
            "padding": null,
            "grid_auto_rows": null,
            "grid_gap": null,
            "max_width": null,
            "order": null,
            "_view_module_version": "1.2.0",
            "grid_template_areas": null,
            "object_position": null,
            "object_fit": null,
            "grid_auto_columns": null,
            "margin": null,
            "display": null,
            "left": null
          }
        },
        "518090ba7cc249dda12c3b6591a41ede": {
          "model_module": "@jupyter-widgets/controls",
          "model_name": "DescriptionStyleModel",
          "model_module_version": "1.5.0",
          "state": {
            "_view_name": "StyleView",
            "_model_name": "DescriptionStyleModel",
            "description_width": "",
            "_view_module": "@jupyter-widgets/base",
            "_model_module_version": "1.5.0",
            "_view_count": null,
            "_view_module_version": "1.2.0",
            "_model_module": "@jupyter-widgets/controls"
          }
        },
        "10be2a0fdc87464189595fee236a7b59": {
          "model_module": "@jupyter-widgets/base",
          "model_name": "LayoutModel",
          "model_module_version": "1.2.0",
          "state": {
            "_view_name": "LayoutView",
            "grid_template_rows": null,
            "right": null,
            "justify_content": null,
            "_view_module": "@jupyter-widgets/base",
            "overflow": null,
            "_model_module_version": "1.2.0",
            "_view_count": null,
            "flex_flow": null,
            "width": null,
            "min_width": null,
            "border": null,
            "align_items": null,
            "bottom": null,
            "_model_module": "@jupyter-widgets/base",
            "top": null,
            "grid_column": null,
            "overflow_y": null,
            "overflow_x": null,
            "grid_auto_flow": null,
            "grid_area": null,
            "grid_template_columns": null,
            "flex": null,
            "_model_name": "LayoutModel",
            "justify_items": null,
            "grid_row": null,
            "max_height": null,
            "align_content": null,
            "visibility": null,
            "align_self": null,
            "height": null,
            "min_height": null,
            "padding": null,
            "grid_auto_rows": null,
            "grid_gap": null,
            "max_width": null,
            "order": null,
            "_view_module_version": "1.2.0",
            "grid_template_areas": null,
            "object_position": null,
            "object_fit": null,
            "grid_auto_columns": null,
            "margin": null,
            "display": null,
            "left": null
          }
        },
        "da2f441ae86845d98dbbe3cdffbcc619": {
          "model_module": "@jupyter-widgets/controls",
          "model_name": "HBoxModel",
          "model_module_version": "1.5.0",
          "state": {
            "_view_name": "HBoxView",
            "_dom_classes": [],
            "_model_name": "HBoxModel",
            "_view_module": "@jupyter-widgets/controls",
            "_model_module_version": "1.5.0",
            "_view_count": null,
            "_view_module_version": "1.5.0",
            "box_style": "",
            "layout": "IPY_MODEL_dc475b41d0b14464962b9708b4d6d1bc",
            "_model_module": "@jupyter-widgets/controls",
            "children": [
              "IPY_MODEL_637379b6d44a4ea981b32e4de51e4dc4",
              "IPY_MODEL_b4f99fcef7b14393a76db5f67fb01fea",
              "IPY_MODEL_305040a78bc140c5a16e4e59f556f8b1"
            ]
          }
        },
        "dc475b41d0b14464962b9708b4d6d1bc": {
          "model_module": "@jupyter-widgets/base",
          "model_name": "LayoutModel",
          "model_module_version": "1.2.0",
          "state": {
            "_view_name": "LayoutView",
            "grid_template_rows": null,
            "right": null,
            "justify_content": null,
            "_view_module": "@jupyter-widgets/base",
            "overflow": null,
            "_model_module_version": "1.2.0",
            "_view_count": null,
            "flex_flow": null,
            "width": null,
            "min_width": null,
            "border": null,
            "align_items": null,
            "bottom": null,
            "_model_module": "@jupyter-widgets/base",
            "top": null,
            "grid_column": null,
            "overflow_y": null,
            "overflow_x": null,
            "grid_auto_flow": null,
            "grid_area": null,
            "grid_template_columns": null,
            "flex": null,
            "_model_name": "LayoutModel",
            "justify_items": null,
            "grid_row": null,
            "max_height": null,
            "align_content": null,
            "visibility": null,
            "align_self": null,
            "height": null,
            "min_height": null,
            "padding": null,
            "grid_auto_rows": null,
            "grid_gap": null,
            "max_width": null,
            "order": null,
            "_view_module_version": "1.2.0",
            "grid_template_areas": null,
            "object_position": null,
            "object_fit": null,
            "grid_auto_columns": null,
            "margin": null,
            "display": null,
            "left": null
          }
        },
        "637379b6d44a4ea981b32e4de51e4dc4": {
          "model_module": "@jupyter-widgets/controls",
          "model_name": "HTMLModel",
          "model_module_version": "1.5.0",
          "state": {
            "_view_name": "HTMLView",
            "style": "IPY_MODEL_e401c58d575a4ac5bdf2c9474f0ca984",
            "_dom_classes": [],
            "description": "",
            "_model_name": "HTMLModel",
            "placeholder": "​",
            "_view_module": "@jupyter-widgets/controls",
            "_model_module_version": "1.5.0",
            "value": "Downloading: 100%",
            "_view_count": null,
            "_view_module_version": "1.5.0",
            "description_tooltip": null,
            "_model_module": "@jupyter-widgets/controls",
            "layout": "IPY_MODEL_c99b31cc8c864584ae0b55a05a9ebc0f"
          }
        },
        "b4f99fcef7b14393a76db5f67fb01fea": {
          "model_module": "@jupyter-widgets/controls",
          "model_name": "FloatProgressModel",
          "model_module_version": "1.5.0",
          "state": {
            "_view_name": "ProgressView",
            "style": "IPY_MODEL_659fd7fe76d14e8cb4a8d853f89388ef",
            "_dom_classes": [],
            "description": "",
            "_model_name": "FloatProgressModel",
            "bar_style": "success",
            "max": 210,
            "_view_module": "@jupyter-widgets/controls",
            "_model_module_version": "1.5.0",
            "value": 210,
            "_view_count": null,
            "_view_module_version": "1.5.0",
            "orientation": "horizontal",
            "min": 0,
            "description_tooltip": null,
            "_model_module": "@jupyter-widgets/controls",
            "layout": "IPY_MODEL_d99b72924fde4a288b501a036c9e30be"
          }
        },
        "305040a78bc140c5a16e4e59f556f8b1": {
          "model_module": "@jupyter-widgets/controls",
          "model_name": "HTMLModel",
          "model_module_version": "1.5.0",
          "state": {
            "_view_name": "HTMLView",
            "style": "IPY_MODEL_5ace524d27c946c1b022c737f86c4395",
            "_dom_classes": [],
            "description": "",
            "_model_name": "HTMLModel",
            "placeholder": "​",
            "_view_module": "@jupyter-widgets/controls",
            "_model_module_version": "1.5.0",
            "value": " 210/210 [00:00&lt;00:00, 4.03kB/s]",
            "_view_count": null,
            "_view_module_version": "1.5.0",
            "description_tooltip": null,
            "_model_module": "@jupyter-widgets/controls",
            "layout": "IPY_MODEL_b2e00ee2fafa46ecba83a7b97dccffbf"
          }
        },
        "e401c58d575a4ac5bdf2c9474f0ca984": {
          "model_module": "@jupyter-widgets/controls",
          "model_name": "DescriptionStyleModel",
          "model_module_version": "1.5.0",
          "state": {
            "_view_name": "StyleView",
            "_model_name": "DescriptionStyleModel",
            "description_width": "",
            "_view_module": "@jupyter-widgets/base",
            "_model_module_version": "1.5.0",
            "_view_count": null,
            "_view_module_version": "1.2.0",
            "_model_module": "@jupyter-widgets/controls"
          }
        },
        "c99b31cc8c864584ae0b55a05a9ebc0f": {
          "model_module": "@jupyter-widgets/base",
          "model_name": "LayoutModel",
          "model_module_version": "1.2.0",
          "state": {
            "_view_name": "LayoutView",
            "grid_template_rows": null,
            "right": null,
            "justify_content": null,
            "_view_module": "@jupyter-widgets/base",
            "overflow": null,
            "_model_module_version": "1.2.0",
            "_view_count": null,
            "flex_flow": null,
            "width": null,
            "min_width": null,
            "border": null,
            "align_items": null,
            "bottom": null,
            "_model_module": "@jupyter-widgets/base",
            "top": null,
            "grid_column": null,
            "overflow_y": null,
            "overflow_x": null,
            "grid_auto_flow": null,
            "grid_area": null,
            "grid_template_columns": null,
            "flex": null,
            "_model_name": "LayoutModel",
            "justify_items": null,
            "grid_row": null,
            "max_height": null,
            "align_content": null,
            "visibility": null,
            "align_self": null,
            "height": null,
            "min_height": null,
            "padding": null,
            "grid_auto_rows": null,
            "grid_gap": null,
            "max_width": null,
            "order": null,
            "_view_module_version": "1.2.0",
            "grid_template_areas": null,
            "object_position": null,
            "object_fit": null,
            "grid_auto_columns": null,
            "margin": null,
            "display": null,
            "left": null
          }
        },
        "659fd7fe76d14e8cb4a8d853f89388ef": {
          "model_module": "@jupyter-widgets/controls",
          "model_name": "ProgressStyleModel",
          "model_module_version": "1.5.0",
          "state": {
            "_view_name": "StyleView",
            "_model_name": "ProgressStyleModel",
            "description_width": "",
            "_view_module": "@jupyter-widgets/base",
            "_model_module_version": "1.5.0",
            "_view_count": null,
            "_view_module_version": "1.2.0",
            "bar_color": null,
            "_model_module": "@jupyter-widgets/controls"
          }
        },
        "d99b72924fde4a288b501a036c9e30be": {
          "model_module": "@jupyter-widgets/base",
          "model_name": "LayoutModel",
          "model_module_version": "1.2.0",
          "state": {
            "_view_name": "LayoutView",
            "grid_template_rows": null,
            "right": null,
            "justify_content": null,
            "_view_module": "@jupyter-widgets/base",
            "overflow": null,
            "_model_module_version": "1.2.0",
            "_view_count": null,
            "flex_flow": null,
            "width": null,
            "min_width": null,
            "border": null,
            "align_items": null,
            "bottom": null,
            "_model_module": "@jupyter-widgets/base",
            "top": null,
            "grid_column": null,
            "overflow_y": null,
            "overflow_x": null,
            "grid_auto_flow": null,
            "grid_area": null,
            "grid_template_columns": null,
            "flex": null,
            "_model_name": "LayoutModel",
            "justify_items": null,
            "grid_row": null,
            "max_height": null,
            "align_content": null,
            "visibility": null,
            "align_self": null,
            "height": null,
            "min_height": null,
            "padding": null,
            "grid_auto_rows": null,
            "grid_gap": null,
            "max_width": null,
            "order": null,
            "_view_module_version": "1.2.0",
            "grid_template_areas": null,
            "object_position": null,
            "object_fit": null,
            "grid_auto_columns": null,
            "margin": null,
            "display": null,
            "left": null
          }
        },
        "5ace524d27c946c1b022c737f86c4395": {
          "model_module": "@jupyter-widgets/controls",
          "model_name": "DescriptionStyleModel",
          "model_module_version": "1.5.0",
          "state": {
            "_view_name": "StyleView",
            "_model_name": "DescriptionStyleModel",
            "description_width": "",
            "_view_module": "@jupyter-widgets/base",
            "_model_module_version": "1.5.0",
            "_view_count": null,
            "_view_module_version": "1.2.0",
            "_model_module": "@jupyter-widgets/controls"
          }
        },
        "b2e00ee2fafa46ecba83a7b97dccffbf": {
          "model_module": "@jupyter-widgets/base",
          "model_name": "LayoutModel",
          "model_module_version": "1.2.0",
          "state": {
            "_view_name": "LayoutView",
            "grid_template_rows": null,
            "right": null,
            "justify_content": null,
            "_view_module": "@jupyter-widgets/base",
            "overflow": null,
            "_model_module_version": "1.2.0",
            "_view_count": null,
            "flex_flow": null,
            "width": null,
            "min_width": null,
            "border": null,
            "align_items": null,
            "bottom": null,
            "_model_module": "@jupyter-widgets/base",
            "top": null,
            "grid_column": null,
            "overflow_y": null,
            "overflow_x": null,
            "grid_auto_flow": null,
            "grid_area": null,
            "grid_template_columns": null,
            "flex": null,
            "_model_name": "LayoutModel",
            "justify_items": null,
            "grid_row": null,
            "max_height": null,
            "align_content": null,
            "visibility": null,
            "align_self": null,
            "height": null,
            "min_height": null,
            "padding": null,
            "grid_auto_rows": null,
            "grid_gap": null,
            "max_width": null,
            "order": null,
            "_view_module_version": "1.2.0",
            "grid_template_areas": null,
            "object_position": null,
            "object_fit": null,
            "grid_auto_columns": null,
            "margin": null,
            "display": null,
            "left": null
          }
        },
        "9a918801f3964faab756bec2623e0d0a": {
          "model_module": "@jupyter-widgets/controls",
          "model_name": "HBoxModel",
          "model_module_version": "1.5.0",
          "state": {
            "_view_name": "HBoxView",
            "_dom_classes": [],
            "_model_name": "HBoxModel",
            "_view_module": "@jupyter-widgets/controls",
            "_model_module_version": "1.5.0",
            "_view_count": null,
            "_view_module_version": "1.5.0",
            "box_style": "",
            "layout": "IPY_MODEL_59cd0d07bf6c48a498d2b9ba53b5f3ab",
            "_model_module": "@jupyter-widgets/controls",
            "children": [
              "IPY_MODEL_87b0ee00e9e34956b09987d152e596a1",
              "IPY_MODEL_6968d3740d0c4c3ab54b62a855ce5dd9",
              "IPY_MODEL_8a2008d9131347ada08f2507ff61f2ea"
            ]
          }
        },
        "59cd0d07bf6c48a498d2b9ba53b5f3ab": {
          "model_module": "@jupyter-widgets/base",
          "model_name": "LayoutModel",
          "model_module_version": "1.2.0",
          "state": {
            "_view_name": "LayoutView",
            "grid_template_rows": null,
            "right": null,
            "justify_content": null,
            "_view_module": "@jupyter-widgets/base",
            "overflow": null,
            "_model_module_version": "1.2.0",
            "_view_count": null,
            "flex_flow": null,
            "width": null,
            "min_width": null,
            "border": null,
            "align_items": null,
            "bottom": null,
            "_model_module": "@jupyter-widgets/base",
            "top": null,
            "grid_column": null,
            "overflow_y": null,
            "overflow_x": null,
            "grid_auto_flow": null,
            "grid_area": null,
            "grid_template_columns": null,
            "flex": null,
            "_model_name": "LayoutModel",
            "justify_items": null,
            "grid_row": null,
            "max_height": null,
            "align_content": null,
            "visibility": null,
            "align_self": null,
            "height": null,
            "min_height": null,
            "padding": null,
            "grid_auto_rows": null,
            "grid_gap": null,
            "max_width": null,
            "order": null,
            "_view_module_version": "1.2.0",
            "grid_template_areas": null,
            "object_position": null,
            "object_fit": null,
            "grid_auto_columns": null,
            "margin": null,
            "display": null,
            "left": null
          }
        },
        "87b0ee00e9e34956b09987d152e596a1": {
          "model_module": "@jupyter-widgets/controls",
          "model_name": "HTMLModel",
          "model_module_version": "1.5.0",
          "state": {
            "_view_name": "HTMLView",
            "style": "IPY_MODEL_1db447e7ab104da885c83be376260874",
            "_dom_classes": [],
            "description": "",
            "_model_name": "HTMLModel",
            "placeholder": "​",
            "_view_module": "@jupyter-widgets/controls",
            "_model_module_version": "1.5.0",
            "value": "Downloading: 100%",
            "_view_count": null,
            "_view_module_version": "1.5.0",
            "description_tooltip": null,
            "_model_module": "@jupyter-widgets/controls",
            "layout": "IPY_MODEL_cf892882a4a64771a40135ba476dcbc3"
          }
        },
        "6968d3740d0c4c3ab54b62a855ce5dd9": {
          "model_module": "@jupyter-widgets/controls",
          "model_name": "FloatProgressModel",
          "model_module_version": "1.5.0",
          "state": {
            "_view_name": "ProgressView",
            "style": "IPY_MODEL_8d119346234042c18595fcff6cbcd540",
            "_dom_classes": [],
            "description": "",
            "_model_name": "FloatProgressModel",
            "bar_style": "success",
            "max": 440227047,
            "_view_module": "@jupyter-widgets/controls",
            "_model_module_version": "1.5.0",
            "value": 440227047,
            "_view_count": null,
            "_view_module_version": "1.5.0",
            "orientation": "horizontal",
            "min": 0,
            "description_tooltip": null,
            "_model_module": "@jupyter-widgets/controls",
            "layout": "IPY_MODEL_0b1569b0a39b43eb9be99a4cbead9868"
          }
        },
        "8a2008d9131347ada08f2507ff61f2ea": {
          "model_module": "@jupyter-widgets/controls",
          "model_name": "HTMLModel",
          "model_module_version": "1.5.0",
          "state": {
            "_view_name": "HTMLView",
            "style": "IPY_MODEL_ecd03d958ef6446382ffa3adf7c9123f",
            "_dom_classes": [],
            "description": "",
            "_model_name": "HTMLModel",
            "placeholder": "​",
            "_view_module": "@jupyter-widgets/controls",
            "_model_module_version": "1.5.0",
            "value": " 420M/420M [00:11&lt;00:00, 41.1MB/s]",
            "_view_count": null,
            "_view_module_version": "1.5.0",
            "description_tooltip": null,
            "_model_module": "@jupyter-widgets/controls",
            "layout": "IPY_MODEL_9613d857f20c4900b9c12aed8a23598d"
          }
        },
        "1db447e7ab104da885c83be376260874": {
          "model_module": "@jupyter-widgets/controls",
          "model_name": "DescriptionStyleModel",
          "model_module_version": "1.5.0",
          "state": {
            "_view_name": "StyleView",
            "_model_name": "DescriptionStyleModel",
            "description_width": "",
            "_view_module": "@jupyter-widgets/base",
            "_model_module_version": "1.5.0",
            "_view_count": null,
            "_view_module_version": "1.2.0",
            "_model_module": "@jupyter-widgets/controls"
          }
        },
        "cf892882a4a64771a40135ba476dcbc3": {
          "model_module": "@jupyter-widgets/base",
          "model_name": "LayoutModel",
          "model_module_version": "1.2.0",
          "state": {
            "_view_name": "LayoutView",
            "grid_template_rows": null,
            "right": null,
            "justify_content": null,
            "_view_module": "@jupyter-widgets/base",
            "overflow": null,
            "_model_module_version": "1.2.0",
            "_view_count": null,
            "flex_flow": null,
            "width": null,
            "min_width": null,
            "border": null,
            "align_items": null,
            "bottom": null,
            "_model_module": "@jupyter-widgets/base",
            "top": null,
            "grid_column": null,
            "overflow_y": null,
            "overflow_x": null,
            "grid_auto_flow": null,
            "grid_area": null,
            "grid_template_columns": null,
            "flex": null,
            "_model_name": "LayoutModel",
            "justify_items": null,
            "grid_row": null,
            "max_height": null,
            "align_content": null,
            "visibility": null,
            "align_self": null,
            "height": null,
            "min_height": null,
            "padding": null,
            "grid_auto_rows": null,
            "grid_gap": null,
            "max_width": null,
            "order": null,
            "_view_module_version": "1.2.0",
            "grid_template_areas": null,
            "object_position": null,
            "object_fit": null,
            "grid_auto_columns": null,
            "margin": null,
            "display": null,
            "left": null
          }
        },
        "8d119346234042c18595fcff6cbcd540": {
          "model_module": "@jupyter-widgets/controls",
          "model_name": "ProgressStyleModel",
          "model_module_version": "1.5.0",
          "state": {
            "_view_name": "StyleView",
            "_model_name": "ProgressStyleModel",
            "description_width": "",
            "_view_module": "@jupyter-widgets/base",
            "_model_module_version": "1.5.0",
            "_view_count": null,
            "_view_module_version": "1.2.0",
            "bar_color": null,
            "_model_module": "@jupyter-widgets/controls"
          }
        },
        "0b1569b0a39b43eb9be99a4cbead9868": {
          "model_module": "@jupyter-widgets/base",
          "model_name": "LayoutModel",
          "model_module_version": "1.2.0",
          "state": {
            "_view_name": "LayoutView",
            "grid_template_rows": null,
            "right": null,
            "justify_content": null,
            "_view_module": "@jupyter-widgets/base",
            "overflow": null,
            "_model_module_version": "1.2.0",
            "_view_count": null,
            "flex_flow": null,
            "width": null,
            "min_width": null,
            "border": null,
            "align_items": null,
            "bottom": null,
            "_model_module": "@jupyter-widgets/base",
            "top": null,
            "grid_column": null,
            "overflow_y": null,
            "overflow_x": null,
            "grid_auto_flow": null,
            "grid_area": null,
            "grid_template_columns": null,
            "flex": null,
            "_model_name": "LayoutModel",
            "justify_items": null,
            "grid_row": null,
            "max_height": null,
            "align_content": null,
            "visibility": null,
            "align_self": null,
            "height": null,
            "min_height": null,
            "padding": null,
            "grid_auto_rows": null,
            "grid_gap": null,
            "max_width": null,
            "order": null,
            "_view_module_version": "1.2.0",
            "grid_template_areas": null,
            "object_position": null,
            "object_fit": null,
            "grid_auto_columns": null,
            "margin": null,
            "display": null,
            "left": null
          }
        },
        "ecd03d958ef6446382ffa3adf7c9123f": {
          "model_module": "@jupyter-widgets/controls",
          "model_name": "DescriptionStyleModel",
          "model_module_version": "1.5.0",
          "state": {
            "_view_name": "StyleView",
            "_model_name": "DescriptionStyleModel",
            "description_width": "",
            "_view_module": "@jupyter-widgets/base",
            "_model_module_version": "1.5.0",
            "_view_count": null,
            "_view_module_version": "1.2.0",
            "_model_module": "@jupyter-widgets/controls"
          }
        },
        "9613d857f20c4900b9c12aed8a23598d": {
          "model_module": "@jupyter-widgets/base",
          "model_name": "LayoutModel",
          "model_module_version": "1.2.0",
          "state": {
            "_view_name": "LayoutView",
            "grid_template_rows": null,
            "right": null,
            "justify_content": null,
            "_view_module": "@jupyter-widgets/base",
            "overflow": null,
            "_model_module_version": "1.2.0",
            "_view_count": null,
            "flex_flow": null,
            "width": null,
            "min_width": null,
            "border": null,
            "align_items": null,
            "bottom": null,
            "_model_module": "@jupyter-widgets/base",
            "top": null,
            "grid_column": null,
            "overflow_y": null,
            "overflow_x": null,
            "grid_auto_flow": null,
            "grid_area": null,
            "grid_template_columns": null,
            "flex": null,
            "_model_name": "LayoutModel",
            "justify_items": null,
            "grid_row": null,
            "max_height": null,
            "align_content": null,
            "visibility": null,
            "align_self": null,
            "height": null,
            "min_height": null,
            "padding": null,
            "grid_auto_rows": null,
            "grid_gap": null,
            "max_width": null,
            "order": null,
            "_view_module_version": "1.2.0",
            "grid_template_areas": null,
            "object_position": null,
            "object_fit": null,
            "grid_auto_columns": null,
            "margin": null,
            "display": null,
            "left": null
          }
        }
      }
    }
  },
  "cells": [
    {
      "cell_type": "markdown",
      "metadata": {
        "id": "view-in-github",
        "colab_type": "text"
      },
      "source": [
        "<a href=\"https://colab.research.google.com/github/weichen-liao/Qard_lwc/blob/main/Qard_Case_Study_test_NER.ipynb\" target=\"_parent\"><img src=\"https://colab.research.google.com/assets/colab-badge.svg\" alt=\"Open In Colab\"/></a>"
      ]
    },
    {
      "cell_type": "markdown",
      "metadata": {
        "id": "DiCS67FOXuhy"
      },
      "source": [
        "# Description\n",
        "This notebook explores the performance of different NER methods\n",
        "\n",
        "These methods includes Spacy and camembert-ner\n",
        "\n",
        "The difference on languages are also considered(EN and FR)\n",
        "\n",
        "The conclusion is: **camembert-ner > Spacy-EN > Spacy-FR**"
      ]
    },
    {
      "cell_type": "markdown",
      "metadata": {
        "id": "UFAd4x7xcGRK"
      },
      "source": [
        "### Install Dependencies"
      ]
    },
    {
      "cell_type": "code",
      "metadata": {
        "id": "lBX_3Sl5bv56"
      },
      "source": [
        "! apt-get install poppler-utils\n",
        "! apt-get install tesseract-ocr\n",
        "\n",
        "! pip install pdf2image\n",
        "! pip install pytesseract\n",
        "! pip install pip setuptools wheel\n",
        "! pip install spacy\n",
        "! pip install googletrans\n",
        "! pip install transformers\n",
        "! pip install sentencepiece\n",
        "\n",
        "! python -m spacy download en_core_web_sm\n",
        "! python -m spacy download fr_core_news_sm"
      ],
      "execution_count": null,
      "outputs": []
    },
    {
      "cell_type": "markdown",
      "metadata": {
        "id": "vo5B4mRXYPqf"
      },
      "source": [
        "### Upload the pdf"
      ]
    },
    {
      "cell_type": "code",
      "metadata": {
        "colab": {
          "resources": {
            "http://localhost:8080/nbextensions/google.colab/files.js": {
              "data": "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",
              "ok": true,
              "headers": [
                [
                  "content-type",
                  "application/javascript"
                ]
              ],
              "status": 200,
              "status_text": ""
            }
          },
          "base_uri": "https://localhost:8080/",
          "height": 73
        },
        "id": "h84FnkHXXqJW",
        "outputId": "31e8b6f8-3285-4408-947c-b6b06fbed1b6"
      },
      "source": [
        "from google.colab import files\n",
        "uploaded = files.upload()"
      ],
      "execution_count": 2,
      "outputs": [
        {
          "output_type": "display_data",
          "data": {
            "text/html": [
              "\n",
              "     <input type=\"file\" id=\"files-9215acef-9153-4c91-9fc9-380c1fb182dc\" name=\"files[]\" multiple disabled\n",
              "        style=\"border:none\" />\n",
              "     <output id=\"result-9215acef-9153-4c91-9fc9-380c1fb182dc\">\n",
              "      Upload widget is only available when the cell has been executed in the\n",
              "      current browser session. Please rerun this cell to enable.\n",
              "      </output>\n",
              "      <script src=\"/nbextensions/google.colab/files.js\"></script> "
            ],
            "text/plain": [
              "<IPython.core.display.HTML object>"
            ]
          },
          "metadata": {}
        },
        {
          "output_type": "stream",
          "name": "stdout",
          "text": [
            "Saving test1.pdf to test1.pdf\n"
          ]
        }
      ]
    },
    {
      "cell_type": "code",
      "metadata": {
        "id": "VSmL6xuUZLnr"
      },
      "source": [
        "! mkdir pdf\n",
        "! mv test1.pdf pdf/test1.pdf\n",
        "! mkdir img"
      ],
      "execution_count": 3,
      "outputs": []
    },
    {
      "cell_type": "markdown",
      "metadata": {
        "id": "82nkW19HYb3o"
      },
      "source": [
        "### PDF2image\n",
        "images are saved as ppm format\n",
        "A PPM file is a 24-bit color image formatted using a text format. It stores each pixel with a number from 0 to 65536, which specifies the color of the pixel. PPM files also store the image height and width, whitespace data, and the maximum color value.\n"
      ]
    },
    {
      "cell_type": "code",
      "metadata": {
        "id": "q9QMS1JpYYxC"
      },
      "source": [
        "from pdf2image import convert_from_path, convert_from_bytes\n",
        "\n",
        "images_from_path = convert_from_path('pdf/test1.pdf', output_folder='img/')"
      ],
      "execution_count": 5,
      "outputs": []
    },
    {
      "cell_type": "markdown",
      "metadata": {
        "id": "Y8bMPhRHd2TO"
      },
      "source": [
        "### OCR pytesseract"
      ]
    },
    {
      "cell_type": "code",
      "metadata": {
        "id": "TLcmM4i7baDr"
      },
      "source": [
        "import pytesseract\n",
        "from PIL import Image"
      ],
      "execution_count": 6,
      "outputs": []
    },
    {
      "cell_type": "code",
      "metadata": {
        "colab": {
          "base_uri": "https://localhost:8080/"
        },
        "id": "3URQnByFc3Q9",
        "outputId": "f7200191-c02b-4b73-8862-03717f405755"
      },
      "source": [
        "! ls img/"
      ],
      "execution_count": 7,
      "outputs": [
        {
          "output_type": "stream",
          "name": "stdout",
          "text": [
            "886d9d4a-daea-4571-9e3f-e035361ab0b0-01.ppm\n",
            "886d9d4a-daea-4571-9e3f-e035361ab0b0-02.ppm\n",
            "886d9d4a-daea-4571-9e3f-e035361ab0b0-03.ppm\n",
            "886d9d4a-daea-4571-9e3f-e035361ab0b0-04.ppm\n",
            "886d9d4a-daea-4571-9e3f-e035361ab0b0-05.ppm\n",
            "886d9d4a-daea-4571-9e3f-e035361ab0b0-06.ppm\n",
            "886d9d4a-daea-4571-9e3f-e035361ab0b0-07.ppm\n",
            "886d9d4a-daea-4571-9e3f-e035361ab0b0-08.ppm\n",
            "886d9d4a-daea-4571-9e3f-e035361ab0b0-09.ppm\n",
            "886d9d4a-daea-4571-9e3f-e035361ab0b0-10.ppm\n",
            "8b453f0b-c20e-4329-bd4e-0c43b2525f13-01.ppm\n",
            "8b453f0b-c20e-4329-bd4e-0c43b2525f13-02.ppm\n",
            "8b453f0b-c20e-4329-bd4e-0c43b2525f13-03.ppm\n",
            "8b453f0b-c20e-4329-bd4e-0c43b2525f13-04.ppm\n",
            "8b453f0b-c20e-4329-bd4e-0c43b2525f13-05.ppm\n",
            "8b453f0b-c20e-4329-bd4e-0c43b2525f13-06.ppm\n",
            "8b453f0b-c20e-4329-bd4e-0c43b2525f13-07.ppm\n",
            "8b453f0b-c20e-4329-bd4e-0c43b2525f13-08.ppm\n",
            "8b453f0b-c20e-4329-bd4e-0c43b2525f13-09.ppm\n",
            "8b453f0b-c20e-4329-bd4e-0c43b2525f13-10.ppm\n"
          ]
        }
      ]
    },
    {
      "cell_type": "code",
      "metadata": {
        "colab": {
          "base_uri": "https://localhost:8080/"
        },
        "id": "9kS72kfZfQV3",
        "outputId": "74d6d1b1-48f3-4fb2-d358-1150a635b04f"
      },
      "source": [
        "text = pytesseract.image_to_string(Image.open('img/886d9d4a-daea-4571-9e3f-e035361ab0b0-02.ppm'))\n",
        "print(text)"
      ],
      "execution_count": 8,
      "outputs": [
        {
          "output_type": "stream",
          "name": "stdout",
          "text": [
            "Les soussignés :\n",
            "\n",
            "Monsieur TUREMEN Suleyman\n",
            "\n",
            "Né le : 17 Novembre 1968 a CIVRIL (Turquie)\n",
            "\n",
            "Domicilié : 7, rue des Pommiers — 76410 SAINT AUBIN LES ELBEUF\n",
            "Nationalité : Turque\n",
            "\n",
            "Titre de séjour N° 750252713 — valable jusqu’au 02 Mai 2014\n",
            "\n",
            "Monsieur YILANCI Sezai\n",
            "\n",
            "Né le : 4 Décembre 1974 a CIVRIL (Turquie)\n",
            "\n",
            "Domicili¢ ; 5, place des Etoiles Escal.3 — 93230 ROMAINVILLE\n",
            "Nationalité : Turque\n",
            "\n",
            "Titre de séjour N° 763034864 — valable jusqu’an 22 Janvier 2011\n",
            "\n",
            "Monsieur ERDOGDU Almet\n",
            "\n",
            "Né le : 17 Novembre 1972 a CIVRIL (Turquie)\n",
            "\n",
            "Domicilié : Cité Youri Gargarine — Batiment J — 93230 - ROMAINVILLE\n",
            "Nationalité : Turque\n",
            "\n",
            "Ont convenu ce qui suit :\n",
            "\n",
            "Article 1—- FORME\n",
            "\n",
            "Tl est formé entre les soussignés une société 4 responsabilité limitée, qui sera régie par les lois en vigueur ainsi\n",
            "qne par les présents statuts.\n",
            "\n",
            "Article 2 - OBJET SOCIAL\n",
            "\n",
            "La société a pour objet toutes activités d’entreprise de magonnerie neuf et rénovation et généralement toutes\n",
            "opérations commerciales, financitres, mobilitres ou immobiliéres, pouvant se rattacher directement ou\n",
            "indirectement a |’ objet social ou susceptible d’en facilité l’extension ou le développement ainsi que la vente de\n",
            "\n",
            "commerce en détail,\n",
            "\n",
            "Article 3— DENOMINATION\n",
            "\n",
            "La dénomination de la société est : TUR - MAN\n",
            "Dans tous les actes et documents émanant de la société, lz dénomination sociale doit étre précédée ou snivie\n",
            "immédiatement des mots « société 4 responsabilité limitée » on des initiales « S.A.R.L » et de |’énonciation du\n",
            "montant da capital social.\n",
            "Article 4— SIEGE SOCIAL\n",
            "Le siége social est fixé 427000 EVREUX\n",
            "\n",
            "130, Rue Clément Ader\n",
            "\n",
            "Tl pourra étre transféré dans tout autre endroit dé la méme ville par simple décision du gérant, et en tout autre licu\n",
            "en vertu d’une décision extraordinaire des associés\n",
            "\f\n"
          ]
        }
      ]
    },
    {
      "cell_type": "markdown",
      "metadata": {
        "id": "JWRTgAHVjFrg"
      },
      "source": [
        "### Spacy NER"
      ]
    },
    {
      "cell_type": "markdown",
      "metadata": {
        "id": "hbUMx4Lb4YJ2"
      },
      "source": [
        "the in-built MER French model of Spacy is very inaccurate and limited, for example it can tell Apple from **Apple est une entreprise internationale** but can't tell Tesla from **Tesla est une entreprise international**. when seeing an unseen company name, it would most likely fail."
      ]
    },
    {
      "cell_type": "code",
      "metadata": {
        "colab": {
          "base_uri": "https://localhost:8080/"
        },
        "id": "CbPRPE5PfYgY",
        "outputId": "767cadc5-284a-4a2b-ebc8-6cc55495bc5d"
      },
      "source": [
        "import spacy\n",
        "from spacy import displacy\n",
        "import fr_core_news_sm\n",
        "# import en_core_web_sm\n",
        "\n",
        "def show_ents(doc):\n",
        "  if doc.ents:\n",
        "    for ent in doc.ents:\n",
        "      print('|'.join([ent.text.strip(), ent.label_, str(spacy.explain(ent.label_))]))\n",
        "\n",
        "text1 = 'Apple est une entreprise internationale'\n",
        "text2 = 'Tesla est une entreprise internationale'\n",
        "text3 =  'TUR - MAN est une entreprise internationale'\n",
        "text4 = 'La dénomination de la société est : TUR - MAN'\n",
        "nlp = fr_core_news_sm.load()\n",
        "for t in [text1, text2, text3, text4]:\n",
        "  doc = nlp(t)\n",
        "  show_ents(doc)\n",
        "  # displacy.render(doc, style='ent',jupyter=True, options={'ents': ['ORG', 'PRODUCT']})\n",
        "  # displacy.render(doc, style='ent',jupyter=True)\n"
      ],
      "execution_count": 13,
      "outputs": [
        {
          "output_type": "stream",
          "name": "stdout",
          "text": [
            "Apple|ORG|Companies, agencies, institutions, etc.\n",
            "Tesla|LOC|Non-GPE locations, mountain ranges, bodies of water\n",
            "TUR|MISC|Miscellaneous entities, e.g. events, nationalities, products or works of art\n",
            "MAN|MISC|Miscellaneous entities, e.g. events, nationalities, products or works of art\n",
            "TUR|MISC|Miscellaneous entities, e.g. events, nationalities, products or works of art\n"
          ]
        }
      ]
    },
    {
      "cell_type": "markdown",
      "metadata": {
        "id": "W3fj2IeK6Sf4"
      },
      "source": [
        "Let's try the English NER model"
      ]
    },
    {
      "cell_type": "code",
      "metadata": {
        "id": "Iynv7MHkmmcF",
        "colab": {
          "base_uri": "https://localhost:8080/"
        },
        "outputId": "e88d8e55-9d15-4fb6-c24a-c597900ac690"
      },
      "source": [
        "import en_core_web_sm\n",
        "text1 = 'Apple is an international company'\n",
        "text2 = 'Tesla is an international company'\n",
        "text3 = 'TUR - MAN is an international company'\n",
        "text4 = 'NAME The name of the company is: TUR - MAN'\n",
        "nlp = en_core_web_sm.load()\n",
        "for t in [text1, text2, text3, text4]:\n",
        "  doc = nlp(t)\n",
        "  show_ents(doc)\n",
        "  # displacy.render(doc, style='ent',jupyter=True)"
      ],
      "execution_count": 11,
      "outputs": [
        {
          "output_type": "stream",
          "name": "stdout",
          "text": [
            "Apple|ORG|Companies, agencies, institutions, etc.\n",
            "Tesla|ORG|Companies, agencies, institutions, etc.\n",
            "TUR - MAN|ORG|Companies, agencies, institutions, etc.\n",
            "TUR - MAN|PRODUCT|Objects, vehicles, foods, etc. (not services)\n"
          ]
        }
      ]
    },
    {
      "cell_type": "markdown",
      "metadata": {
        "id": "TsfT_6ZsDHP4"
      },
      "source": [
        "I translated the page into English using GoogleTranslate, the NER is still a big mess, to many False Positives"
      ]
    },
    {
      "cell_type": "code",
      "metadata": {
        "colab": {
          "base_uri": "https://localhost:8080/"
        },
        "id": "aG2oxyrOChBV",
        "outputId": "06d27c66-e3b3-4e83-d0ef-c176aa61a23e"
      },
      "source": [
        "text_translated = \"\"\"\n",
        "Each share gives its owner an equal right in your shareholder's profits and in all assets.\n",
        "social. Any share gives the right to a vote in all votes and deliberations.\n",
        "\n",
        " \n",
        "\n",
        "Any transfer of shares must be recorded by a notarial deed or under private signature to be enforceable 8 days\n",
        "company, it must be served by bailiff's writ or be accepted by it in a notarial deed.\n",
        "\n",
        "The shares are freely transferable between partners. They cannot be sold to foreign third parties.\n",
        "company, only with the consent of the majority of associates representing at least three / quarters of the shares\n",
        "social, this majority being determined taking into account the person and the shares of the cbdant lassoé. the\n",
        "consent is requested in accordance with the procedure provided for by law. The shares are freely transferable\n",
        "by vale of succession or in the event of community liquidation between spouses, and freely transferable between\n",
        "spouses and between ascendants.\n",
        "\n",
        "acquisition by the spouse, subsequent to the realization of the ownership or the purchase, as a partner\n",
        "under the conditions set by fartlele 1832-2 of the Civil Code, is subject to the consent of the Maforité des\n",
        "associated, representing at least bes three / quarters of the soda shares.\n",
        "\n",
        "The company has given its consent to a plan to pledge shares, either by notification of\n",
        "its decision & the interested party, either by default of response within a period of three months & from the request, this\n",
        "consent will result in the consent of the assignee in the event of formalization of shares, according to the\n",
        "provisions of Article 207, paragraphs 1 ° of the Civil Code, 3 unless the company prefers, after transfer, to redeem\n",
        "without dei the living shares reduce the capital.\n",
        "\n",
        "Article 31 ~ RESPONSIBILITY OF PARTNERS\n",
        "Assotids are only liable to third parties up to the amount of their contribution.\n",
        "\n",
        "they are, however, voluntarily respansabies for five years, vis-a-vis the thirds, of the value attributed to\n",
        "spposts in natare.\n",
        "\n",
        "This responsibility only comes into play if there has been no intervention by a commissioner in an apartment or\n",
        "when [the value retained by your partner is different from that proposed by the contribution auditor.\n",
        "\n",
        "In addition, you are reminded that, in accordance with your law, forsque reorganization or judicial liquidation\n",
        "an Insufficiency of assets, the court may, in the event of a mismanagement that contributed to this\n",
        "insufficient, decide that the debts of the company will be borne in whole or in part, by the directors of\n",
        "law or de facto, or some of them, with or without sofidarity.\n",
        "\n",
        "Article 32 ~ MANAGEMENT\n",
        "Modatted:\n",
        "\n",
        "The sockété is managed by one or more natural persons, associates or not, appointed with or without.\n",
        "time limit. In the latter case, the geranite (s) are always eligible.\n",
        "\n",
        "The managers are appointed by deviation from partners representing more than half of the shares.\n",
        "\n",
        "In compensation for his duties, each manager is entitled to a fixed, proportional or mixed salary, the amount of which\n",
        "amount and modalities of palerment health determined by collective ardinary decision of the partners.\n",
        "\"\"\"\n",
        "doc = nlp(text_translated)\n",
        "show_ents(doc)\n",
        "# displacy.render(doc, style='ent',jupyter=True)"
      ],
      "execution_count": 14,
      "outputs": [
        {
          "output_type": "stream",
          "name": "stdout",
          "text": [
            "Any share gives the right to|MISC|Miscellaneous entities, e.g. events, nationalities, products or works of art\n",
            "it must be served|MISC|Miscellaneous entities, e.g. events, nationalities, products or works of art\n",
            "be accepted by it in|ORG|Companies, agencies, institutions, etc.\n",
            "between partners|MISC|Miscellaneous entities, e.g. events, nationalities, products or works of art\n",
            "They cannot be sold to foreign third parties|MISC|Miscellaneous entities, e.g. events, nationalities, products or works of art\n",
            "and freely|PER|Named person or family.\n",
            "between|MISC|Miscellaneous entities, e.g. events, nationalities, products or works of art\n",
            "as|MISC|Miscellaneous entities, e.g. events, nationalities, products or works of art\n",
            "under the conditions set by fartlele|MISC|Miscellaneous entities, e.g. events, nationalities, products or works of art\n",
            "-2 of the Civil Code|MISC|Miscellaneous entities, e.g. events, nationalities, products or works of art\n",
            "is subject to the consent of the Maforité|MISC|Miscellaneous entities, e.g. events, nationalities, products or works of art\n",
            "representing at least bes three|MISC|Miscellaneous entities, e.g. events, nationalities, products or works of art\n",
            "quarters of the soda shares|MISC|Miscellaneous entities, e.g. events, nationalities, products or works of art\n",
            "The company has given its|ORG|Companies, agencies, institutions, etc.\n",
            "either by default of response within|ORG|Companies, agencies, institutions, etc.\n",
            "period of three months & from the request|ORG|Companies, agencies, institutions, etc.\n",
            "this|PER|Named person or family.\n",
            "will result|PER|Named person or family.\n",
            "of the assignee|MISC|Miscellaneous entities, e.g. events, nationalities, products or works of art\n",
            "according to the\n",
            "provisions of Article 207|ORG|Companies, agencies, institutions, etc.\n",
            "paragraphs 1|ORG|Companies, agencies, institutions, etc.\n",
            "of the Civil Code|MISC|Miscellaneous entities, e.g. events, nationalities, products or works of art\n",
            "without dei the living shares|ORG|Companies, agencies, institutions, etc.\n",
            "the capital|ORG|Companies, agencies, institutions, etc.\n",
            "RESPONSIBILITY OF PARTNERS|ORG|Companies, agencies, institutions, etc.\n",
            "Assotids are only|PER|Named person or family.\n",
            "vis the thirds|MISC|Miscellaneous entities, e.g. events, nationalities, products or works of art\n",
            "of the value attributed to\n",
            "spposts in natare|MISC|Miscellaneous entities, e.g. events, nationalities, products or works of art\n",
            "play if there has|ORG|Companies, agencies, institutions, etc.\n",
            "when|ORG|Companies, agencies, institutions, etc.\n",
            "the value retained by your partner is|MISC|Miscellaneous entities, e.g. events, nationalities, products or works of art\n",
            "from that proposed by the contribution auditor|PER|Named person or family.\n",
            "you are reminded that|MISC|Miscellaneous entities, e.g. events, nationalities, products or works of art\n",
            "with your law|MISC|Miscellaneous entities, e.g. events, nationalities, products or works of art\n",
            "Insufficiency of assets|MISC|Miscellaneous entities, e.g. events, nationalities, products or works of art\n",
            "the court may|MISC|Miscellaneous entities, e.g. events, nationalities, products or works of art\n",
            "in the event of|MISC|Miscellaneous entities, e.g. events, nationalities, products or works of art\n",
            "contributed to this|MISC|Miscellaneous entities, e.g. events, nationalities, products or works of art\n",
            "that the debts of the company will be borne in whole|MISC|Miscellaneous entities, e.g. events, nationalities, products or works of art\n",
            "the directors of|MISC|Miscellaneous entities, e.g. events, nationalities, products or works of art\n",
            "some of them|MISC|Miscellaneous entities, e.g. events, nationalities, products or works of art\n",
            "with or without sofidarity|MISC|Miscellaneous entities, e.g. events, nationalities, products or works of art\n",
            "is managed by one|MISC|Miscellaneous entities, e.g. events, nationalities, products or works of art\n",
            "appointed with|PER|Named person or family.\n",
            "In the latter case|MISC|Miscellaneous entities, e.g. events, nationalities, products or works of art\n",
            "The managers are appointed by deviation from partners representing|MISC|Miscellaneous entities, e.g. events, nationalities, products or works of art\n",
            "the amount of which|MISC|Miscellaneous entities, e.g. events, nationalities, products or works of art\n",
            "amount and modalities of|ORG|Companies, agencies, institutions, etc.\n",
            "health determined by collective|ORG|Companies, agencies, institutions, etc.\n"
          ]
        }
      ]
    },
    {
      "cell_type": "markdown",
      "metadata": {
        "id": "IYVoyUr1DWFC"
      },
      "source": [
        "***Another problem of translating the document into English before using Spacy NER, is that it can't be scaled as translation APIs are costly. ***"
      ]
    },
    {
      "cell_type": "markdown",
      "metadata": {
        "id": "PXo-6dmP9kEW"
      },
      "source": [
        "### **camembert-ner NER**\n",
        "[camembert-ner] is a NER model that was fine-tuned from camemBERT on wikiner-fr dataset. Model was trained on wikiner-fr dataset (~170 634 sentences). Model was validated on emails/chat data and overperformed other models on this type of data specifically. In particular the model seems to work better on entity that don't start with an upper case."
      ]
    },
    {
      "cell_type": "code",
      "metadata": {
        "id": "ROQyOtWImxN2",
        "colab": {
          "base_uri": "https://localhost:8080/",
          "height": 177,
          "referenced_widgets": [
            "4e2c304db45b4e5784090a9b806876a4",
            "015f29b8f66a4fa1aa05b2f95c52e689",
            "b50d8ffc51504a4999a100aa7fb4f1f0",
            "37f970a9929e4b549f55d2f4244d88e6",
            "02d0629f87aa4ddab564d9cbc5d76b95",
            "39b27e8514f9444681f656796fccc859",
            "e4ed76a38d744f10a5244d5ea7aded61",
            "c04f3a2548c4420397610b1b5c965755",
            "f452b10e765b4235b7f812ff3982d609",
            "94040fc2ed7747b1bcad0243cb81de8b",
            "cb3c28e6e28f4a71aa27b2c3ab04525c",
            "41f4e1ee988f46a0a6ee95a3d83b8bfe",
            "2984877db1374c62a75861bfbe94d859",
            "f35a6c7616b94d03bba316b8471ce888",
            "82f36ba681704ed590293b006515ee68",
            "2a17f2c598e64198ae1c18c26a98ecc2",
            "d16db577127b46e78da080bc6eb67bec",
            "1d1a7730db2b41559428f5a097cbcf77",
            "b007915647904a7f83a3ade8e31c3d45",
            "a19db8a10e9942809cd6e42d5cc88b15",
            "241b2d2dc8814c878e007927864a9f55",
            "3878d59c3c364b6ba05be0a7002ca04b",
            "4efd5907c31b4e75b5a38b5c07b33b10",
            "ffd49ef9548e4dcaaf5b5f7b243904da",
            "5a387dcc496045b3b569d566003687d7",
            "4943f223e619447ab5a7c90fd3b69bee",
            "6ae13266f7a54fe586071644f5e8b771",
            "f0b974aedf5f43a3851613b5f4855db2",
            "e19504bb13de4003878d1a4cc70a85cd",
            "1db0fc4e8ce343f2a05a5ad685a28dea",
            "43c9699c2dbe4ed7bd835c7299dd0dcd",
            "518090ba7cc249dda12c3b6591a41ede",
            "10be2a0fdc87464189595fee236a7b59",
            "da2f441ae86845d98dbbe3cdffbcc619",
            "dc475b41d0b14464962b9708b4d6d1bc",
            "637379b6d44a4ea981b32e4de51e4dc4",
            "b4f99fcef7b14393a76db5f67fb01fea",
            "305040a78bc140c5a16e4e59f556f8b1",
            "e401c58d575a4ac5bdf2c9474f0ca984",
            "c99b31cc8c864584ae0b55a05a9ebc0f",
            "659fd7fe76d14e8cb4a8d853f89388ef",
            "d99b72924fde4a288b501a036c9e30be",
            "5ace524d27c946c1b022c737f86c4395",
            "b2e00ee2fafa46ecba83a7b97dccffbf",
            "9a918801f3964faab756bec2623e0d0a",
            "59cd0d07bf6c48a498d2b9ba53b5f3ab",
            "87b0ee00e9e34956b09987d152e596a1",
            "6968d3740d0c4c3ab54b62a855ce5dd9",
            "8a2008d9131347ada08f2507ff61f2ea",
            "1db447e7ab104da885c83be376260874",
            "cf892882a4a64771a40135ba476dcbc3",
            "8d119346234042c18595fcff6cbcd540",
            "0b1569b0a39b43eb9be99a4cbead9868",
            "ecd03d958ef6446382ffa3adf7c9123f",
            "9613d857f20c4900b9c12aed8a23598d"
          ]
        },
        "outputId": "0d9d79fa-0672-4132-a91d-61dd4c359de9"
      },
      "source": [
        "from transformers import AutoTokenizer, AutoModelForTokenClassification\n",
        "from transformers import pipeline\n",
        "\n",
        "tokenizer = AutoTokenizer.from_pretrained(\"Jean-Baptiste/camembert-ner\")\n",
        "model = AutoModelForTokenClassification.from_pretrained(\"Jean-Baptiste/camembert-ner\")\n",
        "\n",
        "nlp_tf = pipeline('ner', model=model, tokenizer=tokenizer, aggregation_strategy=\"simple\")\n"
      ],
      "execution_count": 15,
      "outputs": [
        {
          "output_type": "display_data",
          "data": {
            "application/vnd.jupyter.widget-view+json": {
              "model_id": "4e2c304db45b4e5784090a9b806876a4",
              "version_minor": 0,
              "version_major": 2
            },
            "text/plain": [
              "Downloading:   0%|          | 0.00/269 [00:00<?, ?B/s]"
            ]
          },
          "metadata": {}
        },
        {
          "output_type": "display_data",
          "data": {
            "application/vnd.jupyter.widget-view+json": {
              "model_id": "41f4e1ee988f46a0a6ee95a3d83b8bfe",
              "version_minor": 0,
              "version_major": 2
            },
            "text/plain": [
              "Downloading:   0%|          | 0.00/892 [00:00<?, ?B/s]"
            ]
          },
          "metadata": {}
        },
        {
          "output_type": "display_data",
          "data": {
            "application/vnd.jupyter.widget-view+json": {
              "model_id": "4efd5907c31b4e75b5a38b5c07b33b10",
              "version_minor": 0,
              "version_major": 2
            },
            "text/plain": [
              "Downloading:   0%|          | 0.00/792k [00:00<?, ?B/s]"
            ]
          },
          "metadata": {}
        },
        {
          "output_type": "display_data",
          "data": {
            "application/vnd.jupyter.widget-view+json": {
              "model_id": "da2f441ae86845d98dbbe3cdffbcc619",
              "version_minor": 0,
              "version_major": 2
            },
            "text/plain": [
              "Downloading:   0%|          | 0.00/210 [00:00<?, ?B/s]"
            ]
          },
          "metadata": {}
        },
        {
          "output_type": "display_data",
          "data": {
            "application/vnd.jupyter.widget-view+json": {
              "model_id": "9a918801f3964faab756bec2623e0d0a",
              "version_minor": 0,
              "version_major": 2
            },
            "text/plain": [
              "Downloading:   0%|          | 0.00/420M [00:00<?, ?B/s]"
            ]
          },
          "metadata": {}
        }
      ]
    },
    {
      "cell_type": "markdown",
      "metadata": {
        "id": "Et08Njb5G2wt"
      },
      "source": [
        "the performance seems better"
      ]
    },
    {
      "cell_type": "code",
      "metadata": {
        "colab": {
          "base_uri": "https://localhost:8080/"
        },
        "id": "5abrRkI08Q_1",
        "outputId": "e232baa1-7e09-472d-83f5-af9e2c170923"
      },
      "source": [
        "text1 = 'Apple est une entreprise internationale'\n",
        "text2 = 'Tesla est une entreprise internationale'\n",
        "text3 =  'TUR - MAN est une entreprise internationale'\n",
        "text4 = 'La dénomination de la société est : TUR - MAN'\n",
        "\n",
        "for item in nlp_tf(text.replace(' - ', '-')):\n",
        "  # if item['entity_group']=='ORG':\n",
        "    print(item)"
      ],
      "execution_count": 17,
      "outputs": [
        {
          "output_type": "stream",
          "name": "stdout",
          "text": [
            "{'entity_group': 'PER', 'score': 0.99780595, 'word': 'TUREMEN Suleyman', 'start': 26, 'end': 43}\n",
            "{'entity_group': 'LOC', 'score': 0.9987271, 'word': 'CIVRIL', 'start': 71, 'end': 78}\n",
            "{'entity_group': 'LOC', 'score': 0.998704, 'word': 'Turquie', 'start': 80, 'end': 87}\n",
            "{'entity_group': 'LOC', 'score': 0.89125204, 'word': 'rue des Pommiers', 'start': 104, 'end': 121}\n",
            "{'entity_group': 'LOC', 'score': 0.99848354, 'word': 'SAINT AUBIN LES ELBEUF', 'start': 129, 'end': 152}\n",
            "{'entity_group': 'LOC', 'score': 0.7559233, 'word': 'Turque', 'start': 166, 'end': 173}\n",
            "{'entity_group': 'PER', 'score': 0.9979638, 'word': 'YILANCI Sezai', 'start': 244, 'end': 258}\n",
            "{'entity_group': 'LOC', 'score': 0.99869937, 'word': 'CIVRIL', 'start': 285, 'end': 292}\n",
            "{'entity_group': 'LOC', 'score': 0.9986891, 'word': 'Turquie', 'start': 294, 'end': 301}\n",
            "{'entity_group': 'LOC', 'score': 0.9725759, 'word': 'place des Etoiles Escal.3', 'start': 318, 'end': 344}\n",
            "{'entity_group': 'LOC', 'score': 0.8613232, 'word': '3230 ROMAINVILLE', 'start': 348, 'end': 364}\n",
            "{'entity_group': 'LOC', 'score': 0.76341605, 'word': 'Turque', 'start': 378, 'end': 385}\n",
            "{'entity_group': 'PER', 'score': 0.9980121, 'word': 'ERDOGDU Almet', 'start': 460, 'end': 474}\n",
            "{'entity_group': 'LOC', 'score': 0.99875134, 'word': 'CIVRIL', 'start': 502, 'end': 509}\n",
            "{'entity_group': 'LOC', 'score': 0.9987592, 'word': 'Turquie', 'start': 511, 'end': 518}\n",
            "{'entity_group': 'LOC', 'score': 0.7722537, 'word': 'Cité Youri', 'start': 532, 'end': 543}\n",
            "{'entity_group': 'PER', 'score': 0.65378976, 'word': 'Gargarine', 'start': 543, 'end': 553}\n",
            "{'entity_group': 'LOC', 'score': 0.95640117, 'word': 'Batiment J', 'start': 555, 'end': 566}\n",
            "{'entity_group': 'LOC', 'score': 0.89177686, 'word': '93230-ROMAINVILLE', 'start': 568, 'end': 586}\n",
            "{'entity_group': 'LOC', 'score': 0.755172, 'word': 'Turque', 'start': 600, 'end': 607}\n",
            "{'entity_group': 'ORG', 'score': 0.9547051, 'word': 'TUR-MAN', 'start': 1236, 'end': 1244}\n",
            "{'entity_group': 'ORG', 'score': 0.9755763, 'word': 'S.A.R.L', 'start': 1432, 'end': 1440}\n",
            "{'entity_group': 'LOC', 'score': 0.9986834, 'word': 'EVREUX', 'start': 1548, 'end': 1555}\n",
            "{'entity_group': 'LOC', 'score': 0.930398, 'word': 'Rue Clément Ader', 'start': 1561, 'end': 1578}\n"
          ]
        }
      ]
    },
    {
      "cell_type": "code",
      "metadata": {
        "id": "8pKjOySd-Osu"
      },
      "source": [
        ""
      ],
      "execution_count": null,
      "outputs": []
    },
    {
      "cell_type": "code",
      "metadata": {
        "id": "LiDQ32GRCX7D"
      },
      "source": [
        ""
      ],
      "execution_count": null,
      "outputs": []
    },
    {
      "cell_type": "code",
      "metadata": {
        "id": "pSMxn0CPHQH2"
      },
      "source": [
        ""
      ],
      "execution_count": null,
      "outputs": []
    }
  ]
}